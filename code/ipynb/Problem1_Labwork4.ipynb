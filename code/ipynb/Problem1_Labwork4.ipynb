{
  "nbformat": 4,
  "nbformat_minor": 0,
  "metadata": {
    "colab": {
      "name": "Prob1_Lab4.ipynb",
      "provenance": [],
      "collapsed_sections": [
        "srn_QDxBhcRQ",
        "8fT1gUB8s2zY",
        "SKL0jRf5tf0o"
      ],
      "machine_shape": "hm",
      "toc_visible": true
    },
    "kernelspec": {
      "name": "python3",
      "display_name": "Python 3"
    },
    "language_info": {
      "name": "python"
    },
    "accelerator": "GPU",
    "gpuClass": "standard",
    "widgets": {
      "application/vnd.jupyter.widget-state+json": {
        "14b482c726474577bafbce4ac10b8250": {
          "model_module": "@jupyter-widgets/controls",
          "model_name": "HBoxModel",
          "model_module_version": "1.5.0",
          "state": {
            "_dom_classes": [],
            "_model_module": "@jupyter-widgets/controls",
            "_model_module_version": "1.5.0",
            "_model_name": "HBoxModel",
            "_view_count": null,
            "_view_module": "@jupyter-widgets/controls",
            "_view_module_version": "1.5.0",
            "_view_name": "HBoxView",
            "box_style": "",
            "children": [
              "IPY_MODEL_ef558d27d0444f87aae9fdc3f1c94d63",
              "IPY_MODEL_c040289318384b878fc2a4a5af13132e",
              "IPY_MODEL_f8524eab2de24bd8b5892171aa8f3050"
            ],
            "layout": "IPY_MODEL_0a66521c1b934062905d2bf630d43ee7"
          }
        },
        "ef558d27d0444f87aae9fdc3f1c94d63": {
          "model_module": "@jupyter-widgets/controls",
          "model_name": "HTMLModel",
          "model_module_version": "1.5.0",
          "state": {
            "_dom_classes": [],
            "_model_module": "@jupyter-widgets/controls",
            "_model_module_version": "1.5.0",
            "_model_name": "HTMLModel",
            "_view_count": null,
            "_view_module": "@jupyter-widgets/controls",
            "_view_module_version": "1.5.0",
            "_view_name": "HTMLView",
            "description": "",
            "description_tooltip": null,
            "layout": "IPY_MODEL_21e2ca35fdc6455b9833807ed5a117b0",
            "placeholder": "​",
            "style": "IPY_MODEL_b4de5793087e47bd931bbf8159e4a8c0",
            "value": "100%"
          }
        },
        "c040289318384b878fc2a4a5af13132e": {
          "model_module": "@jupyter-widgets/controls",
          "model_name": "FloatProgressModel",
          "model_module_version": "1.5.0",
          "state": {
            "_dom_classes": [],
            "_model_module": "@jupyter-widgets/controls",
            "_model_module_version": "1.5.0",
            "_model_name": "FloatProgressModel",
            "_view_count": null,
            "_view_module": "@jupyter-widgets/controls",
            "_view_module_version": "1.5.0",
            "_view_name": "ProgressView",
            "bar_style": "success",
            "description": "",
            "description_tooltip": null,
            "layout": "IPY_MODEL_742e70e4aed643079370f04c9e46b950",
            "max": 553433881,
            "min": 0,
            "orientation": "horizontal",
            "style": "IPY_MODEL_34118fcaa19c4ba582f15287a285e0a2",
            "value": 553433881
          }
        },
        "f8524eab2de24bd8b5892171aa8f3050": {
          "model_module": "@jupyter-widgets/controls",
          "model_name": "HTMLModel",
          "model_module_version": "1.5.0",
          "state": {
            "_dom_classes": [],
            "_model_module": "@jupyter-widgets/controls",
            "_model_module_version": "1.5.0",
            "_model_name": "HTMLModel",
            "_view_count": null,
            "_view_module": "@jupyter-widgets/controls",
            "_view_module_version": "1.5.0",
            "_view_name": "HTMLView",
            "description": "",
            "description_tooltip": null,
            "layout": "IPY_MODEL_9d3fd088dda54a4690f5199ab45ef9bc",
            "placeholder": "​",
            "style": "IPY_MODEL_1b1144732e104e299e54545b4dbf03ed",
            "value": " 528M/528M [00:07&lt;00:00, 70.7MB/s]"
          }
        },
        "0a66521c1b934062905d2bf630d43ee7": {
          "model_module": "@jupyter-widgets/base",
          "model_name": "LayoutModel",
          "model_module_version": "1.2.0",
          "state": {
            "_model_module": "@jupyter-widgets/base",
            "_model_module_version": "1.2.0",
            "_model_name": "LayoutModel",
            "_view_count": null,
            "_view_module": "@jupyter-widgets/base",
            "_view_module_version": "1.2.0",
            "_view_name": "LayoutView",
            "align_content": null,
            "align_items": null,
            "align_self": null,
            "border": null,
            "bottom": null,
            "display": null,
            "flex": null,
            "flex_flow": null,
            "grid_area": null,
            "grid_auto_columns": null,
            "grid_auto_flow": null,
            "grid_auto_rows": null,
            "grid_column": null,
            "grid_gap": null,
            "grid_row": null,
            "grid_template_areas": null,
            "grid_template_columns": null,
            "grid_template_rows": null,
            "height": null,
            "justify_content": null,
            "justify_items": null,
            "left": null,
            "margin": null,
            "max_height": null,
            "max_width": null,
            "min_height": null,
            "min_width": null,
            "object_fit": null,
            "object_position": null,
            "order": null,
            "overflow": null,
            "overflow_x": null,
            "overflow_y": null,
            "padding": null,
            "right": null,
            "top": null,
            "visibility": null,
            "width": null
          }
        },
        "21e2ca35fdc6455b9833807ed5a117b0": {
          "model_module": "@jupyter-widgets/base",
          "model_name": "LayoutModel",
          "model_module_version": "1.2.0",
          "state": {
            "_model_module": "@jupyter-widgets/base",
            "_model_module_version": "1.2.0",
            "_model_name": "LayoutModel",
            "_view_count": null,
            "_view_module": "@jupyter-widgets/base",
            "_view_module_version": "1.2.0",
            "_view_name": "LayoutView",
            "align_content": null,
            "align_items": null,
            "align_self": null,
            "border": null,
            "bottom": null,
            "display": null,
            "flex": null,
            "flex_flow": null,
            "grid_area": null,
            "grid_auto_columns": null,
            "grid_auto_flow": null,
            "grid_auto_rows": null,
            "grid_column": null,
            "grid_gap": null,
            "grid_row": null,
            "grid_template_areas": null,
            "grid_template_columns": null,
            "grid_template_rows": null,
            "height": null,
            "justify_content": null,
            "justify_items": null,
            "left": null,
            "margin": null,
            "max_height": null,
            "max_width": null,
            "min_height": null,
            "min_width": null,
            "object_fit": null,
            "object_position": null,
            "order": null,
            "overflow": null,
            "overflow_x": null,
            "overflow_y": null,
            "padding": null,
            "right": null,
            "top": null,
            "visibility": null,
            "width": null
          }
        },
        "b4de5793087e47bd931bbf8159e4a8c0": {
          "model_module": "@jupyter-widgets/controls",
          "model_name": "DescriptionStyleModel",
          "model_module_version": "1.5.0",
          "state": {
            "_model_module": "@jupyter-widgets/controls",
            "_model_module_version": "1.5.0",
            "_model_name": "DescriptionStyleModel",
            "_view_count": null,
            "_view_module": "@jupyter-widgets/base",
            "_view_module_version": "1.2.0",
            "_view_name": "StyleView",
            "description_width": ""
          }
        },
        "742e70e4aed643079370f04c9e46b950": {
          "model_module": "@jupyter-widgets/base",
          "model_name": "LayoutModel",
          "model_module_version": "1.2.0",
          "state": {
            "_model_module": "@jupyter-widgets/base",
            "_model_module_version": "1.2.0",
            "_model_name": "LayoutModel",
            "_view_count": null,
            "_view_module": "@jupyter-widgets/base",
            "_view_module_version": "1.2.0",
            "_view_name": "LayoutView",
            "align_content": null,
            "align_items": null,
            "align_self": null,
            "border": null,
            "bottom": null,
            "display": null,
            "flex": null,
            "flex_flow": null,
            "grid_area": null,
            "grid_auto_columns": null,
            "grid_auto_flow": null,
            "grid_auto_rows": null,
            "grid_column": null,
            "grid_gap": null,
            "grid_row": null,
            "grid_template_areas": null,
            "grid_template_columns": null,
            "grid_template_rows": null,
            "height": null,
            "justify_content": null,
            "justify_items": null,
            "left": null,
            "margin": null,
            "max_height": null,
            "max_width": null,
            "min_height": null,
            "min_width": null,
            "object_fit": null,
            "object_position": null,
            "order": null,
            "overflow": null,
            "overflow_x": null,
            "overflow_y": null,
            "padding": null,
            "right": null,
            "top": null,
            "visibility": null,
            "width": null
          }
        },
        "34118fcaa19c4ba582f15287a285e0a2": {
          "model_module": "@jupyter-widgets/controls",
          "model_name": "ProgressStyleModel",
          "model_module_version": "1.5.0",
          "state": {
            "_model_module": "@jupyter-widgets/controls",
            "_model_module_version": "1.5.0",
            "_model_name": "ProgressStyleModel",
            "_view_count": null,
            "_view_module": "@jupyter-widgets/base",
            "_view_module_version": "1.2.0",
            "_view_name": "StyleView",
            "bar_color": null,
            "description_width": ""
          }
        },
        "9d3fd088dda54a4690f5199ab45ef9bc": {
          "model_module": "@jupyter-widgets/base",
          "model_name": "LayoutModel",
          "model_module_version": "1.2.0",
          "state": {
            "_model_module": "@jupyter-widgets/base",
            "_model_module_version": "1.2.0",
            "_model_name": "LayoutModel",
            "_view_count": null,
            "_view_module": "@jupyter-widgets/base",
            "_view_module_version": "1.2.0",
            "_view_name": "LayoutView",
            "align_content": null,
            "align_items": null,
            "align_self": null,
            "border": null,
            "bottom": null,
            "display": null,
            "flex": null,
            "flex_flow": null,
            "grid_area": null,
            "grid_auto_columns": null,
            "grid_auto_flow": null,
            "grid_auto_rows": null,
            "grid_column": null,
            "grid_gap": null,
            "grid_row": null,
            "grid_template_areas": null,
            "grid_template_columns": null,
            "grid_template_rows": null,
            "height": null,
            "justify_content": null,
            "justify_items": null,
            "left": null,
            "margin": null,
            "max_height": null,
            "max_width": null,
            "min_height": null,
            "min_width": null,
            "object_fit": null,
            "object_position": null,
            "order": null,
            "overflow": null,
            "overflow_x": null,
            "overflow_y": null,
            "padding": null,
            "right": null,
            "top": null,
            "visibility": null,
            "width": null
          }
        },
        "1b1144732e104e299e54545b4dbf03ed": {
          "model_module": "@jupyter-widgets/controls",
          "model_name": "DescriptionStyleModel",
          "model_module_version": "1.5.0",
          "state": {
            "_model_module": "@jupyter-widgets/controls",
            "_model_module_version": "1.5.0",
            "_model_name": "DescriptionStyleModel",
            "_view_count": null,
            "_view_module": "@jupyter-widgets/base",
            "_view_module_version": "1.2.0",
            "_view_name": "StyleView",
            "description_width": ""
          }
        }
      }
    }
  },
  "cells": [
    {
      "cell_type": "markdown",
      "source": [
        "## Import library"
      ],
      "metadata": {
        "id": "FbnKLTlZndZl"
      }
    },
    {
      "cell_type": "code",
      "source": [
        "import torch\n",
        "import torch.nn as nn\n",
        "import torch.nn.functional as F\n",
        "import torchvision\n",
        "import torchvision.transforms as transforms\n",
        "from torch.utils.data import DataLoader\n",
        "import seaborn as sns\n",
        "import numpy as np\n",
        "from torch.utils.data import random_split\n",
        "from torchvision import models\n",
        "import torchvision as tv\n",
        "import torch.optim as optim"
      ],
      "metadata": {
        "id": "3_fA2wF5GPwK"
      },
      "execution_count": null,
      "outputs": []
    },
    {
      "cell_type": "code",
      "source": [
        "MODEL_NAME_1 = \"cifar_model\"\n",
        "BATCH_SIZE= 40 \n",
        "num_epochs= 10 \n",
        "weight_decay=1e-4\n",
        "learning_rate = 0.001 \n",
        "class_size=10\n",
        "device = \"cuda\" if torch.cuda.is_available() else \"cpu\""
      ],
      "metadata": {
        "id": "GHvk4vQ77RJl"
      },
      "execution_count": null,
      "outputs": []
    },
    {
      "cell_type": "markdown",
      "source": [
        "## Loading and preparing data"
      ],
      "metadata": {
        "id": "v6fUxb0Zn1Tq"
      }
    },
    {
      "cell_type": "code",
      "execution_count": null,
      "metadata": {
        "id": "dATrVoRk5yGU",
        "colab": {
          "base_uri": "https://localhost:8080/"
        },
        "outputId": "331bb48c-6f27-4c13-f61c-532ad6a8fe0c"
      },
      "outputs": [
        {
          "output_type": "stream",
          "name": "stdout",
          "text": [
            "Files already downloaded and verified\n",
            "Files already downloaded and verified\n"
          ]
        }
      ],
      "source": [
        "transform = transforms.Compose([\n",
        "                                transforms.Resize((224, 224)),\n",
        "                                transforms.RandomHorizontalFlip(p=0.7),\n",
        "                                transforms.ToTensor(),\n",
        "                                transforms.Normalize((0.4914, 0.4822, 0.4465), (0.2023, 0.1994, 0.2010))\n",
        "                                ])\n",
        "\n",
        "train_dataset = tv.datasets.CIFAR10(root=\"./\", \n",
        "                                    train=True,\n",
        "                                    transform= transform,\n",
        "                                    download=True)\n",
        "\n",
        "test_dataset = tv.datasets.CIFAR10(root=\"./\", \n",
        "                                   train=False,\n",
        "                                   transform= transform,\n",
        "                                   download=True)\n",
        "\n",
        "train_loader = torch.utils.data.DataLoader(dataset = train_dataset, \n",
        "                                           batch_size = BATCH_SIZE, \n",
        "                                           shuffle = True)\n",
        "\n",
        "test_loader = torch.utils.data.DataLoader(dataset = test_dataset, \n",
        "                                          batch_size = BATCH_SIZE, \n",
        "                                          shuffle = False)"
      ]
    },
    {
      "cell_type": "markdown",
      "source": [
        "## Load model VGG-16"
      ],
      "metadata": {
        "id": "1--BG7TfKXlF"
      }
    },
    {
      "cell_type": "code",
      "source": [
        "vgg16= models.vgg16(pretrained= True)\n",
        "vgg16"
      ],
      "metadata": {
        "id": "Ur37eorb8yaR",
        "colab": {
          "base_uri": "https://localhost:8080/",
          "height": 848,
          "referenced_widgets": [
            "14b482c726474577bafbce4ac10b8250",
            "ef558d27d0444f87aae9fdc3f1c94d63",
            "c040289318384b878fc2a4a5af13132e",
            "f8524eab2de24bd8b5892171aa8f3050",
            "0a66521c1b934062905d2bf630d43ee7",
            "21e2ca35fdc6455b9833807ed5a117b0",
            "b4de5793087e47bd931bbf8159e4a8c0",
            "742e70e4aed643079370f04c9e46b950",
            "34118fcaa19c4ba582f15287a285e0a2",
            "9d3fd088dda54a4690f5199ab45ef9bc",
            "1b1144732e104e299e54545b4dbf03ed"
          ]
        },
        "outputId": "9c1cfe7e-f03a-4817-b73d-0390efec188c"
      },
      "execution_count": null,
      "outputs": [
        {
          "output_type": "stream",
          "name": "stderr",
          "text": [
            "Downloading: \"https://download.pytorch.org/models/vgg16-397923af.pth\" to /root/.cache/torch/hub/checkpoints/vgg16-397923af.pth\n"
          ]
        },
        {
          "output_type": "display_data",
          "data": {
            "text/plain": [
              "  0%|          | 0.00/528M [00:00<?, ?B/s]"
            ],
            "application/vnd.jupyter.widget-view+json": {
              "version_major": 2,
              "version_minor": 0,
              "model_id": "14b482c726474577bafbce4ac10b8250"
            }
          },
          "metadata": {}
        },
        {
          "output_type": "execute_result",
          "data": {
            "text/plain": [
              "VGG(\n",
              "  (features): Sequential(\n",
              "    (0): Conv2d(3, 64, kernel_size=(3, 3), stride=(1, 1), padding=(1, 1))\n",
              "    (1): ReLU(inplace=True)\n",
              "    (2): Conv2d(64, 64, kernel_size=(3, 3), stride=(1, 1), padding=(1, 1))\n",
              "    (3): ReLU(inplace=True)\n",
              "    (4): MaxPool2d(kernel_size=2, stride=2, padding=0, dilation=1, ceil_mode=False)\n",
              "    (5): Conv2d(64, 128, kernel_size=(3, 3), stride=(1, 1), padding=(1, 1))\n",
              "    (6): ReLU(inplace=True)\n",
              "    (7): Conv2d(128, 128, kernel_size=(3, 3), stride=(1, 1), padding=(1, 1))\n",
              "    (8): ReLU(inplace=True)\n",
              "    (9): MaxPool2d(kernel_size=2, stride=2, padding=0, dilation=1, ceil_mode=False)\n",
              "    (10): Conv2d(128, 256, kernel_size=(3, 3), stride=(1, 1), padding=(1, 1))\n",
              "    (11): ReLU(inplace=True)\n",
              "    (12): Conv2d(256, 256, kernel_size=(3, 3), stride=(1, 1), padding=(1, 1))\n",
              "    (13): ReLU(inplace=True)\n",
              "    (14): Conv2d(256, 256, kernel_size=(3, 3), stride=(1, 1), padding=(1, 1))\n",
              "    (15): ReLU(inplace=True)\n",
              "    (16): MaxPool2d(kernel_size=2, stride=2, padding=0, dilation=1, ceil_mode=False)\n",
              "    (17): Conv2d(256, 512, kernel_size=(3, 3), stride=(1, 1), padding=(1, 1))\n",
              "    (18): ReLU(inplace=True)\n",
              "    (19): Conv2d(512, 512, kernel_size=(3, 3), stride=(1, 1), padding=(1, 1))\n",
              "    (20): ReLU(inplace=True)\n",
              "    (21): Conv2d(512, 512, kernel_size=(3, 3), stride=(1, 1), padding=(1, 1))\n",
              "    (22): ReLU(inplace=True)\n",
              "    (23): MaxPool2d(kernel_size=2, stride=2, padding=0, dilation=1, ceil_mode=False)\n",
              "    (24): Conv2d(512, 512, kernel_size=(3, 3), stride=(1, 1), padding=(1, 1))\n",
              "    (25): ReLU(inplace=True)\n",
              "    (26): Conv2d(512, 512, kernel_size=(3, 3), stride=(1, 1), padding=(1, 1))\n",
              "    (27): ReLU(inplace=True)\n",
              "    (28): Conv2d(512, 512, kernel_size=(3, 3), stride=(1, 1), padding=(1, 1))\n",
              "    (29): ReLU(inplace=True)\n",
              "    (30): MaxPool2d(kernel_size=2, stride=2, padding=0, dilation=1, ceil_mode=False)\n",
              "  )\n",
              "  (avgpool): AdaptiveAvgPool2d(output_size=(7, 7))\n",
              "  (classifier): Sequential(\n",
              "    (0): Linear(in_features=25088, out_features=4096, bias=True)\n",
              "    (1): ReLU(inplace=True)\n",
              "    (2): Dropout(p=0.5, inplace=False)\n",
              "    (3): Linear(in_features=4096, out_features=4096, bias=True)\n",
              "    (4): ReLU(inplace=True)\n",
              "    (5): Dropout(p=0.5, inplace=False)\n",
              "    (6): Linear(in_features=4096, out_features=1000, bias=True)\n",
              "  )\n",
              ")"
            ]
          },
          "metadata": {},
          "execution_count": 4
        }
      ]
    },
    {
      "cell_type": "markdown",
      "source": [
        "## Train function"
      ],
      "metadata": {
        "id": "xLTrO9jCaBL4"
      }
    },
    {
      "cell_type": "code",
      "source": [
        "def train(model, train_dataloader):\n",
        "    model.train()\n",
        "    train_running_loss = 0.0\n",
        "    train_running_correct = 0\n",
        "    for i, data in enumerate(train_dataloader):\n",
        "        data, target = data[0].to(device), data[1].to(device)\n",
        "        optimizer.zero_grad()\n",
        "        output = model(data)\n",
        "        loss = criterion(output, target)\n",
        "        train_running_loss += loss.item()\n",
        "        _, preds = torch.max(output.data, 1)\n",
        "        train_running_correct += (preds == target).sum().item()\n",
        "        loss.backward()\n",
        "        optimizer.step()\n",
        "    train_loss = train_running_loss/len(train_dataloader.dataset)\n",
        "    train_accuracy = 100. * train_running_correct/len(train_dataloader.dataset)\n",
        "    print(f'Train Loss: {train_loss:.4f}, Train Acc: {train_accuracy:.2f}')\n",
        "    print()\n",
        "    \n",
        "    return train_loss, train_accuracy"
      ],
      "metadata": {
        "id": "B7iYGwEX9UTH"
      },
      "execution_count": null,
      "outputs": []
    },
    {
      "cell_type": "markdown",
      "source": [
        "## Test function"
      ],
      "metadata": {
        "id": "icZF9iwJaWpZ"
      }
    },
    {
      "cell_type": "code",
      "source": [
        "def test(model, test_dataloader):\n",
        "    model.eval()\n",
        "    test_running_loss = 0.0\n",
        "\n",
        "    total = len(test_loader.dataset)\n",
        "\n",
        "    test_running_correct = 0\n",
        "    for int, data in enumerate(test_dataloader):\n",
        "        data, target = data[0].to(device), data[1].to(device)\n",
        "        output = model(data)\n",
        "        loss = criterion(output, target)\n",
        "        \n",
        "        test_running_loss += loss.item()\n",
        "        _, preds = torch.max(output.data, 1)\n",
        "        test_running_correct += (preds == target).sum().item()\n",
        "    \n",
        "    test_loss = test_running_loss/len(test_dataloader.dataset)\n",
        "    test_accuracy = 100. * test_running_correct/len(test_dataloader.dataset)\n",
        "\n",
        "    return test_loss, test_accuracy"
      ],
      "metadata": {
        "id": "P9lgfz07DFat"
      },
      "execution_count": null,
      "outputs": []
    },
    {
      "cell_type": "code",
      "source": [
        "def test_correct(model):\n",
        "  total = len(test_loader.dataset)\n",
        "  val_running_correct = 0\n",
        "  model = model.to(device)\n",
        "  # model.load_state_dict(torch.load(MODEL_NAME))\n",
        "  model.eval()\n",
        "  for int, data in enumerate(test_loader):\n",
        "    data, target = data[0].to(device), data[1].to(device)\n",
        "    output = model(data)\n",
        "    loss = criterion(output, target)\n",
        "        \n",
        "    _, preds = torch.max(output.data, 1)\n",
        "    val_running_correct += (preds == target).sum().item()\n",
        "    \n",
        "    val_accuracy = 100. * val_running_correct/len(test_loader.dataset)\n",
        "\n",
        "  print(\"correct\", val_running_correct)\n",
        "  print(\"total:\", total)\n",
        "  print(\"accuracy:\", val_accuracy)"
      ],
      "metadata": {
        "id": "tmAbK0k8sxTb"
      },
      "execution_count": null,
      "outputs": []
    },
    {
      "cell_type": "markdown",
      "source": [
        "## Training"
      ],
      "metadata": {
        "id": "Bdngf3_ydCXn"
      }
    },
    {
      "cell_type": "markdown",
      "source": [
        "### First training"
      ],
      "metadata": {
        "id": "_yr75FGPYHG9"
      }
    },
    {
      "cell_type": "markdown",
      "source": [
        "On the first training, keep the feature layers and classifier layers the same, learning rate = 0.001, optimizer = SGD and epochs = 10, batch_size = 32"
      ],
      "metadata": {
        "id": "pA8Mj2qEdM1j"
      }
    },
    {
      "cell_type": "code",
      "source": [
        "BATCH_SIZE = 32 \n",
        "optimizer = optim.SGD(vgg16.classifier.parameters(), lr=0.001)\n",
        "criterion = nn.CrossEntropyLoss()"
      ],
      "metadata": {
        "id": "0gi4k3Grqc9S"
      },
      "execution_count": null,
      "outputs": []
    },
    {
      "cell_type": "code",
      "source": [
        "train_loss , train_accuracy = [], []\n",
        "test_loss , test_accuracy = [], []\n",
        "model = vgg16.to(device)\n",
        "\n",
        "for epoch in range(10):\n",
        "    train_epoch_loss, train_epoch_accuracy = train(model, train_loader)\n",
        "    test_epoch_loss, test_epoch_accuracy = test(model, test_loader)\n",
        "    train_loss.append(train_epoch_loss)\n",
        "    train_accuracy.append(train_epoch_accuracy)\n",
        "    test_loss.append(test_epoch_loss)\n",
        "    test_accuracy.append(test_epoch_accuracy)"
      ],
      "metadata": {
        "id": "T_Gxc6aMsNFX"
      },
      "execution_count": null,
      "outputs": []
    },
    {
      "cell_type": "code",
      "source": [
        "test_correct(vgg16)"
      ],
      "metadata": {
        "id": "HD6WKJ2rvReJ"
      },
      "execution_count": null,
      "outputs": []
    },
    {
      "cell_type": "code",
      "source": [
        "import matplotlib.pyplot as plt\n",
        "plt.figure(figsize=(15, 10))\n",
        "plt.figure(0)\n",
        "plt.plot(train_accuracy, color='green', label='train accuracy')\n",
        "plt.plot(test_accuracy, color='blue', label='test accuracy')\n",
        "plt.title('Accuracy')\n",
        "plt.xlabel('epochs')\n",
        "plt.ylabel('accuracy')\n",
        "plt.legend()\n",
        "plt.show()\n",
        "\n",
        "plt.figure(1)\n",
        "plt.plot(train_loss, color='green', label='train loss')\n",
        "plt.plot(test_loss, color='blue', label='test loss')\n",
        "plt.title('Loss')\n",
        "plt.xlabel('epochs')\n",
        "plt.ylabel('loss')\n",
        "plt.legend()\n",
        "plt.show()"
      ],
      "metadata": {
        "id": "8ps6_Yo69-vy"
      },
      "execution_count": null,
      "outputs": []
    },
    {
      "cell_type": "markdown",
      "source": [
        "### Second training"
      ],
      "metadata": {
        "id": "MoMQfS2Dc3nx"
      }
    },
    {
      "cell_type": "markdown",
      "source": [
        "Add 1 Dropout layer with p = 0.3, out_features = 10, learning rate = 0.001, optimizer = SGD, epochs = 10"
      ],
      "metadata": {
        "id": "UjZ4D6-ioyzY"
      }
    },
    {
      "cell_type": "code",
      "source": [
        "model_config_2 = torchvision.models.vgg16(pretrained=True)\n",
        "model_config_2.to(device)\n",
        "classes_list = list(model_config_2.classifier)\n",
        "new_classes_list = []\n",
        "new_classes_list.append(nn.Dropout(p=0.3, inplace=True))\n",
        "for cls in classes_list:\n",
        "    new_classes_list.append(cls)\n",
        "\n",
        "model_config_2.classifier = nn.Sequential(*new_classes_list)\n",
        "model_config_2.classifier"
      ],
      "metadata": {
        "id": "mRg_IbkmpCgH"
      },
      "execution_count": null,
      "outputs": []
    },
    {
      "cell_type": "code",
      "source": [
        "model_config_2.classifier[7].out_features = 10\n",
        "model_config_2.classifier"
      ],
      "metadata": {
        "id": "n-XvmP8kA76O"
      },
      "execution_count": null,
      "outputs": []
    },
    {
      "cell_type": "code",
      "source": [
        "optimizer = optim.SGD(model_config_2.classifier.parameters(), lr=0.001)\n",
        "criterion = nn.CrossEntropyLoss()"
      ],
      "metadata": {
        "id": "VnqlYcCCgVXF"
      },
      "execution_count": null,
      "outputs": []
    },
    {
      "cell_type": "code",
      "source": [
        "train_loss , train_accuracy = [], []\n",
        "test_loss , test_accuracy = [], []\n",
        "model = model_config_2.to(device)\n",
        "\n",
        "for epoch in range(10):\n",
        "    train_epoch_loss, train_epoch_accuracy = train(model, train_loader)\n",
        "    test_epoch_loss, test_epoch_accuracy = test(model, test_loader)\n",
        "    train_loss.append(train_epoch_loss)\n",
        "    train_accuracy.append(train_epoch_accuracy)\n",
        "    test_loss.append(test_epoch_loss)\n",
        "    test_accuracy.append(test_epoch_accuracy)"
      ],
      "metadata": {
        "id": "nnv75sd1grKW"
      },
      "execution_count": null,
      "outputs": []
    },
    {
      "cell_type": "code",
      "source": [
        "test_correct(model_config_2)"
      ],
      "metadata": {
        "id": "E7ng2vamhcum"
      },
      "execution_count": null,
      "outputs": []
    },
    {
      "cell_type": "code",
      "source": [
        "import matplotlib.pyplot as plt\n",
        "plt.figure(figsize=(10, 7))\n",
        "plt.figure(0)\n",
        "plt.plot(train_accuracy, color='green', label='train accuracy')\n",
        "plt.plot(test_accuracy, color='blue', label='test accuracy')\n",
        "plt.title('Accuracy')\n",
        "plt.xlabel('epochs')\n",
        "plt.ylabel('accuracy')\n",
        "plt.legend()\n",
        "plt.show()\n",
        "\n",
        "plt.figure(1)\n",
        "plt.plot(train_loss, color='green', label='train loss')\n",
        "plt.plot(test_loss, color='blue', label='test loss')\n",
        "plt.title('Loss')\n",
        "plt.xlabel('epochs')\n",
        "plt.ylabel('loss')\n",
        "plt.legend()\n",
        "plt.show()"
      ],
      "metadata": {
        "id": "MuF4VGkNALxx"
      },
      "execution_count": null,
      "outputs": []
    },
    {
      "cell_type": "markdown",
      "source": [
        "### Third training"
      ],
      "metadata": {
        "id": "srn_QDxBhcRQ"
      }
    },
    {
      "cell_type": "markdown",
      "source": [
        "Change the classifier layer of vgg16 (move the dropout layer at position [5] -> to position [0]), optimizer = SGD, learning rate = 0.001, weight_decay =5e-4, epochs=10"
      ],
      "metadata": {
        "id": "P-FuH6ZZhl_R"
      }
    },
    {
      "cell_type": "code",
      "source": [
        "model_config_3 = torchvision.models.vgg16(pretrained=True)\n",
        "model_config_3.to(device)\n",
        "classes_list = list(model_config_3.classifier)\n",
        "new_classes_list = []\n",
        "new_classes_list.append(nn.Dropout(p=0.5, inplace=True))\n",
        "for cls in classes_list:\n",
        "    if (cls != classes_list[5]):\n",
        "      new_classes_list.append(cls)\n",
        "\n",
        "model_config_3.classifier = nn.Sequential(*new_classes_list)\n",
        "model_config_3.classifier[6].out_features = 10\n",
        "model_config_3.classifier"
      ],
      "metadata": {
        "id": "hEwqsciYiOIX"
      },
      "execution_count": null,
      "outputs": []
    },
    {
      "cell_type": "code",
      "source": [
        "optimizer = optim.SGD(model_config_3.classifier.parameters(), lr=0.001, weight_decay=5e-4)\n",
        "criterion = nn.CrossEntropyLoss()"
      ],
      "metadata": {
        "id": "3fet2ywywjmN"
      },
      "execution_count": null,
      "outputs": []
    },
    {
      "cell_type": "code",
      "source": [
        "train_loss , train_accuracy = [], []\n",
        "test_loss , test_accuracy = [], []\n",
        "model = model_config_3.to(device)\n",
        "\n",
        "for epoch in range(10):\n",
        "    train_epoch_loss, train_epoch_accuracy = train(model, train_loader)\n",
        "    test_epoch_loss, test_epoch_accuracy = test(model, test_loader)\n",
        "    train_loss.append(train_epoch_loss)\n",
        "    train_accuracy.append(train_epoch_accuracy)\n",
        "    test_loss.append(test_epoch_loss)\n",
        "    test_accuracy.append(test_epoch_accuracy)"
      ],
      "metadata": {
        "id": "Jp3Xa92x00Ib"
      },
      "execution_count": null,
      "outputs": []
    },
    {
      "cell_type": "code",
      "source": [
        "test_correct(model_config_3)"
      ],
      "metadata": {
        "id": "0wh9EJXf1ZLb"
      },
      "execution_count": null,
      "outputs": []
    },
    {
      "cell_type": "code",
      "source": [
        "import matplotlib.pyplot as plt\n",
        "plt.figure(figsize=(10, 7))\n",
        "plt.figure(0)\n",
        "plt.plot(train_accuracy, color='green', label='train accuracy')\n",
        "plt.plot(test_accuracy, color='blue', label='test accuracy')\n",
        "plt.title('Accuracy')\n",
        "plt.xlabel('epochs')\n",
        "plt.ylabel('accuracy')\n",
        "plt.legend()\n",
        "plt.show()\n",
        "\n",
        "plt.figure(1)\n",
        "plt.plot(train_loss, color='green', label='train loss')\n",
        "plt.plot(test_loss, color='blue', label='test loss')\n",
        "plt.title('Loss')\n",
        "plt.xlabel('epochs')\n",
        "plt.ylabel('loss')\n",
        "plt.legend()\n",
        "plt.show()"
      ],
      "metadata": {
        "id": "f5Um9bBwANOx"
      },
      "execution_count": null,
      "outputs": []
    },
    {
      "cell_type": "markdown",
      "source": [
        "### Fourth training"
      ],
      "metadata": {
        "id": "8fT1gUB8s2zY"
      }
    },
    {
      "cell_type": "markdown",
      "source": [
        "Keeping feature classes and classifiers unchanged, epochs = 10, optimizer = Adam, learning rate = 0.0005 and weight_decay=0.001, out_features = 10"
      ],
      "metadata": {
        "id": "ImTdi00atSBq"
      }
    },
    {
      "cell_type": "code",
      "source": [
        "model_config_4 = torchvision.models.vgg16(pretrained=True)\n",
        "print(model_config_4.to(device))\n",
        "model_config_4.classifier[6].out_features = 10\n",
        "print(model_config_4.classifier)"
      ],
      "metadata": {
        "id": "qbpoIFapuYis"
      },
      "execution_count": null,
      "outputs": []
    },
    {
      "cell_type": "code",
      "source": [
        "optimizer = torch.optim.Adam(model_config_4.classifier.parameters(), lr=0.0005, weight_decay= 0.001) \n",
        "criterion = nn.CrossEntropyLoss()"
      ],
      "metadata": {
        "id": "gdyzRUsys6Ad"
      },
      "execution_count": null,
      "outputs": []
    },
    {
      "cell_type": "code",
      "source": [
        "train_loss , train_accuracy = [], []\n",
        "test_loss , test_accuracy = [], []\n",
        "model = model_config_4.to(device)\n",
        "\n",
        "for epoch in range(10):\n",
        "    train_epoch_loss, train_epoch_accuracy = train(model, train_loader)\n",
        "    test_epoch_loss, test_epoch_accuracy = test(model, test_loader)\n",
        "    train_loss.append(train_epoch_loss)\n",
        "    train_accuracy.append(train_epoch_accuracy)\n",
        "    test_loss.append(test_epoch_loss)\n",
        "    test_accuracy.append(test_epoch_accuracy)"
      ],
      "metadata": {
        "id": "9I7TGM9MuiRz"
      },
      "execution_count": null,
      "outputs": []
    },
    {
      "cell_type": "code",
      "source": [
        "test_correct(model_config_4)"
      ],
      "metadata": {
        "id": "myg6Mr-41bBE"
      },
      "execution_count": null,
      "outputs": []
    },
    {
      "cell_type": "code",
      "source": [
        "import matplotlib.pyplot as plt\n",
        "plt.figure(figsize=(10, 7))\n",
        "plt.figure(0)\n",
        "plt.plot(train_accuracy, color='green', label='train accuracy')\n",
        "plt.plot(test_accuracy, color='blue', label='test accuracy')\n",
        "plt.title('Accuracy')\n",
        "plt.xlabel('epochs')\n",
        "plt.ylabel('accuracy')\n",
        "plt.legend()\n",
        "plt.show()\n",
        "\n",
        "plt.figure(1)\n",
        "plt.plot(train_loss, color='green', label='train loss')\n",
        "plt.plot(test_loss, color='blue', label='test loss')\n",
        "plt.title('Loss')\n",
        "plt.xlabel('epochs')\n",
        "plt.ylabel('loss')\n",
        "plt.legend()\n",
        "plt.show()"
      ],
      "metadata": {
        "id": "ETgEfACnAOfy"
      },
      "execution_count": null,
      "outputs": []
    },
    {
      "cell_type": "markdown",
      "source": [
        "### Fifth training"
      ],
      "metadata": {
        "id": "SKL0jRf5tf0o"
      }
    },
    {
      "cell_type": "markdown",
      "source": [
        "Keep network layers intact + freeze feature layer + optimizer = Adam, learning rate = 0.0005, epochs=15, weight_decay=0.001, out_features = 10"
      ],
      "metadata": {
        "id": "KZj5Q9RotyjT"
      }
    },
    {
      "cell_type": "code",
      "source": [
        "for param in vgg16.features.parameters():\n",
        "    param.requires_grad = False"
      ],
      "metadata": {
        "id": "3Kyd_AXYOluq"
      },
      "execution_count": null,
      "outputs": []
    },
    {
      "cell_type": "code",
      "source": [
        "model_config_5 = torchvision.models.vgg16(pretrained=True)\n",
        "model_config_5.to(device)\n",
        "\n",
        "model_config_5.classifier[6].out_features = 10\n",
        "print(model_config_5.classifier)"
      ],
      "metadata": {
        "id": "5QdBpCkRtk6M"
      },
      "execution_count": null,
      "outputs": []
    },
    {
      "cell_type": "code",
      "source": [
        "optimizer = torch.optim.Adam(model_config_5.classifier.parameters(), lr=0.0005, weight_decay= 0.001) \n",
        "criterion = nn.CrossEntropyLoss()"
      ],
      "metadata": {
        "id": "B6tDHxUg2TCT"
      },
      "execution_count": null,
      "outputs": []
    },
    {
      "cell_type": "code",
      "source": [
        "train_loss , train_accuracy = [], []\n",
        "test_loss , test_accuracy = [], []\n",
        "model = model_config_5.to(device)\n",
        "\n",
        "for epoch in range(15):\n",
        "    train_epoch_loss, train_epoch_accuracy = train(model, train_loader)\n",
        "    test_epoch_loss, test_epoch_accuracy = test(model, test_loader)\n",
        "    train_loss.append(train_epoch_loss)\n",
        "    train_accuracy.append(train_epoch_accuracy)\n",
        "    test_loss.append(test_epoch_loss)\n",
        "    test_accuracy.append(test_epoch_accuracy)"
      ],
      "metadata": {
        "id": "v3IIhssR2lNh"
      },
      "execution_count": null,
      "outputs": []
    },
    {
      "cell_type": "code",
      "source": [
        "test_correct(model_config_5)"
      ],
      "metadata": {
        "id": "snmqkl2a2nRr"
      },
      "execution_count": null,
      "outputs": []
    },
    {
      "cell_type": "code",
      "source": [
        "import matplotlib.pyplot as plt\n",
        "plt.figure(figsize=(10, 7))\n",
        "plt.figure(0)\n",
        "plt.plot(train_accuracy, color='green', label='train accuracy')\n",
        "plt.plot(test_accuracy, color='blue', label='test accuracy')\n",
        "plt.title('Accuracy')\n",
        "plt.xlabel('epochs')\n",
        "plt.ylabel('accuracy')\n",
        "plt.legend()\n",
        "plt.show()\n",
        "\n",
        "plt.figure(1)\n",
        "plt.plot(train_loss, color='green', label='train loss')\n",
        "plt.plot(test_loss, color='blue', label='test loss')\n",
        "plt.title('Loss')\n",
        "plt.xlabel('epochs')\n",
        "plt.ylabel('loss')\n",
        "plt.legend()\n",
        "plt.show()"
      ],
      "metadata": {
        "id": "8jEZrnb0APuY"
      },
      "execution_count": null,
      "outputs": []
    },
    {
      "cell_type": "markdown",
      "source": [
        "### Last training"
      ],
      "metadata": {
        "id": "EQoVU6BDtn4U"
      }
    },
    {
      "cell_type": "markdown",
      "source": [
        "Add 1 dropout layer p = 0.3, optimizer = Adam, learning rate = 0.0005, weight_decay = 0.001 and epochs = 8, out_features = 10"
      ],
      "metadata": {
        "id": "HiLDKOPAtwrZ"
      }
    },
    {
      "cell_type": "code",
      "source": [
        "model_config_6 = torchvision.models.vgg16(pretrained=True)\n",
        "model_config_6.to(device)\n",
        "classes_list = list(model_config_6.classifier)\n",
        "new_classes_list = []\n",
        "new_classes_list.append(nn.Dropout(p=0.2, inplace=True))\n",
        "for cls in classes_list:\n",
        "    new_classes_list.append(cls)\n",
        "\n",
        "# modify convolution layers\n",
        "model_config_6.classifier = nn.Sequential(*new_classes_list)\n",
        "model_config_6.classifier\n",
        "\n",
        "model_config_6.classifier[7].out_features = 10\n",
        "model_config_6.classifier"
      ],
      "metadata": {
        "id": "Y9DvG6tRtmbp"
      },
      "execution_count": null,
      "outputs": []
    },
    {
      "cell_type": "code",
      "source": [
        "optimizer = torch.optim.Adam(model_config_6.classifier.parameters(), lr=0.0005, weight_decay= 0.001) \n",
        "criterion = nn.CrossEntropyLoss()"
      ],
      "metadata": {
        "id": "dgsFZlV72-n4"
      },
      "execution_count": null,
      "outputs": []
    },
    {
      "cell_type": "code",
      "source": [
        "train_loss , train_accuracy = [], []\n",
        "test_loss , test_accuracy = [], []\n",
        "model = model_config_6.to(device)\n",
        "\n",
        "for epoch in range(8):\n",
        "    train_epoch_loss, train_epoch_accuracy = train(model, train_loader)\n",
        "    test_epoch_loss, test_epoch_accuracy = test(model, test_loader)\n",
        "    train_loss.append(train_epoch_loss)\n",
        "    train_accuracy.append(train_epoch_accuracy)\n",
        "    test_loss.append(test_epoch_loss)\n",
        "    test_accuracy.append(test_epoch_accuracy)"
      ],
      "metadata": {
        "id": "HqIc38G73NUn"
      },
      "execution_count": null,
      "outputs": []
    },
    {
      "cell_type": "code",
      "source": [
        "test_correct(model_config_6)"
      ],
      "metadata": {
        "id": "i5Gi5b203VEc"
      },
      "execution_count": null,
      "outputs": []
    },
    {
      "cell_type": "code",
      "source": [
        "import matplotlib.pyplot as plt\n",
        "plt.figure(figsize=(10, 7))\n",
        "plt.figure(0)\n",
        "plt.plot(train_accuracy, color='green', label='train accuracy')\n",
        "plt.plot(test_accuracy, color='blue', label='test accuracy')\n",
        "plt.title('Accuracy')\n",
        "plt.xlabel('epochs')\n",
        "plt.ylabel('accuracy')\n",
        "plt.legend()\n",
        "plt.show()\n",
        "\n",
        "plt.figure(1)\n",
        "plt.plot(train_loss, color='green', label='train loss')\n",
        "plt.plot(test_loss, color='blue', label='test loss')\n",
        "plt.title('Loss')\n",
        "plt.xlabel('epochs')\n",
        "plt.ylabel('loss')\n",
        "plt.legend()\n",
        "plt.show()"
      ],
      "metadata": {
        "id": "o9Z8pOo7AR7N"
      },
      "execution_count": null,
      "outputs": []
    }
  ]
}