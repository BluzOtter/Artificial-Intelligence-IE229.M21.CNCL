{
  "nbformat": 4,
  "nbformat_minor": 0,
  "metadata": {
    "colab": {
      "name": "Prob1_Lab4.ipynb",
      "provenance": [],
      "collapsed_sections": [
        "FbnKLTlZndZl",
        "v6fUxb0Zn1Tq",
        "1--BG7TfKXlF",
        "xLTrO9jCaBL4",
        "icZF9iwJaWpZ",
        "_yr75FGPYHG9",
        "MoMQfS2Dc3nx"
      ],
      "toc_visible": true
    },
    "kernelspec": {
      "name": "python3",
      "display_name": "Python 3"
    },
    "language_info": {
      "name": "python"
    },
    "accelerator": "GPU",
    "gpuClass": "standard",
    "widgets": {
      "application/vnd.jupyter.widget-state+json": {
        "84a6a987a1574052b0a19b1338ca76cc": {
          "model_module": "@jupyter-widgets/controls",
          "model_name": "HBoxModel",
          "model_module_version": "1.5.0",
          "state": {
            "_dom_classes": [],
            "_model_module": "@jupyter-widgets/controls",
            "_model_module_version": "1.5.0",
            "_model_name": "HBoxModel",
            "_view_count": null,
            "_view_module": "@jupyter-widgets/controls",
            "_view_module_version": "1.5.0",
            "_view_name": "HBoxView",
            "box_style": "",
            "children": [
              "IPY_MODEL_ce6fa8dec1d8418ca44309124dd0462a",
              "IPY_MODEL_af28732868bc4f59814e0b52554a1437",
              "IPY_MODEL_7675dca7df534197a13651650561f654"
            ],
            "layout": "IPY_MODEL_dc7c39296a094c768d5425901a65ecb8"
          }
        },
        "ce6fa8dec1d8418ca44309124dd0462a": {
          "model_module": "@jupyter-widgets/controls",
          "model_name": "HTMLModel",
          "model_module_version": "1.5.0",
          "state": {
            "_dom_classes": [],
            "_model_module": "@jupyter-widgets/controls",
            "_model_module_version": "1.5.0",
            "_model_name": "HTMLModel",
            "_view_count": null,
            "_view_module": "@jupyter-widgets/controls",
            "_view_module_version": "1.5.0",
            "_view_name": "HTMLView",
            "description": "",
            "description_tooltip": null,
            "layout": "IPY_MODEL_df9a058b57ca410e8db072a22c3bcf60",
            "placeholder": "​",
            "style": "IPY_MODEL_cecb20239f06454ebf424e1027fbf7b5",
            "value": ""
          }
        },
        "af28732868bc4f59814e0b52554a1437": {
          "model_module": "@jupyter-widgets/controls",
          "model_name": "FloatProgressModel",
          "model_module_version": "1.5.0",
          "state": {
            "_dom_classes": [],
            "_model_module": "@jupyter-widgets/controls",
            "_model_module_version": "1.5.0",
            "_model_name": "FloatProgressModel",
            "_view_count": null,
            "_view_module": "@jupyter-widgets/controls",
            "_view_module_version": "1.5.0",
            "_view_name": "ProgressView",
            "bar_style": "success",
            "description": "",
            "description_tooltip": null,
            "layout": "IPY_MODEL_67a6cfd488234f6da0a874fcaba0342c",
            "max": 170498071,
            "min": 0,
            "orientation": "horizontal",
            "style": "IPY_MODEL_06671ee2b040444d988295c7f3647917",
            "value": 170498071
          }
        },
        "7675dca7df534197a13651650561f654": {
          "model_module": "@jupyter-widgets/controls",
          "model_name": "HTMLModel",
          "model_module_version": "1.5.0",
          "state": {
            "_dom_classes": [],
            "_model_module": "@jupyter-widgets/controls",
            "_model_module_version": "1.5.0",
            "_model_name": "HTMLModel",
            "_view_count": null,
            "_view_module": "@jupyter-widgets/controls",
            "_view_module_version": "1.5.0",
            "_view_name": "HTMLView",
            "description": "",
            "description_tooltip": null,
            "layout": "IPY_MODEL_0320a43d0bad40b8a240fa569593fccb",
            "placeholder": "​",
            "style": "IPY_MODEL_27aa6297da3d4fa6b0d51775329fb235",
            "value": " 170499072/? [00:13&lt;00:00, 13867660.80it/s]"
          }
        },
        "dc7c39296a094c768d5425901a65ecb8": {
          "model_module": "@jupyter-widgets/base",
          "model_name": "LayoutModel",
          "model_module_version": "1.2.0",
          "state": {
            "_model_module": "@jupyter-widgets/base",
            "_model_module_version": "1.2.0",
            "_model_name": "LayoutModel",
            "_view_count": null,
            "_view_module": "@jupyter-widgets/base",
            "_view_module_version": "1.2.0",
            "_view_name": "LayoutView",
            "align_content": null,
            "align_items": null,
            "align_self": null,
            "border": null,
            "bottom": null,
            "display": null,
            "flex": null,
            "flex_flow": null,
            "grid_area": null,
            "grid_auto_columns": null,
            "grid_auto_flow": null,
            "grid_auto_rows": null,
            "grid_column": null,
            "grid_gap": null,
            "grid_row": null,
            "grid_template_areas": null,
            "grid_template_columns": null,
            "grid_template_rows": null,
            "height": null,
            "justify_content": null,
            "justify_items": null,
            "left": null,
            "margin": null,
            "max_height": null,
            "max_width": null,
            "min_height": null,
            "min_width": null,
            "object_fit": null,
            "object_position": null,
            "order": null,
            "overflow": null,
            "overflow_x": null,
            "overflow_y": null,
            "padding": null,
            "right": null,
            "top": null,
            "visibility": null,
            "width": null
          }
        },
        "df9a058b57ca410e8db072a22c3bcf60": {
          "model_module": "@jupyter-widgets/base",
          "model_name": "LayoutModel",
          "model_module_version": "1.2.0",
          "state": {
            "_model_module": "@jupyter-widgets/base",
            "_model_module_version": "1.2.0",
            "_model_name": "LayoutModel",
            "_view_count": null,
            "_view_module": "@jupyter-widgets/base",
            "_view_module_version": "1.2.0",
            "_view_name": "LayoutView",
            "align_content": null,
            "align_items": null,
            "align_self": null,
            "border": null,
            "bottom": null,
            "display": null,
            "flex": null,
            "flex_flow": null,
            "grid_area": null,
            "grid_auto_columns": null,
            "grid_auto_flow": null,
            "grid_auto_rows": null,
            "grid_column": null,
            "grid_gap": null,
            "grid_row": null,
            "grid_template_areas": null,
            "grid_template_columns": null,
            "grid_template_rows": null,
            "height": null,
            "justify_content": null,
            "justify_items": null,
            "left": null,
            "margin": null,
            "max_height": null,
            "max_width": null,
            "min_height": null,
            "min_width": null,
            "object_fit": null,
            "object_position": null,
            "order": null,
            "overflow": null,
            "overflow_x": null,
            "overflow_y": null,
            "padding": null,
            "right": null,
            "top": null,
            "visibility": null,
            "width": null
          }
        },
        "cecb20239f06454ebf424e1027fbf7b5": {
          "model_module": "@jupyter-widgets/controls",
          "model_name": "DescriptionStyleModel",
          "model_module_version": "1.5.0",
          "state": {
            "_model_module": "@jupyter-widgets/controls",
            "_model_module_version": "1.5.0",
            "_model_name": "DescriptionStyleModel",
            "_view_count": null,
            "_view_module": "@jupyter-widgets/base",
            "_view_module_version": "1.2.0",
            "_view_name": "StyleView",
            "description_width": ""
          }
        },
        "67a6cfd488234f6da0a874fcaba0342c": {
          "model_module": "@jupyter-widgets/base",
          "model_name": "LayoutModel",
          "model_module_version": "1.2.0",
          "state": {
            "_model_module": "@jupyter-widgets/base",
            "_model_module_version": "1.2.0",
            "_model_name": "LayoutModel",
            "_view_count": null,
            "_view_module": "@jupyter-widgets/base",
            "_view_module_version": "1.2.0",
            "_view_name": "LayoutView",
            "align_content": null,
            "align_items": null,
            "align_self": null,
            "border": null,
            "bottom": null,
            "display": null,
            "flex": null,
            "flex_flow": null,
            "grid_area": null,
            "grid_auto_columns": null,
            "grid_auto_flow": null,
            "grid_auto_rows": null,
            "grid_column": null,
            "grid_gap": null,
            "grid_row": null,
            "grid_template_areas": null,
            "grid_template_columns": null,
            "grid_template_rows": null,
            "height": null,
            "justify_content": null,
            "justify_items": null,
            "left": null,
            "margin": null,
            "max_height": null,
            "max_width": null,
            "min_height": null,
            "min_width": null,
            "object_fit": null,
            "object_position": null,
            "order": null,
            "overflow": null,
            "overflow_x": null,
            "overflow_y": null,
            "padding": null,
            "right": null,
            "top": null,
            "visibility": null,
            "width": null
          }
        },
        "06671ee2b040444d988295c7f3647917": {
          "model_module": "@jupyter-widgets/controls",
          "model_name": "ProgressStyleModel",
          "model_module_version": "1.5.0",
          "state": {
            "_model_module": "@jupyter-widgets/controls",
            "_model_module_version": "1.5.0",
            "_model_name": "ProgressStyleModel",
            "_view_count": null,
            "_view_module": "@jupyter-widgets/base",
            "_view_module_version": "1.2.0",
            "_view_name": "StyleView",
            "bar_color": null,
            "description_width": ""
          }
        },
        "0320a43d0bad40b8a240fa569593fccb": {
          "model_module": "@jupyter-widgets/base",
          "model_name": "LayoutModel",
          "model_module_version": "1.2.0",
          "state": {
            "_model_module": "@jupyter-widgets/base",
            "_model_module_version": "1.2.0",
            "_model_name": "LayoutModel",
            "_view_count": null,
            "_view_module": "@jupyter-widgets/base",
            "_view_module_version": "1.2.0",
            "_view_name": "LayoutView",
            "align_content": null,
            "align_items": null,
            "align_self": null,
            "border": null,
            "bottom": null,
            "display": null,
            "flex": null,
            "flex_flow": null,
            "grid_area": null,
            "grid_auto_columns": null,
            "grid_auto_flow": null,
            "grid_auto_rows": null,
            "grid_column": null,
            "grid_gap": null,
            "grid_row": null,
            "grid_template_areas": null,
            "grid_template_columns": null,
            "grid_template_rows": null,
            "height": null,
            "justify_content": null,
            "justify_items": null,
            "left": null,
            "margin": null,
            "max_height": null,
            "max_width": null,
            "min_height": null,
            "min_width": null,
            "object_fit": null,
            "object_position": null,
            "order": null,
            "overflow": null,
            "overflow_x": null,
            "overflow_y": null,
            "padding": null,
            "right": null,
            "top": null,
            "visibility": null,
            "width": null
          }
        },
        "27aa6297da3d4fa6b0d51775329fb235": {
          "model_module": "@jupyter-widgets/controls",
          "model_name": "DescriptionStyleModel",
          "model_module_version": "1.5.0",
          "state": {
            "_model_module": "@jupyter-widgets/controls",
            "_model_module_version": "1.5.0",
            "_model_name": "DescriptionStyleModel",
            "_view_count": null,
            "_view_module": "@jupyter-widgets/base",
            "_view_module_version": "1.2.0",
            "_view_name": "StyleView",
            "description_width": ""
          }
        },
        "71b30159a5264b1a8ff6997cf2ffff63": {
          "model_module": "@jupyter-widgets/controls",
          "model_name": "HBoxModel",
          "model_module_version": "1.5.0",
          "state": {
            "_dom_classes": [],
            "_model_module": "@jupyter-widgets/controls",
            "_model_module_version": "1.5.0",
            "_model_name": "HBoxModel",
            "_view_count": null,
            "_view_module": "@jupyter-widgets/controls",
            "_view_module_version": "1.5.0",
            "_view_name": "HBoxView",
            "box_style": "",
            "children": [
              "IPY_MODEL_24c1fd6d266d45628d47e18849fda3a5",
              "IPY_MODEL_a0adc94c1b5b4e7c8341c4b8be325564",
              "IPY_MODEL_63d928985ee24de993bc0a4880b333e8"
            ],
            "layout": "IPY_MODEL_a3de9693ce844f418efa3cf487165387"
          }
        },
        "24c1fd6d266d45628d47e18849fda3a5": {
          "model_module": "@jupyter-widgets/controls",
          "model_name": "HTMLModel",
          "model_module_version": "1.5.0",
          "state": {
            "_dom_classes": [],
            "_model_module": "@jupyter-widgets/controls",
            "_model_module_version": "1.5.0",
            "_model_name": "HTMLModel",
            "_view_count": null,
            "_view_module": "@jupyter-widgets/controls",
            "_view_module_version": "1.5.0",
            "_view_name": "HTMLView",
            "description": "",
            "description_tooltip": null,
            "layout": "IPY_MODEL_a46d148d6fad427d8c617386502b0f98",
            "placeholder": "​",
            "style": "IPY_MODEL_3557f15b0e05429097accf6e1ecd43aa",
            "value": "100%"
          }
        },
        "a0adc94c1b5b4e7c8341c4b8be325564": {
          "model_module": "@jupyter-widgets/controls",
          "model_name": "FloatProgressModel",
          "model_module_version": "1.5.0",
          "state": {
            "_dom_classes": [],
            "_model_module": "@jupyter-widgets/controls",
            "_model_module_version": "1.5.0",
            "_model_name": "FloatProgressModel",
            "_view_count": null,
            "_view_module": "@jupyter-widgets/controls",
            "_view_module_version": "1.5.0",
            "_view_name": "ProgressView",
            "bar_style": "success",
            "description": "",
            "description_tooltip": null,
            "layout": "IPY_MODEL_c26bbb176cf743a1b665fdfd4dc039d0",
            "max": 553433881,
            "min": 0,
            "orientation": "horizontal",
            "style": "IPY_MODEL_5e8fdc5c1e8f4ec39329dcb815cc5037",
            "value": 553433881
          }
        },
        "63d928985ee24de993bc0a4880b333e8": {
          "model_module": "@jupyter-widgets/controls",
          "model_name": "HTMLModel",
          "model_module_version": "1.5.0",
          "state": {
            "_dom_classes": [],
            "_model_module": "@jupyter-widgets/controls",
            "_model_module_version": "1.5.0",
            "_model_name": "HTMLModel",
            "_view_count": null,
            "_view_module": "@jupyter-widgets/controls",
            "_view_module_version": "1.5.0",
            "_view_name": "HTMLView",
            "description": "",
            "description_tooltip": null,
            "layout": "IPY_MODEL_3ebf221c670b4ce881972841bc4ef1e7",
            "placeholder": "​",
            "style": "IPY_MODEL_b94eff2cf3f948e9aa11639092ece35e",
            "value": " 528M/528M [00:02&lt;00:00, 262MB/s]"
          }
        },
        "a3de9693ce844f418efa3cf487165387": {
          "model_module": "@jupyter-widgets/base",
          "model_name": "LayoutModel",
          "model_module_version": "1.2.0",
          "state": {
            "_model_module": "@jupyter-widgets/base",
            "_model_module_version": "1.2.0",
            "_model_name": "LayoutModel",
            "_view_count": null,
            "_view_module": "@jupyter-widgets/base",
            "_view_module_version": "1.2.0",
            "_view_name": "LayoutView",
            "align_content": null,
            "align_items": null,
            "align_self": null,
            "border": null,
            "bottom": null,
            "display": null,
            "flex": null,
            "flex_flow": null,
            "grid_area": null,
            "grid_auto_columns": null,
            "grid_auto_flow": null,
            "grid_auto_rows": null,
            "grid_column": null,
            "grid_gap": null,
            "grid_row": null,
            "grid_template_areas": null,
            "grid_template_columns": null,
            "grid_template_rows": null,
            "height": null,
            "justify_content": null,
            "justify_items": null,
            "left": null,
            "margin": null,
            "max_height": null,
            "max_width": null,
            "min_height": null,
            "min_width": null,
            "object_fit": null,
            "object_position": null,
            "order": null,
            "overflow": null,
            "overflow_x": null,
            "overflow_y": null,
            "padding": null,
            "right": null,
            "top": null,
            "visibility": null,
            "width": null
          }
        },
        "a46d148d6fad427d8c617386502b0f98": {
          "model_module": "@jupyter-widgets/base",
          "model_name": "LayoutModel",
          "model_module_version": "1.2.0",
          "state": {
            "_model_module": "@jupyter-widgets/base",
            "_model_module_version": "1.2.0",
            "_model_name": "LayoutModel",
            "_view_count": null,
            "_view_module": "@jupyter-widgets/base",
            "_view_module_version": "1.2.0",
            "_view_name": "LayoutView",
            "align_content": null,
            "align_items": null,
            "align_self": null,
            "border": null,
            "bottom": null,
            "display": null,
            "flex": null,
            "flex_flow": null,
            "grid_area": null,
            "grid_auto_columns": null,
            "grid_auto_flow": null,
            "grid_auto_rows": null,
            "grid_column": null,
            "grid_gap": null,
            "grid_row": null,
            "grid_template_areas": null,
            "grid_template_columns": null,
            "grid_template_rows": null,
            "height": null,
            "justify_content": null,
            "justify_items": null,
            "left": null,
            "margin": null,
            "max_height": null,
            "max_width": null,
            "min_height": null,
            "min_width": null,
            "object_fit": null,
            "object_position": null,
            "order": null,
            "overflow": null,
            "overflow_x": null,
            "overflow_y": null,
            "padding": null,
            "right": null,
            "top": null,
            "visibility": null,
            "width": null
          }
        },
        "3557f15b0e05429097accf6e1ecd43aa": {
          "model_module": "@jupyter-widgets/controls",
          "model_name": "DescriptionStyleModel",
          "model_module_version": "1.5.0",
          "state": {
            "_model_module": "@jupyter-widgets/controls",
            "_model_module_version": "1.5.0",
            "_model_name": "DescriptionStyleModel",
            "_view_count": null,
            "_view_module": "@jupyter-widgets/base",
            "_view_module_version": "1.2.0",
            "_view_name": "StyleView",
            "description_width": ""
          }
        },
        "c26bbb176cf743a1b665fdfd4dc039d0": {
          "model_module": "@jupyter-widgets/base",
          "model_name": "LayoutModel",
          "model_module_version": "1.2.0",
          "state": {
            "_model_module": "@jupyter-widgets/base",
            "_model_module_version": "1.2.0",
            "_model_name": "LayoutModel",
            "_view_count": null,
            "_view_module": "@jupyter-widgets/base",
            "_view_module_version": "1.2.0",
            "_view_name": "LayoutView",
            "align_content": null,
            "align_items": null,
            "align_self": null,
            "border": null,
            "bottom": null,
            "display": null,
            "flex": null,
            "flex_flow": null,
            "grid_area": null,
            "grid_auto_columns": null,
            "grid_auto_flow": null,
            "grid_auto_rows": null,
            "grid_column": null,
            "grid_gap": null,
            "grid_row": null,
            "grid_template_areas": null,
            "grid_template_columns": null,
            "grid_template_rows": null,
            "height": null,
            "justify_content": null,
            "justify_items": null,
            "left": null,
            "margin": null,
            "max_height": null,
            "max_width": null,
            "min_height": null,
            "min_width": null,
            "object_fit": null,
            "object_position": null,
            "order": null,
            "overflow": null,
            "overflow_x": null,
            "overflow_y": null,
            "padding": null,
            "right": null,
            "top": null,
            "visibility": null,
            "width": null
          }
        },
        "5e8fdc5c1e8f4ec39329dcb815cc5037": {
          "model_module": "@jupyter-widgets/controls",
          "model_name": "ProgressStyleModel",
          "model_module_version": "1.5.0",
          "state": {
            "_model_module": "@jupyter-widgets/controls",
            "_model_module_version": "1.5.0",
            "_model_name": "ProgressStyleModel",
            "_view_count": null,
            "_view_module": "@jupyter-widgets/base",
            "_view_module_version": "1.2.0",
            "_view_name": "StyleView",
            "bar_color": null,
            "description_width": ""
          }
        },
        "3ebf221c670b4ce881972841bc4ef1e7": {
          "model_module": "@jupyter-widgets/base",
          "model_name": "LayoutModel",
          "model_module_version": "1.2.0",
          "state": {
            "_model_module": "@jupyter-widgets/base",
            "_model_module_version": "1.2.0",
            "_model_name": "LayoutModel",
            "_view_count": null,
            "_view_module": "@jupyter-widgets/base",
            "_view_module_version": "1.2.0",
            "_view_name": "LayoutView",
            "align_content": null,
            "align_items": null,
            "align_self": null,
            "border": null,
            "bottom": null,
            "display": null,
            "flex": null,
            "flex_flow": null,
            "grid_area": null,
            "grid_auto_columns": null,
            "grid_auto_flow": null,
            "grid_auto_rows": null,
            "grid_column": null,
            "grid_gap": null,
            "grid_row": null,
            "grid_template_areas": null,
            "grid_template_columns": null,
            "grid_template_rows": null,
            "height": null,
            "justify_content": null,
            "justify_items": null,
            "left": null,
            "margin": null,
            "max_height": null,
            "max_width": null,
            "min_height": null,
            "min_width": null,
            "object_fit": null,
            "object_position": null,
            "order": null,
            "overflow": null,
            "overflow_x": null,
            "overflow_y": null,
            "padding": null,
            "right": null,
            "top": null,
            "visibility": null,
            "width": null
          }
        },
        "b94eff2cf3f948e9aa11639092ece35e": {
          "model_module": "@jupyter-widgets/controls",
          "model_name": "DescriptionStyleModel",
          "model_module_version": "1.5.0",
          "state": {
            "_model_module": "@jupyter-widgets/controls",
            "_model_module_version": "1.5.0",
            "_model_name": "DescriptionStyleModel",
            "_view_count": null,
            "_view_module": "@jupyter-widgets/base",
            "_view_module_version": "1.2.0",
            "_view_name": "StyleView",
            "description_width": ""
          }
        }
      }
    }
  },
  "cells": [
    {
      "cell_type": "markdown",
      "source": [
        "## Import library"
      ],
      "metadata": {
        "id": "FbnKLTlZndZl"
      }
    },
    {
      "cell_type": "code",
      "source": [
        "import torch\n",
        "import torch.nn as nn\n",
        "import torch.nn.functional as F\n",
        "import torchvision\n",
        "import torchvision.transforms as transforms\n",
        "from torch.utils.data import DataLoader\n",
        "import seaborn as sns\n",
        "import numpy as np\n",
        "from torch.utils.data import random_split\n",
        "from torchvision import models\n",
        "import torchvision as tv\n",
        "import torch.optim as optim"
      ],
      "metadata": {
        "id": "3_fA2wF5GPwK"
      },
      "execution_count": null,
      "outputs": []
    },
    {
      "cell_type": "code",
      "source": [
        "MODEL_NAME_1 = \"cifar_model\"\n",
        "BATCH_SIZE=24 \n",
        "num_epochs= 10 \n",
        "weight_decay=1e-4\n",
        "learning_rate = 0.001 \n",
        "class_size=10\n",
        "device = \"cuda\" if torch.cuda.is_available() else \"cpu\""
      ],
      "metadata": {
        "id": "GHvk4vQ77RJl"
      },
      "execution_count": null,
      "outputs": []
    },
    {
      "cell_type": "markdown",
      "source": [
        "## Loading and preparing data"
      ],
      "metadata": {
        "id": "v6fUxb0Zn1Tq"
      }
    },
    {
      "cell_type": "code",
      "execution_count": null,
      "metadata": {
        "colab": {
          "base_uri": "https://localhost:8080/",
          "referenced_widgets": [
            "84a6a987a1574052b0a19b1338ca76cc",
            "ce6fa8dec1d8418ca44309124dd0462a",
            "af28732868bc4f59814e0b52554a1437",
            "7675dca7df534197a13651650561f654",
            "dc7c39296a094c768d5425901a65ecb8",
            "df9a058b57ca410e8db072a22c3bcf60",
            "cecb20239f06454ebf424e1027fbf7b5",
            "67a6cfd488234f6da0a874fcaba0342c",
            "06671ee2b040444d988295c7f3647917",
            "0320a43d0bad40b8a240fa569593fccb",
            "27aa6297da3d4fa6b0d51775329fb235"
          ]
        },
        "id": "dATrVoRk5yGU",
        "outputId": "2d7f869d-12de-4e09-f022-f2838dc47285"
      },
      "outputs": [
        {
          "output_type": "stream",
          "name": "stdout",
          "text": [
            "Downloading https://www.cs.toronto.edu/~kriz/cifar-10-python.tar.gz to ./cifar-10-python.tar.gz\n"
          ]
        },
        {
          "output_type": "display_data",
          "data": {
            "text/plain": [
              "  0%|          | 0/170498071 [00:00<?, ?it/s]"
            ],
            "application/vnd.jupyter.widget-view+json": {
              "version_major": 2,
              "version_minor": 0,
              "model_id": "84a6a987a1574052b0a19b1338ca76cc"
            }
          },
          "metadata": {}
        },
        {
          "output_type": "stream",
          "name": "stdout",
          "text": [
            "Extracting ./cifar-10-python.tar.gz to ./\n",
            "Files already downloaded and verified\n"
          ]
        }
      ],
      "source": [
        "transform = transforms.Compose([\n",
        "                                transforms.Resize((224, 224)),\n",
        "                                transforms.RandomHorizontalFlip(p=0.7),\n",
        "                                transforms.ToTensor(),\n",
        "                                transforms.Normalize((0.4914, 0.4822, 0.4465), (0.2023, 0.1994, 0.2010))\n",
        "                                ])\n",
        "\n",
        "train_dataset = tv.datasets.CIFAR10(root=\"./\", \n",
        "                                    train=True,\n",
        "                                    transform= transform,\n",
        "                                    download=True)\n",
        "\n",
        "test_dataset = tv.datasets.CIFAR10(root=\"./\", \n",
        "                                   train=False,\n",
        "                                   transform= transform,\n",
        "                                   download=True)\n",
        "\n",
        "train_loader = torch.utils.data.DataLoader(dataset = train_dataset, \n",
        "                                           batch_size = BATCH_SIZE, \n",
        "                                           shuffle = True)\n",
        "\n",
        "test_loader = torch.utils.data.DataLoader(dataset = test_dataset, \n",
        "                                          batch_size = BATCH_SIZE, \n",
        "                                          shuffle = False)"
      ]
    },
    {
      "cell_type": "markdown",
      "source": [
        "## Load model VGG-16"
      ],
      "metadata": {
        "id": "1--BG7TfKXlF"
      }
    },
    {
      "cell_type": "code",
      "source": [
        "vgg16= models.vgg16(pretrained= True)\n",
        "vgg16"
      ],
      "metadata": {
        "colab": {
          "base_uri": "https://localhost:8080/",
          "referenced_widgets": [
            "71b30159a5264b1a8ff6997cf2ffff63",
            "24c1fd6d266d45628d47e18849fda3a5",
            "a0adc94c1b5b4e7c8341c4b8be325564",
            "63d928985ee24de993bc0a4880b333e8",
            "a3de9693ce844f418efa3cf487165387",
            "a46d148d6fad427d8c617386502b0f98",
            "3557f15b0e05429097accf6e1ecd43aa",
            "c26bbb176cf743a1b665fdfd4dc039d0",
            "5e8fdc5c1e8f4ec39329dcb815cc5037",
            "3ebf221c670b4ce881972841bc4ef1e7",
            "b94eff2cf3f948e9aa11639092ece35e"
          ]
        },
        "id": "Ur37eorb8yaR",
        "outputId": "0bb5b580-4b2a-4d0f-cc51-ae6d61cd795d"
      },
      "execution_count": null,
      "outputs": [
        {
          "output_type": "stream",
          "name": "stderr",
          "text": [
            "Downloading: \"https://download.pytorch.org/models/vgg16-397923af.pth\" to /root/.cache/torch/hub/checkpoints/vgg16-397923af.pth\n"
          ]
        },
        {
          "output_type": "display_data",
          "data": {
            "text/plain": [
              "  0%|          | 0.00/528M [00:00<?, ?B/s]"
            ],
            "application/vnd.jupyter.widget-view+json": {
              "version_major": 2,
              "version_minor": 0,
              "model_id": "71b30159a5264b1a8ff6997cf2ffff63"
            }
          },
          "metadata": {}
        },
        {
          "output_type": "execute_result",
          "data": {
            "text/plain": [
              "VGG(\n",
              "  (features): Sequential(\n",
              "    (0): Conv2d(3, 64, kernel_size=(3, 3), stride=(1, 1), padding=(1, 1))\n",
              "    (1): ReLU(inplace=True)\n",
              "    (2): Conv2d(64, 64, kernel_size=(3, 3), stride=(1, 1), padding=(1, 1))\n",
              "    (3): ReLU(inplace=True)\n",
              "    (4): MaxPool2d(kernel_size=2, stride=2, padding=0, dilation=1, ceil_mode=False)\n",
              "    (5): Conv2d(64, 128, kernel_size=(3, 3), stride=(1, 1), padding=(1, 1))\n",
              "    (6): ReLU(inplace=True)\n",
              "    (7): Conv2d(128, 128, kernel_size=(3, 3), stride=(1, 1), padding=(1, 1))\n",
              "    (8): ReLU(inplace=True)\n",
              "    (9): MaxPool2d(kernel_size=2, stride=2, padding=0, dilation=1, ceil_mode=False)\n",
              "    (10): Conv2d(128, 256, kernel_size=(3, 3), stride=(1, 1), padding=(1, 1))\n",
              "    (11): ReLU(inplace=True)\n",
              "    (12): Conv2d(256, 256, kernel_size=(3, 3), stride=(1, 1), padding=(1, 1))\n",
              "    (13): ReLU(inplace=True)\n",
              "    (14): Conv2d(256, 256, kernel_size=(3, 3), stride=(1, 1), padding=(1, 1))\n",
              "    (15): ReLU(inplace=True)\n",
              "    (16): MaxPool2d(kernel_size=2, stride=2, padding=0, dilation=1, ceil_mode=False)\n",
              "    (17): Conv2d(256, 512, kernel_size=(3, 3), stride=(1, 1), padding=(1, 1))\n",
              "    (18): ReLU(inplace=True)\n",
              "    (19): Conv2d(512, 512, kernel_size=(3, 3), stride=(1, 1), padding=(1, 1))\n",
              "    (20): ReLU(inplace=True)\n",
              "    (21): Conv2d(512, 512, kernel_size=(3, 3), stride=(1, 1), padding=(1, 1))\n",
              "    (22): ReLU(inplace=True)\n",
              "    (23): MaxPool2d(kernel_size=2, stride=2, padding=0, dilation=1, ceil_mode=False)\n",
              "    (24): Conv2d(512, 512, kernel_size=(3, 3), stride=(1, 1), padding=(1, 1))\n",
              "    (25): ReLU(inplace=True)\n",
              "    (26): Conv2d(512, 512, kernel_size=(3, 3), stride=(1, 1), padding=(1, 1))\n",
              "    (27): ReLU(inplace=True)\n",
              "    (28): Conv2d(512, 512, kernel_size=(3, 3), stride=(1, 1), padding=(1, 1))\n",
              "    (29): ReLU(inplace=True)\n",
              "    (30): MaxPool2d(kernel_size=2, stride=2, padding=0, dilation=1, ceil_mode=False)\n",
              "  )\n",
              "  (avgpool): AdaptiveAvgPool2d(output_size=(7, 7))\n",
              "  (classifier): Sequential(\n",
              "    (0): Linear(in_features=25088, out_features=4096, bias=True)\n",
              "    (1): ReLU(inplace=True)\n",
              "    (2): Dropout(p=0.5, inplace=False)\n",
              "    (3): Linear(in_features=4096, out_features=4096, bias=True)\n",
              "    (4): ReLU(inplace=True)\n",
              "    (5): Dropout(p=0.5, inplace=False)\n",
              "    (6): Linear(in_features=4096, out_features=1000, bias=True)\n",
              "  )\n",
              ")"
            ]
          },
          "metadata": {},
          "execution_count": 4
        }
      ]
    },
    {
      "cell_type": "markdown",
      "source": [
        "## Train function"
      ],
      "metadata": {
        "id": "xLTrO9jCaBL4"
      }
    },
    {
      "cell_type": "code",
      "source": [
        "def train(model, train_dataloader):\n",
        "    model.train()\n",
        "    train_running_loss = 0.0\n",
        "    train_running_correct = 0\n",
        "    for i, data in enumerate(train_dataloader):\n",
        "        data, target = data[0].to(device), data[1].to(device)\n",
        "        optimizer.zero_grad()\n",
        "        output = model(data)\n",
        "        loss = criterion(output, target)\n",
        "        train_running_loss += loss.item()\n",
        "        _, preds = torch.max(output.data, 1)\n",
        "        train_running_correct += (preds == target).sum().item()\n",
        "        loss.backward()\n",
        "        optimizer.step()\n",
        "    train_loss = train_running_loss/len(train_dataloader.dataset)\n",
        "    train_accuracy = 100. * train_running_correct/len(train_dataloader.dataset)\n",
        "    print(f'Train Loss: {train_loss:.4f}, Train Acc: {train_accuracy:.2f}')\n",
        "    print()\n",
        "    \n",
        "    return train_loss, train_accuracy"
      ],
      "metadata": {
        "id": "B7iYGwEX9UTH"
      },
      "execution_count": null,
      "outputs": []
    },
    {
      "cell_type": "markdown",
      "source": [
        "## Test function"
      ],
      "metadata": {
        "id": "icZF9iwJaWpZ"
      }
    },
    {
      "cell_type": "code",
      "source": [
        "def test(model, test_dataloader):\n",
        "    model.eval()\n",
        "    test_running_loss = 0.0\n",
        "\n",
        "    total = len(test_loader.dataset)\n",
        "\n",
        "    test_running_correct = 0\n",
        "    for int, data in enumerate(test_dataloader):\n",
        "        data, target = data[0].to(device), data[1].to(device)\n",
        "        output = model(data)\n",
        "        loss = criterion(output, target)\n",
        "        \n",
        "        test_running_loss += loss.item()\n",
        "        _, preds = torch.max(output.data, 1)\n",
        "        test_running_correct += (preds == target).sum().item()\n",
        "    \n",
        "    test_loss = test_running_loss/len(test_dataloader.dataset)\n",
        "    test_accuracy = 100. * test_running_correct/len(test_dataloader.dataset)\n",
        "\n",
        "    return test_loss, test_accuracy"
      ],
      "metadata": {
        "id": "P9lgfz07DFat"
      },
      "execution_count": null,
      "outputs": []
    },
    {
      "cell_type": "code",
      "source": [
        "def test_correct(model):\n",
        "  total = len(test_loader.dataset)\n",
        "  val_running_correct = 0\n",
        "  model = model.to(device)\n",
        "  # model.load_state_dict(torch.load(MODEL_NAME))\n",
        "  model.eval()\n",
        "  for int, data in enumerate(test_loader):\n",
        "    data, target = data[0].to(device), data[1].to(device)\n",
        "    output = model(data)\n",
        "    loss = criterion(output, target)\n",
        "        \n",
        "    _, preds = torch.max(output.data, 1)\n",
        "    val_running_correct += (preds == target).sum().item()\n",
        "    \n",
        "    val_accuracy = 100. * val_running_correct/len(test_loader.dataset)\n",
        "\n",
        "  print(\"correct\", val_running_correct)\n",
        "  print(\"total:\", total)\n",
        "  print(\"accuracy:\", val_accuracy)"
      ],
      "metadata": {
        "id": "tmAbK0k8sxTb"
      },
      "execution_count": null,
      "outputs": []
    },
    {
      "cell_type": "markdown",
      "source": [
        "## Training"
      ],
      "metadata": {
        "id": "Bdngf3_ydCXn"
      }
    },
    {
      "cell_type": "markdown",
      "source": [
        "### First training"
      ],
      "metadata": {
        "id": "_yr75FGPYHG9"
      }
    },
    {
      "cell_type": "markdown",
      "source": [
        "On the first training, keep the feature layers and classifier layers the same, learning rate = 0.001, optimizer = SGD and epochs = 10. "
      ],
      "metadata": {
        "id": "pA8Mj2qEdM1j"
      }
    },
    {
      "cell_type": "code",
      "source": [
        "optimizer = optim.SGD(vgg16.classifier.parameters(), lr=0.001)\n",
        "criterion = nn.CrossEntropyLoss()"
      ],
      "metadata": {
        "id": "0gi4k3Grqc9S"
      },
      "execution_count": null,
      "outputs": []
    },
    {
      "cell_type": "code",
      "source": [
        "train_loss , train_accuracy = [], []\n",
        "test_loss , test_accuracy = [], []\n",
        "model = vgg16.to(device)\n",
        "\n",
        "for epoch in range(10):\n",
        "    train_epoch_loss, train_epoch_accuracy = train(model, train_loader)\n",
        "    test_epoch_loss, test_epoch_accuracy = test(model, test_loader)\n",
        "    train_loss.append(train_epoch_loss)\n",
        "    train_accuracy.append(train_epoch_accuracy)\n",
        "    test_loss.append(test_epoch_loss)\n",
        "    test_accuracy.append(test_epoch_accuracy)"
      ],
      "metadata": {
        "colab": {
          "base_uri": "https://localhost:8080/"
        },
        "id": "T_Gxc6aMsNFX",
        "outputId": "201235e9-22bd-422f-d42c-f30e4dfc2ef2"
      },
      "execution_count": null,
      "outputs": [
        {
          "output_type": "stream",
          "name": "stdout",
          "text": [
            "Train Loss: 0.0560, Train Acc: 62.72\n",
            "\n",
            "Train Loss: 0.0264, Train Acc: 77.97\n",
            "\n",
            "Train Loss: 0.0233, Train Acc: 80.52\n",
            "\n",
            "Train Loss: 0.0210, Train Acc: 82.52\n",
            "\n",
            "Train Loss: 0.0197, Train Acc: 83.50\n",
            "\n",
            "Train Loss: 0.0186, Train Acc: 84.41\n",
            "\n",
            "Train Loss: 0.0176, Train Acc: 85.35\n",
            "\n",
            "Train Loss: 0.0168, Train Acc: 85.88\n",
            "\n",
            "Train Loss: 0.0161, Train Acc: 86.44\n",
            "\n",
            "Train Loss: 0.0156, Train Acc: 86.81\n",
            "\n"
          ]
        }
      ]
    },
    {
      "cell_type": "code",
      "source": [
        "test_correct(vgg16)"
      ],
      "metadata": {
        "id": "HD6WKJ2rvReJ",
        "colab": {
          "base_uri": "https://localhost:8080/"
        },
        "outputId": "5b47f0da-91cc-433e-d52c-e3ca1e5df8c5"
      },
      "execution_count": null,
      "outputs": [
        {
          "output_type": "stream",
          "name": "stdout",
          "text": [
            "correct 8687\n",
            "total: 10000\n",
            "accuracy: 86.87\n"
          ]
        }
      ]
    },
    {
      "cell_type": "code",
      "source": [
        "import matplotlib.pyplot as plt\n",
        "plt.figure(figsize=(15, 10))\n",
        "plt.figure(0)\n",
        "plt.plot(train_accuracy, color='green', label='train accuracy')\n",
        "plt.plot(test_accuracy, color='blue', label='test accuracy')\n",
        "plt.title('Accuracy')\n",
        "plt.xlabel('epochs')\n",
        "plt.ylabel('accuracy')\n",
        "plt.legend()\n",
        "plt.show()\n",
        "\n",
        "plt.figure(1)\n",
        "plt.plot(train_loss, color='green', label='train loss')\n",
        "plt.plot(test_loss, color='blue', label='test loss')\n",
        "plt.title('Loss')\n",
        "plt.xlabel('epochs')\n",
        "plt.ylabel('loss')\n",
        "plt.legend()\n",
        "plt.show()"
      ],
      "metadata": {
        "colab": {
          "base_uri": "https://localhost:8080/",
          "height": 590
        },
        "id": "8ps6_Yo69-vy",
        "outputId": "932de402-1f81-47ff-d6c9-9f2830394f62"
      },
      "execution_count": null,
      "outputs": [
        {
          "output_type": "display_data",
          "data": {
            "text/plain": [
              "<Figure size 1080x720 with 0 Axes>"
            ]
          },
          "metadata": {}
        },
        {
          "output_type": "display_data",
          "data": {
            "text/plain": [
              "<Figure size 432x288 with 1 Axes>"
            ],
            "image/png": "[encoded data removed]"
          },
          "metadata": {
            "needs_background": "light"
          }
        },
        {
          "output_type": "display_data",
          "data": {
            "text/plain": [
              "<Figure size 432x288 with 1 Axes>"
            ],
            "image/png": "[encoded data removed]"
          },
          "metadata": {
            "needs_background": "light"
          }
        }
      ]
    },
    {
      "cell_type": "markdown",
      "source": [
        "### Second training"
      ],
      "metadata": {
        "id": "MoMQfS2Dc3nx"
      }
    },
    {
      "cell_type": "markdown",
      "source": [
        "Add 1 Dropout layer with p = 0.3, out_features = 10, learning rate = 0.001, optimizer = SGD, epochs = 10"
      ],
      "metadata": {
        "id": "UjZ4D6-ioyzY"
      }
    },
    {
      "cell_type": "code",
      "source": [
        "model_config_2 = torchvision.models.vgg16(pretrained=True)\n",
        "model_config_2.to(device)\n",
        "classes_list = list(model_config_2.classifier)\n",
        "new_classes_list = []\n",
        "new_classes_list.append(nn.Dropout(p=0.3, inplace=True))\n",
        "for cls in classes_list:\n",
        "    new_classes_list.append(cls)\n",
        "\n",
        "model_config_2.classifier = nn.Sequential(*new_classes_list)\n",
        "model_config_2.classifier"
      ],
      "metadata": {
        "id": "mRg_IbkmpCgH",
        "colab": {
          "base_uri": "https://localhost:8080/"
        },
        "outputId": "1b357fd9-5c80-4afc-885d-fa3adeb9ddb8"
      },
      "execution_count": null,
      "outputs": [
        {
          "output_type": "execute_result",
          "data": {
            "text/plain": [
              "Sequential(\n",
              "  (0): Dropout(p=0.3, inplace=True)\n",
              "  (1): Linear(in_features=25088, out_features=4096, bias=True)\n",
              "  (2): ReLU(inplace=True)\n",
              "  (3): Dropout(p=0.5, inplace=False)\n",
              "  (4): Linear(in_features=4096, out_features=4096, bias=True)\n",
              "  (5): ReLU(inplace=True)\n",
              "  (6): Dropout(p=0.5, inplace=False)\n",
              "  (7): Linear(in_features=4096, out_features=1000, bias=True)\n",
              ")"
            ]
          },
          "metadata": {},
          "execution_count": 15
        }
      ]
    },
    {
      "cell_type": "code",
      "source": [
        "model_config_2.classifier[7].out_features = 10\n",
        "model_config_2.classifier"
      ],
      "metadata": {
        "id": "n-XvmP8kA76O",
        "colab": {
          "base_uri": "https://localhost:8080/"
        },
        "outputId": "48fb2840-565b-487c-81f7-78e4793778d6"
      },
      "execution_count": null,
      "outputs": [
        {
          "output_type": "execute_result",
          "data": {
            "text/plain": [
              "Sequential(\n",
              "  (0): Dropout(p=0.3, inplace=True)\n",
              "  (1): Linear(in_features=25088, out_features=4096, bias=True)\n",
              "  (2): ReLU(inplace=True)\n",
              "  (3): Dropout(p=0.5, inplace=False)\n",
              "  (4): Linear(in_features=4096, out_features=4096, bias=True)\n",
              "  (5): ReLU(inplace=True)\n",
              "  (6): Dropout(p=0.5, inplace=False)\n",
              "  (7): Linear(in_features=4096, out_features=10, bias=True)\n",
              ")"
            ]
          },
          "metadata": {},
          "execution_count": 20
        }
      ]
    },
    {
      "cell_type": "code",
      "source": [
        "optimizer = optim.SGD(model_config_2.classifier.parameters(), lr=0.001)"
      ],
      "metadata": {
        "id": "VnqlYcCCgVXF"
      },
      "execution_count": null,
      "outputs": []
    },
    {
      "cell_type": "code",
      "source": [
        "train_loss , train_accuracy = [], []\n",
        "test_loss , test_accuracy = [], []\n",
        "model = model_config_2.to(device)\n",
        "\n",
        "for epoch in range(10):\n",
        "    train_epoch_loss, train_epoch_accuracy = train(model, train_loader)\n",
        "    test_epoch_loss, test_epoch_accuracy = test(model, test_loader)\n",
        "    train_loss.append(train_epoch_loss)\n",
        "    train_accuracy.append(train_epoch_accuracy)\n",
        "    test_loss.append(test_epoch_loss)\n",
        "    test_accuracy.append(test_epoch_accuracy)"
      ],
      "metadata": {
        "id": "nnv75sd1grKW",
        "colab": {
          "base_uri": "https://localhost:8080/"
        },
        "outputId": "13904cfa-e6ee-488e-c4e9-cf2e25d227b0"
      },
      "execution_count": null,
      "outputs": [
        {
          "output_type": "stream",
          "name": "stdout",
          "text": [
            "Train Loss: 0.0569, Train Acc: 62.26\n",
            "\n",
            "Train Loss: 0.0272, Train Acc: 77.14\n",
            "\n",
            "Train Loss: 0.0240, Train Acc: 79.86\n",
            "\n",
            "Train Loss: 0.0220, Train Acc: 81.65\n",
            "\n",
            "Train Loss: 0.0208, Train Acc: 82.76\n",
            "\n",
            "Train Loss: 0.0196, Train Acc: 83.56\n",
            "\n",
            "Train Loss: 0.0186, Train Acc: 84.12\n",
            "\n",
            "Train Loss: 0.0180, Train Acc: 84.85\n",
            "\n",
            "Train Loss: 0.0172, Train Acc: 85.50\n",
            "\n",
            "Train Loss: 0.0165, Train Acc: 86.08\n",
            "\n"
          ]
        }
      ]
    },
    {
      "cell_type": "code",
      "source": [
        "test_correct(model_config_2)"
      ],
      "metadata": {
        "id": "E7ng2vamhcum",
        "colab": {
          "base_uri": "https://localhost:8080/"
        },
        "outputId": "0a40b4c8-13cd-4d83-dde0-5dbe8cfd916c"
      },
      "execution_count": null,
      "outputs": [
        {
          "output_type": "stream",
          "name": "stdout",
          "text": [
            "correct 8680\n",
            "total: 10000\n",
            "accuracy: 86.8\n"
          ]
        }
      ]
    },
    {
      "cell_type": "code",
      "source": [
        "import matplotlib.pyplot as plt\n",
        "plt.figure(figsize=(10, 7))\n",
        "plt.figure(0)\n",
        "plt.plot(train_accuracy, color='green', label='train accuracy')\n",
        "plt.plot(test_accuracy, color='blue', label='test accuracy')\n",
        "plt.title('Accuracy')\n",
        "plt.xlabel('epochs')\n",
        "plt.ylabel('accuracy')\n",
        "plt.legend()\n",
        "plt.show()\n",
        "\n",
        "plt.figure(1)\n",
        "plt.plot(train_loss, color='green', label='train loss')\n",
        "plt.plot(test_loss, color='blue', label='test loss')\n",
        "plt.title('Loss')\n",
        "plt.xlabel('epochs')\n",
        "plt.ylabel('loss')\n",
        "plt.legend()\n",
        "plt.show()"
      ],
      "metadata": {
        "colab": {
          "base_uri": "https://localhost:8080/",
          "height": 590
        },
        "id": "MuF4VGkNALxx",
        "outputId": "1484db90-dea7-4d3d-b214-c8ff5fad23a1"
      },
      "execution_count": null,
      "outputs": [
        {
          "output_type": "display_data",
          "data": {
            "text/plain": [
              "<Figure size 720x504 with 0 Axes>"
            ]
          },
          "metadata": {}
        },
        {
          "output_type": "display_data",
          "data": {
            "text/plain": [
              "<Figure size 432x288 with 1 Axes>"
            ],
            "image/png": "[encoded data removed]"
          },
          "metadata": {
            "needs_background": "light"
          }
        },
        {
          "output_type": "display_data",
          "data": {
            "text/plain": [
              "<Figure size 432x288 with 1 Axes>"
            ],
            "image/png": "[encoded data removed]"
          },
          "metadata": {
            "needs_background": "light"
          }
        }
      ]
    },
    {
      "cell_type": "markdown",
      "source": [
        "### Third training"
      ],
      "metadata": {
        "id": "srn_QDxBhcRQ"
      }
    },
    {
      "cell_type": "markdown",
      "source": [
        "Change the classifier layer of vgg16 (move the dropout layer at position [5] -> to position [0]), optimizer = SGD, learning rate = 0.001, weight_decay =5e-4, epochs=10"
      ],
      "metadata": {
        "id": "P-FuH6ZZhl_R"
      }
    },
    {
      "cell_type": "code",
      "source": [
        "model_config_3 = torchvision.models.vgg16(pretrained=True)\n",
        "model_config_3.to(device)\n",
        "classes_list = list(model_config_3.classifier)\n",
        "new_classes_list = []\n",
        "new_classes_list.append(nn.Dropout(p=0.5, inplace=True))\n",
        "for cls in classes_list:\n",
        "    if (cls != classes_list[5]):\n",
        "      new_classes_list.append(cls)\n",
        "\n",
        "model_config_3.classifier = nn.Sequential(*new_classes_list)\n",
        "model_config_3.classifier[6].out_features = 10\n",
        "model_config_3.classifier"
      ],
      "metadata": {
        "id": "hEwqsciYiOIX",
        "colab": {
          "base_uri": "https://localhost:8080/"
        },
        "outputId": "070f40f9-9796-469e-883b-6440dff63755"
      },
      "execution_count": null,
      "outputs": [
        {
          "output_type": "execute_result",
          "data": {
            "text/plain": [
              "Sequential(\n",
              "  (0): Dropout(p=0.5, inplace=True)\n",
              "  (1): Linear(in_features=25088, out_features=4096, bias=True)\n",
              "  (2): ReLU(inplace=True)\n",
              "  (3): Dropout(p=0.5, inplace=False)\n",
              "  (4): Linear(in_features=4096, out_features=4096, bias=True)\n",
              "  (5): ReLU(inplace=True)\n",
              "  (6): Linear(in_features=4096, out_features=10, bias=True)\n",
              ")"
            ]
          },
          "metadata": {},
          "execution_count": 8
        }
      ]
    },
    {
      "cell_type": "code",
      "source": [
        "optimizer = optim.SGD(model_config_3.classifier.parameters(), lr=0.001, weight_decay=5e-4)\n",
        "criterion = nn.CrossEntropyLoss()"
      ],
      "metadata": {
        "id": "3fet2ywywjmN"
      },
      "execution_count": null,
      "outputs": []
    },
    {
      "cell_type": "code",
      "source": [
        "train_loss , train_accuracy = [], []\n",
        "test_loss , test_accuracy = [], []\n",
        "model = model_config_3.to(device)\n",
        "\n",
        "for epoch in range(10):\n",
        "    train_epoch_loss, train_epoch_accuracy = train(model, train_loader)\n",
        "    test_epoch_loss, test_epoch_accuracy = test(model, test_loader)\n",
        "    train_loss.append(train_epoch_loss)\n",
        "    train_accuracy.append(train_epoch_accuracy)\n",
        "    test_loss.append(test_epoch_loss)\n",
        "    test_accuracy.append(test_epoch_accuracy)"
      ],
      "metadata": {
        "id": "Jp3Xa92x00Ib",
        "colab": {
          "base_uri": "https://localhost:8080/"
        },
        "outputId": "226365a0-bce8-4c04-badf-7d6137c15b1e"
      },
      "execution_count": null,
      "outputs": [
        {
          "output_type": "stream",
          "name": "stdout",
          "text": [
            "Train Loss: 0.0533, Train Acc: 64.54\n",
            "\n",
            "Train Loss: 0.0250, Train Acc: 78.81\n",
            "\n"
          ]
        }
      ]
    },
    {
      "cell_type": "code",
      "source": [
        "test_correct(model_config_3)"
      ],
      "metadata": {
        "id": "0wh9EJXf1ZLb"
      },
      "execution_count": null,
      "outputs": []
    },
    {
      "cell_type": "code",
      "source": [
        "import matplotlib.pyplot as plt\n",
        "plt.figure(figsize=(10, 7))\n",
        "plt.figure(0)\n",
        "plt.plot(train_accuracy, color='green', label='train accuracy')\n",
        "plt.plot(test_accuracy, color='blue', label='test accuracy')\n",
        "plt.title('Accuracy')\n",
        "plt.xlabel('epochs')\n",
        "plt.ylabel('accuracy')\n",
        "plt.legend()\n",
        "plt.show()\n",
        "\n",
        "plt.figure(1)\n",
        "plt.plot(train_loss, color='green', label='train loss')\n",
        "plt.plot(test_loss, color='blue', label='test loss')\n",
        "plt.title('Loss')\n",
        "plt.xlabel('epochs')\n",
        "plt.ylabel('loss')\n",
        "plt.legend()\n",
        "plt.show()"
      ],
      "metadata": {
        "id": "f5Um9bBwANOx"
      },
      "execution_count": null,
      "outputs": []
    },
    {
      "cell_type": "markdown",
      "source": [
        "### Fourth training"
      ],
      "metadata": {
        "id": "8fT1gUB8s2zY"
      }
    },
    {
      "cell_type": "markdown",
      "source": [
        "Keeping feature classes and classifiers unchanged, epochs = 10, optimizer = Adam, learning rate = 0.0005 and weight_decay=0.001, out_features = 10"
      ],
      "metadata": {
        "id": "ImTdi00atSBq"
      }
    },
    {
      "cell_type": "code",
      "source": [
        "model_config_4 = torchvision.models.vgg16(pretrained=True)\n",
        "print(model_config_4.to(device))\n",
        "model_config_4.classifier[6].out_features = 10\n",
        "print(model_config_4.classifier)"
      ],
      "metadata": {
        "id": "qbpoIFapuYis"
      },
      "execution_count": null,
      "outputs": []
    },
    {
      "cell_type": "code",
      "source": [
        "optimizer = torch.optim.Adam(model_config_4.classifier.parameters(), lr=0.0005, weight_decay= 0.001) "
      ],
      "metadata": {
        "id": "gdyzRUsys6Ad"
      },
      "execution_count": null,
      "outputs": []
    },
    {
      "cell_type": "code",
      "source": [
        "train_loss , train_accuracy = [], []\n",
        "test_loss , test_accuracy = [], []\n",
        "model = model_config_4.to(device)\n",
        "\n",
        "for epoch in range(10):\n",
        "    train_epoch_loss, train_epoch_accuracy = train(model, train_loader)\n",
        "    test_epoch_loss, test_epoch_accuracy = test(model, test_loader)\n",
        "    train_loss.append(train_epoch_loss)\n",
        "    train_accuracy.append(train_epoch_accuracy)\n",
        "    test_loss.append(test_epoch_loss)\n",
        "    test_accuracy.append(test_epoch_accuracy)"
      ],
      "metadata": {
        "id": "9I7TGM9MuiRz"
      },
      "execution_count": null,
      "outputs": []
    },
    {
      "cell_type": "code",
      "source": [
        "test_correct(model_config_4)"
      ],
      "metadata": {
        "id": "myg6Mr-41bBE"
      },
      "execution_count": null,
      "outputs": []
    },
    {
      "cell_type": "code",
      "source": [
        "import matplotlib.pyplot as plt\n",
        "plt.figure(figsize=(10, 7))\n",
        "plt.figure(0)\n",
        "plt.plot(train_accuracy, color='green', label='train accuracy')\n",
        "plt.plot(test_accuracy, color='blue', label='test accuracy')\n",
        "plt.title('Accuracy')\n",
        "plt.xlabel('epochs')\n",
        "plt.ylabel('accuracy')\n",
        "plt.legend()\n",
        "plt.show()\n",
        "\n",
        "plt.figure(1)\n",
        "plt.plot(train_loss, color='green', label='train loss')\n",
        "plt.plot(test_loss, color='blue', label='test loss')\n",
        "plt.title('Loss')\n",
        "plt.xlabel('epochs')\n",
        "plt.ylabel('loss')\n",
        "plt.legend()\n",
        "plt.show()"
      ],
      "metadata": {
        "id": "ETgEfACnAOfy"
      },
      "execution_count": null,
      "outputs": []
    },
    {
      "cell_type": "markdown",
      "source": [
        "### Fifth training"
      ],
      "metadata": {
        "id": "SKL0jRf5tf0o"
      }
    },
    {
      "cell_type": "markdown",
      "source": [
        "Keep network layers intact + freeze feature layer + optimizer = Adam, learning rate = 0.0005, epochs=15, weight_decay=0.001, out_features = 10"
      ],
      "metadata": {
        "id": "KZj5Q9RotyjT"
      }
    },
    {
      "cell_type": "code",
      "source": [
        "for param in vgg16.features.parameters():\n",
        "    param.requires_grad = False"
      ],
      "metadata": {
        "id": "3Kyd_AXYOluq"
      },
      "execution_count": null,
      "outputs": []
    },
    {
      "cell_type": "code",
      "source": [
        "model_config_5 = torchvision.models.vgg16(pretrained=True)\n",
        "print(model_config_5.to(device))\n",
        "\n",
        "model_config_5.classifier[6].out_features = 10\n",
        "print(model_config_5.classifier)"
      ],
      "metadata": {
        "id": "5QdBpCkRtk6M"
      },
      "execution_count": null,
      "outputs": []
    },
    {
      "cell_type": "code",
      "source": [
        "optimizer = torch.optim.Adam(model_config_5.classifier.parameters(), lr=0.0005, weight_decay= 0.001) "
      ],
      "metadata": {
        "id": "B6tDHxUg2TCT"
      },
      "execution_count": null,
      "outputs": []
    },
    {
      "cell_type": "code",
      "source": [
        "train_loss , train_accuracy = [], []\n",
        "test_loss , test_accuracy = [], []\n",
        "model = model_config_5.to(device)\n",
        "\n",
        "for epoch in range(15):\n",
        "    train_epoch_loss, train_epoch_accuracy = train(model, train_loader)\n",
        "    test_epoch_loss, test_epoch_accuracy = test(model, test_loader)\n",
        "    train_loss.append(train_epoch_loss)\n",
        "    train_accuracy.append(train_epoch_accuracy)\n",
        "    test_loss.append(test_epoch_loss)\n",
        "    test_accuracy.append(test_epoch_accuracy)"
      ],
      "metadata": {
        "id": "v3IIhssR2lNh"
      },
      "execution_count": null,
      "outputs": []
    },
    {
      "cell_type": "code",
      "source": [
        "test_correct(model_config_5)"
      ],
      "metadata": {
        "id": "snmqkl2a2nRr"
      },
      "execution_count": null,
      "outputs": []
    },
    {
      "cell_type": "code",
      "source": [
        "import matplotlib.pyplot as plt\n",
        "plt.figure(figsize=(10, 7))\n",
        "plt.figure(0)\n",
        "plt.plot(train_accuracy, color='green', label='train accuracy')\n",
        "plt.plot(test_accuracy, color='blue', label='test accuracy')\n",
        "plt.title('Accuracy')\n",
        "plt.xlabel('epochs')\n",
        "plt.ylabel('accuracy')\n",
        "plt.legend()\n",
        "plt.show()\n",
        "\n",
        "plt.figure(1)\n",
        "plt.plot(train_loss, color='green', label='train loss')\n",
        "plt.plot(test_loss, color='blue', label='test loss')\n",
        "plt.title('Loss')\n",
        "plt.xlabel('epochs')\n",
        "plt.ylabel('loss')\n",
        "plt.legend()\n",
        "plt.show()"
      ],
      "metadata": {
        "id": "8jEZrnb0APuY"
      },
      "execution_count": null,
      "outputs": []
    },
    {
      "cell_type": "markdown",
      "source": [
        "### Last training"
      ],
      "metadata": {
        "id": "EQoVU6BDtn4U"
      }
    },
    {
      "cell_type": "markdown",
      "source": [
        "Add 1 dropout layer p = 0.3, optimizer = Adam, learning rate = 0.0005, weight_decay = 0.001 and epochs = 8, out_features = 10"
      ],
      "metadata": {
        "id": "HiLDKOPAtwrZ"
      }
    },
    {
      "cell_type": "code",
      "source": [
        "model_config_6 = torchvision.models.vgg16(pretrained=True)\n",
        "model_config_6.to(device)\n",
        "classes_list = list(model_config_6.classifier)\n",
        "new_classes_list = []\n",
        "new_classes_list.append(nn.Dropout(p=0.3, inplace=True))\n",
        "for cls in classes_list:\n",
        "    new_classes_list.append(cls)\n",
        "\n",
        "# modify convolution layers\n",
        "model_config_6.classifier = nn.Sequential(*new_classes_list)\n",
        "print(model_config_6.classifier)\n",
        "\n",
        "model_config_6.classifier[7].out_features = 10\n",
        "print(model_config_6.classifier)"
      ],
      "metadata": {
        "id": "Y9DvG6tRtmbp",
        "colab": {
          "base_uri": "https://localhost:8080/"
        },
        "outputId": "70e90b9c-b41a-4090-da20-a734c93e9db0"
      },
      "execution_count": null,
      "outputs": [
        {
          "output_type": "stream",
          "name": "stdout",
          "text": [
            "Sequential(\n",
            "  (0): Dropout(p=0.3, inplace=True)\n",
            "  (1): Linear(in_features=25088, out_features=4096, bias=True)\n",
            "  (2): ReLU(inplace=True)\n",
            "  (3): Dropout(p=0.5, inplace=False)\n",
            "  (4): Linear(in_features=4096, out_features=4096, bias=True)\n",
            "  (5): ReLU(inplace=True)\n",
            "  (6): Dropout(p=0.5, inplace=False)\n",
            "  (7): Linear(in_features=4096, out_features=1000, bias=True)\n",
            ")\n",
            "Sequential(\n",
            "  (0): Dropout(p=0.3, inplace=True)\n",
            "  (1): Linear(in_features=25088, out_features=4096, bias=True)\n",
            "  (2): ReLU(inplace=True)\n",
            "  (3): Dropout(p=0.5, inplace=False)\n",
            "  (4): Linear(in_features=4096, out_features=4096, bias=True)\n",
            "  (5): ReLU(inplace=True)\n",
            "  (6): Dropout(p=0.5, inplace=False)\n",
            "  (7): Linear(in_features=4096, out_features=10, bias=True)\n",
            ")\n"
          ]
        }
      ]
    },
    {
      "cell_type": "code",
      "source": [
        "optimizer = torch.optim.Adam(model_config_6.classifier.parameters(), lr=0.0005, weight_decay= 0.001) "
      ],
      "metadata": {
        "id": "dgsFZlV72-n4"
      },
      "execution_count": null,
      "outputs": []
    },
    {
      "cell_type": "code",
      "source": [
        "train_loss , train_accuracy = [], []\n",
        "test_loss , test_accuracy = [], []\n",
        "model = model_config_6.to(device)\n",
        "\n",
        "for epoch in range(8):\n",
        "    train_epoch_loss, train_epoch_accuracy = train(model, train_loader)\n",
        "    test_epoch_loss, test_epoch_accuracy = test(model, test_loader)\n",
        "    train_loss.append(train_epoch_loss)\n",
        "    train_accuracy.append(train_epoch_accuracy)\n",
        "    test_loss.append(test_epoch_loss)\n",
        "    test_accuracy.append(test_epoch_accuracy)"
      ],
      "metadata": {
        "id": "HqIc38G73NUn"
      },
      "execution_count": null,
      "outputs": []
    },
    {
      "cell_type": "code",
      "source": [
        "test_correct(model_config_6)"
      ],
      "metadata": {
        "id": "i5Gi5b203VEc"
      },
      "execution_count": null,
      "outputs": []
    },
    {
      "cell_type": "code",
      "source": [
        "import matplotlib.pyplot as plt\n",
        "plt.figure(figsize=(10, 7))\n",
        "plt.figure(0)\n",
        "plt.plot(train_accuracy, color='green', label='train accuracy')\n",
        "plt.plot(test_accuracy, color='blue', label='test accuracy')\n",
        "plt.title('Accuracy')\n",
        "plt.xlabel('epochs')\n",
        "plt.ylabel('accuracy')\n",
        "plt.legend()\n",
        "plt.show()\n",
        "\n",
        "plt.figure(1)\n",
        "plt.plot(train_loss, color='green', label='train loss')\n",
        "plt.plot(test_loss, color='blue', label='test loss')\n",
        "plt.title('Loss')\n",
        "plt.xlabel('epochs')\n",
        "plt.ylabel('loss')\n",
        "plt.legend()\n",
        "plt.show()"
      ],
      "metadata": {
        "id": "o9Z8pOo7AR7N"
      },
      "execution_count": null,
      "outputs": []
    }
  ]
}