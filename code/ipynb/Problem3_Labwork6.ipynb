{
  "cells": [
    {
      "cell_type": "markdown",
      "metadata": {
        "id": "Dz_MGNvVPG4O"
      },
      "source": [
        "# Bidirectional LSTM \n",
        "\n"
      ]
    },
    {
      "cell_type": "markdown",
      "metadata": {
        "id": "KzZjtkrBRTo3"
      },
      "source": [
        "## Preparing data "
      ]
    },
    {
      "cell_type": "code",
      "execution_count": 27,
      "metadata": {
        "id": "XNka00ZYPG4Q"
      },
      "outputs": [],
      "source": [
        "import requests\n",
        "import torch\n",
        "import torch.nn.functional as F \n",
        "import torchtext\n",
        "import re\n",
        "import unicodedata\n",
        "MAX_LENGTH = 10\n",
        "url=\"https://nlp.stanford.edu/projects/nmt/data/iwslt15.en-vi/\"\n",
        "\n",
        "train_en = [line.split() for line in requests.get(url + \"train.en\").text.splitlines()]\n",
        "train_vi = [line.split() for line in requests.get(url + \"train.vi\").text.splitlines()]\n",
        "\n",
        "test_en = [line.split() for line in requests.get(url + \"tst2013.en\").text.splitlines()]\n",
        "test_vi = [line.split() for line in requests.get(url + \"tst2013.vi\").text.splitlines()]"
      ]
    },
    {
      "cell_type": "code",
      "source": [
        "type(train_en)"
      ],
      "metadata": {
        "colab": {
          "base_uri": "https://localhost:8080/"
        },
        "id": "EjdGzqD5xhfB",
        "outputId": "e080d7b9-b3d2-44a1-bf77-01783be2cdfd"
      },
      "execution_count": 24,
      "outputs": [
        {
          "output_type": "execute_result",
          "data": {
            "text/plain": [
              "list"
            ]
          },
          "metadata": {},
          "execution_count": 24
        }
      ]
    },
    {
      "cell_type": "code",
      "execution_count": 25,
      "metadata": {
        "colab": {
          "base_uri": "https://localhost:8080/"
        },
        "id": "XBiHO1nlPG4Q",
        "outputId": "95e99815-8c03-4611-a83f-a26e4d85d09a"
      },
      "outputs": [
        {
          "output_type": "stream",
          "name": "stdout",
          "text": [
            "133317\n"
          ]
        },
        {
          "output_type": "execute_result",
          "data": {
            "text/plain": [
              "['Khoa', 'học', 'đằng', 'sau', 'một', 'tiêu', 'đề', 'về', 'khí', 'hậu']"
            ]
          },
          "metadata": {},
          "execution_count": 25
        }
      ],
      "source": [
        "print(len(train_en))\n",
        "train_vi[0]"
      ]
    },
    {
      "cell_type": "code",
      "execution_count": 28,
      "metadata": {
        "id": "kYiWMAgaPG4R"
      },
      "outputs": [],
      "source": [
        "MODELNAME = \"iwslt15-en-vi-rnn.model\"\n",
        "# EPOCH = 10\n",
        "BATCHSIZE = 64 \n",
        "LR = 0.001\n",
        "DEVICE = \"cuda\" if torch.cuda.is_available() else \"cpu\""
      ]
    },
    {
      "cell_type": "code",
      "execution_count": 29,
      "metadata": {
        "colab": {
          "base_uri": "https://localhost:8080/"
        },
        "id": "1VFLU5NyPG4R",
        "outputId": "182d3a6d-a4e1-4551-bd8d-fd1bbdfcc91c"
      },
      "outputs": [
        {
          "output_type": "stream",
          "name": "stdout",
          "text": [
            "vocab size en: 24420\n",
            "vocab size vi: 10666\n"
          ]
        }
      ],
      "source": [
        "def make_vocab(train_data, min_freq):\n",
        "  vocab = {}\n",
        "  for tokenlist in train_data:\n",
        "    for token in tokenlist:\n",
        "      if token not in vocab:\n",
        "        vocab[token] = 0\n",
        "      vocab[token] += 1\n",
        "  vocablist = [('<unk>', 0), ('<pad>', 0), ('<cls>', 0), ('<eos>', 0)]\n",
        "  vocabidx = {}\n",
        "  for token, freq in vocab.items():\n",
        "    if freq >= min_freq:\n",
        "      idx = len(vocablist)\n",
        "      vocablist.append((token, freq))\n",
        "      vocabidx[token]=idx\n",
        "  vocabidx['<unk>']=0\n",
        "  vocabidx['<pad>']=1\n",
        "  vocabidx['<cls>']=2\n",
        "  vocabidx['<eos>']=3\n",
        "  return vocablist, vocabidx\n",
        "\n",
        "vocablist_en, vocabidx_en = make_vocab(train_en, 3)\n",
        "vocablist_vi, vocabidx_vi = make_vocab(train_vi, 3)\n",
        "\n",
        "print(\"vocab size en:\", len(vocablist_en))\n",
        "print(\"vocab size vi:\", len(vocablist_vi))\n"
      ]
    },
    {
      "cell_type": "code",
      "execution_count": 30,
      "metadata": {
        "colab": {
          "base_uri": "https://localhost:8080/"
        },
        "id": "Lnn7RjmOPG4S",
        "outputId": "a288e16a-c2a2-498e-f46e-23d7d8bc6d26"
      },
      "outputs": [
        {
          "output_type": "stream",
          "name": "stdout",
          "text": [
            "['<cls>', 'Rachel', 'Pike', ':', 'The', 'science', 'behind', 'a', 'climate', 'headline', '<eos>']\n",
            "['<cls>', 'Khoa', 'học', 'đằng', 'sau', 'một', 'tiêu', 'đề', 'về', 'khí', 'hậu', '<eos>']\n",
            "['<cls>', 'When', 'I', 'was', 'little', ',', 'I', 'thought', 'my', 'country', 'was', 'the', 'best', 'on', 'the', 'planet', ',', 'and', 'I', 'grew', 'up', 'singing', 'a', 'song', 'called', '&quot;', 'Nothing', 'To', '<unk>', '.', '&quot;', '<eos>']\n",
            "['<cls>', 'In', '4', 'minutes', ',', 'atmospheric', 'chemist', 'Rachel', 'Pike', 'provides', 'a', 'glimpse', 'of', 'the', 'massive', 'scientific', 'effort', 'behind', 'the', 'bold', 'headlines', 'on', 'climate', 'change', ',', 'with', 'her', 'team', '--', 'one', 'of', 'thousands', 'who', 'contributed', '--', 'taking', 'a', 'risky', 'flight', 'over', 'the', 'rainforest', 'in', 'pursuit', 'of', 'data', 'on', 'a', 'key', 'molecule', '.', '<eos>']\n",
            "['<cls>', 'Trong', '4', 'phút', ',', 'chuyên', 'gia', 'hoá', 'học', 'khí', 'quyển', 'Rachel', 'Pike', 'giới', 'thiệu', 'sơ', 'lược', 'về', 'những', 'nỗ', 'lực', 'khoa', 'học', 'miệt', 'mài', 'đằng', 'sau', 'những', 'tiêu', 'đề', 'táo', 'bạo', 'về', 'biến', 'đổi', 'khí', 'hậu', ',', 'cùng', 'với', 'đoàn', 'nghiên', 'cứu', 'của', 'mình', '--', 'hàng', 'ngàn', 'người', 'đã', 'cống', 'hiến', 'cho', 'dự', 'án', 'này', '--', 'một', 'chuyến', 'bay', 'mạo', 'hiểm', 'qua', 'rừng', 'già', 'để', 'tìm', 'kiếm', 'thông', 'tin', 'về', 'một', 'phân', 'tử', 'then', 'chốt', '.', '<eos>']\n",
            "['<cls>', 'And', 'I', 'was', 'very', 'proud', '.', '<eos>']\n",
            "['<cls>', 'I', '&apos;d', 'like', 'to', 'talk', 'to', 'you', 'today', 'about', 'the', 'scale', 'of', 'the', 'scientific', 'effort', 'that', 'goes', 'into', 'making', 'the', 'headlines', 'you', 'see', 'in', 'the', 'paper', '.', '<eos>']\n",
            "['<cls>', 'Tôi', 'muốn', 'cho', 'các', 'bạn', 'biết', 'về', 'sự', 'to', 'lớn', 'của', 'những', 'nỗ', 'lực', 'khoa', 'học', 'đã', 'góp', 'phần', 'làm', 'nên', 'các', 'dòng', 'tít', 'bạn', 'thường', 'thấy', 'trên', 'báo', '.', '<eos>']\n",
            "['<cls>', 'In', 'school', ',', 'we', 'spent', 'a', 'lot', 'of', 'time', 'studying', 'the', 'history', 'of', 'Kim', '<unk>', ',', 'but', 'we', 'never', 'learned', 'much', 'about', 'the', 'outside', 'world', ',', 'except', 'that', 'America', ',', 'South', 'Korea', ',', 'Japan', 'are', 'the', 'enemies', '.', '<eos>']\n",
            "['<cls>', '<unk>', 'that', 'look', 'like', 'this', 'when', 'they', 'have', 'to', 'do', 'with', 'climate', 'change', ',', 'and', 'headlines', 'that', 'look', 'like', 'this', 'when', 'they', 'have', 'to', 'do', 'with', 'air', 'quality', 'or', 'smog', '.', '<eos>']\n",
            "['<cls>', 'Có', 'những', 'dòng', 'trông', 'như', 'thế', 'này', 'khi', 'bàn', 'về', 'biến', 'đổi', 'khí', 'hậu', ',', 'và', 'như', 'thế', 'này', 'khi', 'nói', 'về', 'chất', 'lượng', 'không', 'khí', 'hay', 'khói', 'bụi', '.', '<eos>']\n",
            "['<cls>', 'Although', 'I', 'often', 'wondered', 'about', 'the', 'outside', 'world', ',', 'I', 'thought', 'I', 'would', 'spend', 'my', 'entire', 'life', 'in', 'North', 'Korea', ',', 'until', 'everything', 'suddenly', 'changed', '.', '<eos>']\n",
            "['<cls>', 'They', 'are', 'both', 'two', 'branches', 'of', 'the', 'same', 'field', 'of', 'atmospheric', 'science', '.', '<eos>']\n",
            "['<cls>', 'Cả', 'hai', 'đều', 'là', 'một', 'nhánh', 'của', 'cùng', 'một', 'lĩnh', 'vực', 'trong', 'ngành', 'khoa', 'học', 'khí', 'quyển', '.', '<eos>']\n",
            "['<cls>', 'When', 'I', 'was', 'seven', 'years', 'old', ',', 'I', 'saw', 'my', 'first', 'public', 'execution', ',', 'but', 'I', 'thought', 'my', 'life', 'in', 'North', 'Korea', 'was', 'normal', '.', '<eos>']\n"
          ]
        }
      ],
      "source": [
        "def preprocess(data, vocabidx):\n",
        "  rr = []\n",
        "  for tokenlist in data:\n",
        "    tkl = ['<cls>']\n",
        "    for token in tokenlist:\n",
        "      tkl.append(token if token in vocabidx else '<unk>')\n",
        "    tkl.append('<eos>')\n",
        "    rr.append(tkl)\n",
        "  return rr\n",
        "\n",
        "\n",
        "train_en_prep = preprocess(train_en, vocabidx_en)\n",
        "train_vi_prep = preprocess(train_vi, vocabidx_vi)\n",
        "test_en_prep = preprocess(test_en, vocabidx_en)\n",
        "\n",
        "for i in range(5):\n",
        "  print(train_en_prep[i])\n",
        "  print(train_vi_prep[i])\n",
        "  print(test_en_prep[i])"
      ]
    },
    {
      "cell_type": "code",
      "execution_count": 31,
      "metadata": {
        "colab": {
          "base_uri": "https://localhost:8080/"
        },
        "id": "mXlgsXZqPG4S",
        "outputId": "f4490fb1-1fd8-40b8-9eb1-e3846de9f88a"
      },
      "outputs": [
        {
          "output_type": "stream",
          "name": "stdout",
          "text": [
            "(['<cls>', '<eos>'], ['<cls>', '<eos>'])\n",
            "(['<cls>', '<eos>'], ['<cls>', '<eos>'])\n",
            "(['<cls>', '<eos>'], ['<cls>', '<eos>'])\n",
            "(['<cls>', '<eos>'], ['<cls>', '<eos>'])\n",
            "(['<cls>', '<eos>'], ['<cls>', '<eos>'])\n",
            "(['<cls>', 'When', 'I', 'was', 'little', ',', 'I', 'thought', 'my', 'country', 'was', 'the', 'best', 'on', 'the', 'planet', ',', 'and', 'I', 'grew', 'up', 'singing', 'a', 'song', 'called', '&quot;', 'Nothing', 'To', '<unk>', '.', '&quot;', '<eos>'], ['When', 'I', 'was', 'little', ',', 'I', 'thought', 'my', 'country', 'was', 'the', 'best', 'on', 'the', 'planet', ',', 'and', 'I', 'grew', 'up', 'singing', 'a', 'song', 'called', '&quot;', 'Nothing', 'To', 'Envy', '.', '&quot;'], ['Khi', 'tôi', 'còn', 'nhỏ', ',', 'Tôi', 'nghĩ', 'rằng', 'BắcTriều', 'Tiên', 'là', 'đất', 'nước', 'tốt', 'nhất', 'trên', 'thế', 'giới', 'và', 'tôi', 'thường', 'hát', 'bài', '&quot;', 'Chúng', 'ta', 'chẳng', 'có', 'gì', 'phải', 'ghen', 'tị', '.', '&quot;'])\n",
            "(['<cls>', 'And', 'I', 'was', 'very', 'proud', '.', '<eos>'], ['And', 'I', 'was', 'very', 'proud', '.'], ['Tôi', 'đã', 'rất', 'tự', 'hào', 'về', 'đất', 'nước', 'tôi', '.'])\n",
            "(['<cls>', 'In', 'school', ',', 'we', 'spent', 'a', 'lot', 'of', 'time', 'studying', 'the', 'history', 'of', 'Kim', '<unk>', ',', 'but', 'we', 'never', 'learned', 'much', 'about', 'the', 'outside', 'world', ',', 'except', 'that', 'America', ',', 'South', 'Korea', ',', 'Japan', 'are', 'the', 'enemies', '.', '<eos>'], ['In', 'school', ',', 'we', 'spent', 'a', 'lot', 'of', 'time', 'studying', 'the', 'history', 'of', 'Kim', 'Il-Sung', ',', 'but', 'we', 'never', 'learned', 'much', 'about', 'the', 'outside', 'world', ',', 'except', 'that', 'America', ',', 'South', 'Korea', ',', 'Japan', 'are', 'the', 'enemies', '.'], ['Ở', 'trường', ',', 'chúng', 'tôi', 'dành', 'rất', 'nhiều', 'thời', 'gian', 'để', 'học', 'về', 'cuộc', 'đời', 'của', 'chủ', 'tịch', 'Kim', 'II-', 'Sung', ',', 'nhưng', 'lại', 'không', 'học', 'nhiều', 'về', 'thế', 'giới', 'bên', 'ngoài', ',', 'ngoại', 'trừ', 'việc', 'Hoa', 'Kỳ', ',', 'Hàn', 'Quốc', 'và', 'Nhật', 'Bản', 'là', 'kẻ', 'thù', 'của', 'chúng', 'tôi', '.'])\n",
            "(['<cls>', 'Although', 'I', 'often', 'wondered', 'about', 'the', 'outside', 'world', ',', 'I', 'thought', 'I', 'would', 'spend', 'my', 'entire', 'life', 'in', 'North', 'Korea', ',', 'until', 'everything', 'suddenly', 'changed', '.', '<eos>'], ['Although', 'I', 'often', 'wondered', 'about', 'the', 'outside', 'world', ',', 'I', 'thought', 'I', 'would', 'spend', 'my', 'entire', 'life', 'in', 'North', 'Korea', ',', 'until', 'everything', 'suddenly', 'changed', '.'], ['Mặc', 'dù', 'tôi', 'đã', 'từng', 'tự', 'hỏi', 'không', 'biết', 'thế', 'giới', 'bên', 'ngoài', 'kia', 'như', 'thế', 'nào', ',', 'nhưng', 'tôi', 'vẫn', 'nghĩ', 'rằng', 'mình', 'sẽ', 'sống', 'cả', 'cuộc', 'đời', 'ở', 'BắcTriều', 'Tiên', ',', 'cho', 'tới', 'khi', 'tất', 'cả', 'mọi', 'thứ', 'đột', 'nhiên', 'thay', 'đổi', '.'])\n",
            "(['<cls>', 'When', 'I', 'was', 'seven', 'years', 'old', ',', 'I', 'saw', 'my', 'first', 'public', 'execution', ',', 'but', 'I', 'thought', 'my', 'life', 'in', 'North', 'Korea', 'was', 'normal', '.', '<eos>'], ['When', 'I', 'was', 'seven', 'years', 'old', ',', 'I', 'saw', 'my', 'first', 'public', 'execution', ',', 'but', 'I', 'thought', 'my', 'life', 'in', 'North', 'Korea', 'was', 'normal', '.'], ['Khi', 'tôi', 'lên', '7', ',', 'tôi', 'chứng', 'kiến', 'cảnh', 'người', 'ta', 'xử', 'bắn', 'công', 'khai', 'lần', 'đầu', 'tiên', 'trong', 'đời', ',', 'nhưng', 'tôi', 'vẫn', 'nghĩ', 'cuộc', 'sống', 'của', 'mình', 'ở', 'đây', 'là', 'hoàn', 'toàn', 'bình', 'thường', '.'])\n"
          ]
        }
      ],
      "source": [
        "train_data = list(zip(train_en_prep, train_vi_prep))\n",
        "train_data.sort(key = lambda x: (len(x[0]), len(x[1])))\n",
        "test_data = list(zip(test_en_prep, test_en, test_vi))\n",
        "\n",
        "for i in range(5):\n",
        "  print(train_data[i])\n",
        "\n",
        "for i in range(5):   \n",
        "  print(test_data[i])"
      ]
    },
    {
      "cell_type": "code",
      "execution_count": 32,
      "metadata": {
        "colab": {
          "base_uri": "https://localhost:8080/"
        },
        "id": "V3vodZqBPG4T",
        "outputId": "320520a1-e124-46a6-cdd5-42a3daa3b7a8"
      },
      "outputs": [
        {
          "output_type": "stream",
          "name": "stdout",
          "text": [
            "([['<cls>', '<eos>'], ['<cls>', '<eos>'], ['<cls>', '<eos>'], ['<cls>', '<eos>'], ['<cls>', '<eos>'], ['<cls>', '<eos>'], ['<cls>', '<eos>'], ['<cls>', '<eos>'], ['<cls>', '<eos>'], ['<cls>', '<eos>'], ['<cls>', '<eos>'], ['<cls>', '<eos>'], ['<cls>', '<eos>'], ['<cls>', '<eos>'], ['<cls>', '<eos>'], ['<cls>', '<eos>'], ['<cls>', '<eos>'], ['<cls>', '<eos>'], ['<cls>', '<eos>'], ['<cls>', '<eos>'], ['<cls>', '<eos>'], ['<cls>', '<eos>'], ['<cls>', '<eos>'], ['<cls>', '<eos>'], ['<cls>', '<eos>'], ['<cls>', '<eos>'], ['<cls>', '<eos>'], ['<cls>', '<eos>'], ['<cls>', '<eos>'], ['<cls>', '<eos>'], ['<cls>', '<eos>'], ['<cls>', '<eos>'], ['<cls>', '<eos>'], ['<cls>', '<eos>'], ['<cls>', '<eos>'], ['<cls>', '<eos>'], ['<cls>', '<eos>'], ['<cls>', '<eos>'], ['<cls>', '<eos>'], ['<cls>', '<eos>'], ['<cls>', '<eos>'], ['<cls>', '<eos>'], ['<cls>', '<eos>'], ['<cls>', '<eos>'], ['<cls>', '<eos>'], ['<cls>', '<eos>'], ['<cls>', '<eos>'], ['<cls>', '<eos>'], ['<cls>', '<eos>'], ['<cls>', '<eos>'], ['<cls>', '<eos>'], ['<cls>', '<eos>'], ['<cls>', '<eos>'], ['<cls>', '<eos>'], ['<cls>', '<eos>'], ['<cls>', '<eos>'], ['<cls>', '<eos>'], ['<cls>', '<eos>'], ['<cls>', '<eos>'], ['<cls>', '<eos>'], ['<cls>', '<eos>'], ['<cls>', '<eos>'], ['<cls>', '<eos>'], ['<cls>', '<eos>']], [['<cls>', '<eos>'], ['<cls>', '<eos>'], ['<cls>', '<eos>'], ['<cls>', '<eos>'], ['<cls>', '<eos>'], ['<cls>', '<eos>'], ['<cls>', '<eos>'], ['<cls>', '<eos>'], ['<cls>', '<eos>'], ['<cls>', '<eos>'], ['<cls>', '<eos>'], ['<cls>', '<eos>'], ['<cls>', '<eos>'], ['<cls>', '<eos>'], ['<cls>', '<eos>'], ['<cls>', '<eos>'], ['<cls>', '<eos>'], ['<cls>', '<eos>'], ['<cls>', '<eos>'], ['<cls>', '<eos>'], ['<cls>', '<eos>'], ['<cls>', '<eos>'], ['<cls>', '<eos>'], ['<cls>', '<eos>'], ['<cls>', '<eos>'], ['<cls>', '<eos>'], ['<cls>', '<eos>'], ['<cls>', '<eos>'], ['<cls>', '<eos>'], ['<cls>', '<eos>'], ['<cls>', '<eos>'], ['<cls>', '<eos>'], ['<cls>', '<eos>'], ['<cls>', '<eos>'], ['<cls>', '<eos>'], ['<cls>', '<eos>'], ['<cls>', '<eos>'], ['<cls>', '<eos>'], ['<cls>', '<eos>'], ['<cls>', '<eos>'], ['<cls>', '<eos>'], ['<cls>', '<eos>'], ['<cls>', '<eos>'], ['<cls>', '<eos>'], ['<cls>', '<eos>'], ['<cls>', '<eos>'], ['<cls>', '<eos>'], ['<cls>', '<eos>'], ['<cls>', '<eos>'], ['<cls>', '<eos>'], ['<cls>', '<eos>'], ['<cls>', '<eos>'], ['<cls>', '<eos>'], ['<cls>', '<eos>'], ['<cls>', '<eos>'], ['<cls>', '<eos>'], ['<cls>', '<eos>'], ['<cls>', '<eos>'], ['<cls>', '<eos>'], ['<cls>', '<eos>'], ['<cls>', '<eos>'], ['<cls>', '<eos>'], ['<cls>', '<eos>'], ['<cls>', '<eos>']])\n",
            "([['<cls>', '<eos>'], ['<cls>', '<eos>'], ['<cls>', '<eos>'], ['<cls>', '<eos>'], ['<cls>', '<eos>'], ['<cls>', '<eos>'], ['<cls>', '<eos>'], ['<cls>', '<eos>'], ['<cls>', '<eos>'], ['<cls>', '<eos>'], ['<cls>', '<eos>'], ['<cls>', '<eos>'], ['<cls>', '<eos>'], ['<cls>', '<eos>'], ['<cls>', '<eos>'], ['<cls>', '<eos>'], ['<cls>', '<eos>'], ['<cls>', '<eos>'], ['<cls>', '<eos>'], ['<cls>', '<eos>'], ['<cls>', '<eos>'], ['<cls>', '<eos>'], ['<cls>', '<eos>'], ['<cls>', '<eos>'], ['<cls>', '<eos>'], ['<cls>', '<eos>'], ['<cls>', '<eos>'], ['<cls>', '<eos>'], ['<cls>', '<eos>'], ['<cls>', '<eos>'], ['<cls>', '<eos>'], ['<cls>', '<eos>'], ['<cls>', '<eos>'], ['<cls>', '<eos>'], ['<cls>', '<eos>'], ['<cls>', '<eos>'], ['<cls>', '<eos>'], ['<cls>', '<eos>'], ['<cls>', '<eos>'], ['<cls>', '<eos>'], ['<cls>', '<eos>'], ['<cls>', '<eos>'], ['<cls>', '<eos>'], ['<cls>', '<eos>'], ['<cls>', '<eos>'], ['<cls>', '<eos>'], ['<cls>', '<eos>'], ['<cls>', '<eos>'], ['<cls>', '<eos>'], ['<cls>', '<eos>'], ['<cls>', '<eos>'], ['<cls>', '<eos>'], ['<cls>', '<eos>'], ['<cls>', '<eos>'], ['<cls>', '<eos>'], ['<cls>', '<eos>'], ['<cls>', '<eos>'], ['<cls>', '<eos>'], ['<cls>', '<eos>'], ['<cls>', '<eos>'], ['<cls>', '<eos>'], ['<cls>', '<eos>'], ['<cls>', '<eos>'], ['<cls>', '<eos>']], [['<cls>', '<eos>'], ['<cls>', '<eos>'], ['<cls>', '<eos>'], ['<cls>', '<eos>'], ['<cls>', '<eos>'], ['<cls>', '<eos>'], ['<cls>', '<eos>'], ['<cls>', '<eos>'], ['<cls>', '<eos>'], ['<cls>', '<eos>'], ['<cls>', '<eos>'], ['<cls>', '<eos>'], ['<cls>', '<eos>'], ['<cls>', '<eos>'], ['<cls>', '<eos>'], ['<cls>', '<eos>'], ['<cls>', '<eos>'], ['<cls>', '<eos>'], ['<cls>', '<eos>'], ['<cls>', '<eos>'], ['<cls>', '<eos>'], ['<cls>', '<eos>'], ['<cls>', '<eos>'], ['<cls>', '<eos>'], ['<cls>', '<eos>'], ['<cls>', '<eos>'], ['<cls>', '<eos>'], ['<cls>', '<eos>'], ['<cls>', '<eos>'], ['<cls>', '<eos>'], ['<cls>', '<eos>'], ['<cls>', '<eos>'], ['<cls>', '<eos>'], ['<cls>', '<eos>'], ['<cls>', '<eos>'], ['<cls>', '<eos>'], ['<cls>', '<eos>'], ['<cls>', '<eos>'], ['<cls>', '<eos>'], ['<cls>', '<eos>'], ['<cls>', '<eos>'], ['<cls>', '<eos>'], ['<cls>', '<eos>'], ['<cls>', '<eos>'], ['<cls>', '<eos>'], ['<cls>', '<eos>'], ['<cls>', '̣', '<eos>'], ['<cls>', '.', '<eos>'], ['<cls>', '.', '<eos>'], ['<cls>', '.', '<eos>'], ['<cls>', '.', '<eos>'], ['<cls>', '̣', '<eos>'], ['<cls>', 'Cười', '<eos>'], ['<cls>', '.', '<eos>'], ['<cls>', '.', '<eos>'], ['<cls>', '.', '<eos>'], ['<cls>', '.', '<eos>'], ['<cls>', '.', '<eos>'], ['<cls>', '.', '<eos>'], ['<cls>', '.', '<eos>'], ['<cls>', '.', '<eos>'], ['<cls>', 'vỗ', 'tay', '<eos>'], ['<cls>', 'Vỗ', 'tay', '<eos>'], ['<cls>', 'vỗ', 'tay', '<eos>']])\n",
            "([['<cls>', '<eos>'], ['<cls>', '<eos>'], ['<cls>', '<eos>'], ['<cls>', '<eos>'], ['<cls>', '<eos>'], ['<cls>', '<eos>'], ['<cls>', '<eos>'], ['<cls>', '<eos>'], ['<cls>', '<eos>'], ['<cls>', '<eos>'], ['<cls>', '<eos>'], ['<cls>', '<eos>'], ['<cls>', '<eos>'], ['<cls>', '<eos>'], ['<cls>', '<eos>'], ['<cls>', '<eos>'], ['<cls>', '<eos>'], ['<cls>', '<eos>'], ['<cls>', '<eos>'], ['<cls>', '<eos>'], ['<cls>', '<eos>'], ['<cls>', '.', '<eos>'], ['<cls>', '.', '<eos>'], ['<cls>', '.', '<eos>'], ['<cls>', '.', '<eos>'], ['<cls>', '<unk>', '<eos>'], ['<cls>', 'Yeah', '.', '<eos>'], ['<cls>', 'OK', '.', '<eos>'], ['<cls>', 'Okay', '.', '<eos>'], ['<cls>', 'Oh', '.', '<eos>'], ['<cls>', '<unk>', '.', '<eos>'], ['<cls>', 'Seven', '.', '<eos>'], ['<cls>', 'Yeah', '.', '<eos>'], ['<cls>', 'Kant', '.', '<eos>'], ['<cls>', 'Mill', '.', '<eos>'], ['<cls>', '<unk>', '.', '<eos>'], ['<cls>', 'OK', '.', '<eos>'], ['<cls>', 'Um', '.', '<eos>'], ['<cls>', 'Okay', '.', '<eos>'], ['<cls>', 'Wonderful', '.', '<eos>'], ['<cls>', 'Good', '.', '<eos>'], ['<cls>', 'Ooh', '.', '<eos>'], ['<cls>', 'No', '.', '<eos>'], ['<cls>', 'Mario', '!', '<eos>'], ['<cls>', '<unk>', '!', '<eos>'], ['<cls>', 'Boom', '.', '<eos>'], ['<cls>', 'Books', '.', '<eos>'], ['<cls>', 'Hey', '.', '<eos>'], ['<cls>', 'Hey', '.', '<eos>'], ['<cls>', 'Good', '.', '<eos>'], ['<cls>', '<unk>', '!', '<eos>'], ['<cls>', 'Okay', '.', '<eos>'], ['<cls>', 'So', '...', '<eos>'], ['<cls>', 'Okay', '.', '<eos>'], ['<cls>', 'Nope', '.', '<eos>'], ['<cls>', 'Yes', '.', '<eos>'], ['<cls>', 'So', '...', '<eos>'], ['<cls>', 'Okay', '.', '<eos>'], ['<cls>', 'Yeah', '.', '<eos>'], ['<cls>', 'Okay', '.', '<eos>'], ['<cls>', 'Okay', '.', '<eos>'], ['<cls>', 'Okay', '.', '<eos>'], ['<cls>', 'Nope', '.', '<eos>'], ['<cls>', 'Whoa', '.', '<eos>']], [['<cls>', 'Vỗ', 'tay', '<eos>'], ['<cls>', 'Vỗ', 'tay', '<eos>'], ['<cls>', 'Vỗ', 'tay', '<eos>'], ['<cls>', 'Vỗ', 'tay', '<eos>'], ['<cls>', 'Vỗ', 'tay', '<eos>'], ['<cls>', 'Vỗ', 'tay', '<eos>'], ['<cls>', 'Vỗ', 'tay', '<eos>'], ['<cls>', 'Vỗ', 'tay', '<eos>'], ['<cls>', 'Vỗ', 'tay', '<eos>'], ['<cls>', 'Vỗ', 'tay', '<eos>'], ['<cls>', 'Vỗ', 'tay', '<eos>'], ['<cls>', 'vỗ', 'tay', '<eos>'], ['<cls>', 'Vỗ', 'tay', '<eos>'], ['<cls>', 'Cám', 'ơn', '<eos>'], ['<cls>', 'Vỗ', 'tay', '.', '<eos>'], ['<cls>', 'Vỗ', 'tay', '.', '<eos>'], ['<cls>', 'Vỗ', 'tay', '.', '<eos>'], ['<cls>', 'Vỗ', 'tay', '.', '<eos>'], ['<cls>', 'Khán', 'giả', 'vỗ', 'tay', '<eos>'], ['<cls>', '&quot;', 'tán', 'thưởng', '&quot;', '<eos>'], ['<cls>', 'có', 'những', 'giấc', 'mơ', 'đẹp', '.', '<eos>'], ['<cls>', '<eos>'], ['<cls>', '<eos>'], ['<cls>', '.', '<eos>'], ['<cls>', '.', '<eos>'], ['<cls>', '<unk>', '<eos>'], ['<cls>', '<unk>', '<eos>'], ['<cls>', 'OK', '<eos>'], ['<cls>', 'Ok', '<eos>'], ['<cls>', 'Ồ', '<eos>'], ['<cls>', '<unk>', '<eos>'], ['<cls>', 'Bảy', '<eos>'], ['<cls>', 'Ừ', '<eos>'], ['<cls>', 'Kant', '<eos>'], ['<cls>', 'Mill', '<eos>'], ['<cls>', '<unk>', '<eos>'], ['<cls>', 'Ok', '<eos>'], ['<cls>', 'Uh', '<eos>'], ['<cls>', 'Ok', '<eos>'], ['<cls>', 'Tuyệt', '<eos>'], ['<cls>', 'Tốt', '<eos>'], ['<cls>', 'Ồ', '<eos>'], ['<cls>', 'Không', '<eos>'], ['<cls>', 'Mario', '!', '<eos>'], ['<cls>', '<unk>', '!', '<eos>'], ['<cls>', 'Bùm', '.', '<eos>'], ['<cls>', 'Sách', '.', '<eos>'], ['<cls>', 'Này', '.', '<eos>'], ['<cls>', 'Này', '.', '<eos>'], ['<cls>', 'Tốt', '.', '<eos>'], ['<cls>', 'Ngon', 'quá', '<eos>'], ['<cls>', 'Ok', '.', '<eos>'], ['<cls>', 'Nên', '--', '<eos>'], ['<cls>', 'Vâng', '.', '<eos>'], ['<cls>', 'Không', '.', '<eos>'], ['<cls>', 'Có', '.', '<eos>'], ['<cls>', 'Thì', '...', '<eos>'], ['<cls>', 'OK', '.', '<eos>'], ['<cls>', 'Yeah', '.', '<eos>'], ['<cls>', 'Được', '.', '<eos>'], ['<cls>', 'Được', '.', '<eos>'], ['<cls>', 'Được', '.', '<eos>'], ['<cls>', 'Không', '.', '<eos>'], ['<cls>', 'Whoa', '.', '<eos>']])\n",
            "([['<cls>', '<unk>', '.', '<eos>'], ['<cls>', 'Okay', '.', '<eos>'], ['<cls>', 'Hey', '.', '<eos>'], ['<cls>', 'Yeah', '.', '<eos>'], ['<cls>', 'Okay', '.', '<eos>'], ['<cls>', '<unk>', '.', '<eos>'], ['<cls>', 'Joey', '.', '<eos>'], ['<cls>', 'Joey', '.', '<eos>'], ['<cls>', '<unk>', '.', '<eos>'], ['<cls>', 'Germany', '.', '<eos>'], ['<cls>', 'TEDx', '.', '<eos>'], ['<cls>', '<unk>', '.', '<eos>'], ['<cls>', '<unk>', '.', '<eos>'], ['<cls>', 'Why', '?', '<eos>'], ['<cls>', '<unk>', '.', '<eos>'], ['<cls>', '<unk>', '.', '<eos>'], ['<cls>', '<unk>', '.', '<eos>'], ['<cls>', 'Okay', '.', '<eos>'], ['<cls>', 'Oops', '.', '<eos>'], ['<cls>', 'Huh', '?', '<eos>'], ['<cls>', 'Wrong', '.', '<eos>'], ['<cls>', 'Indeed', '.', '<eos>'], ['<cls>', 'Okay', '?', '<eos>'], ['<cls>', 'Enough', '.', '<eos>'], ['<cls>', '<unk>', '.', '<eos>'], ['<cls>', 'Okay', '.', '<eos>'], ['<cls>', 'David', '.', '<eos>'], ['<cls>', 'Yay', '!', '<eos>'], ['<cls>', '<unk>', '!', '<eos>'], ['<cls>', 'Dry', '.', '<eos>'], ['<cls>', 'Fold', '.', '<eos>'], ['<cls>', 'Warren', '.', '<eos>'], ['<cls>', 'Chris', '.', '<eos>'], ['<cls>', 'OK', '.', '<eos>'], ['<cls>', 'Okay', '.', '<eos>'], ['<cls>', '529', '.', '<eos>'], ['<cls>', '<unk>', '.', '<eos>'], ['<cls>', '<unk>', '?', '<eos>'], ['<cls>', 'Yes', '?', '<eos>'], ['<cls>', 'Nine', '.', '<eos>'], ['<cls>', '<unk>', '?', '<eos>'], ['<cls>', '1824', '.', '<eos>'], ['<cls>', 'Good', '.', '<eos>'], ['<cls>', 'Android', '.', '<eos>'], ['<cls>', 'Okay', '.', '<eos>'], ['<cls>', 'Thanks', '.', '<eos>'], ['<cls>', '<unk>', '.', '<eos>'], ['<cls>', '<unk>', '.', '<eos>'], ['<cls>', 'Okay', '.', '<eos>'], ['<cls>', 'Yeah', '?', '<eos>'], ['<cls>', 'Yeah', '.', '<eos>'], ['<cls>', 'Yay', '!', '<eos>'], ['<cls>', 'Okay', '.', '<eos>'], ['<cls>', 'Yay', '!', '<eos>'], ['<cls>', 'No', '.', '<eos>'], ['<cls>', 'Wow', '.', '<eos>'], ['<cls>', 'Wow', '.', '<eos>'], ['<cls>', 'OK', '?', '<eos>'], ['<cls>', 'Yeah', '.', '<eos>'], ['<cls>', 'Wow', '.', '<eos>'], ['<cls>', 'N', '<unk>', '<eos>'], ['<cls>', 'Yeah', '.', '<eos>'], ['<cls>', 'Wow', '.', '<eos>'], ['<cls>', 'Anyone', '?', '<eos>']], [['<cls>', 'vô', 'dụng', '<eos>'], ['<cls>', 'Ok', '.', '<eos>'], ['<cls>', 'Này', '.', '<eos>'], ['<cls>', 'Vâng', '.', '<eos>'], ['<cls>', 'Vâng', '.', '<eos>'], ['<cls>', '<unk>', '.', '<eos>'], ['<cls>', 'Joey', '.', '<eos>'], ['<cls>', 'Joey', '.', '<eos>'], ['<cls>', '<unk>', '.', '<eos>'], ['<cls>', 'Đức', '.', '<eos>'], ['<cls>', 'TEDx', '.', '<eos>'], ['<cls>', 'Ôi', '!', '<eos>'], ['<cls>', '72', '.', '<eos>'], ['<cls>', 'Tại', 'sao', '<eos>'], ['<cls>', 'Âm', '.', '<eos>'], ['<cls>', '<unk>', 'tướng', '<eos>'], ['<cls>', '<unk>', '.', '<eos>'], ['<cls>', 'Okay', '.', '<eos>'], ['<cls>', 'Oops', '.', '<eos>'], ['<cls>', 'Huh', '?', '<eos>'], ['<cls>', 'Sai', '.', '<eos>'], ['<cls>', 'Thực', 'vậy', '<eos>'], ['<cls>', 'Ok', '?', '<eos>'], ['<cls>', 'Đủ', 'rồi', '<eos>'], ['<cls>', 'À', '.', '<eos>'], ['<cls>', 'Okay', '.', '<eos>'], ['<cls>', 'David', '.', '<eos>'], ['<cls>', 'Yay', '!', '<eos>'], ['<cls>', '<unk>', '!', '<eos>'], ['<cls>', 'Khô', '.', '<eos>'], ['<cls>', 'Xếp', '.', '<eos>'], ['<cls>', 'Warren', '.', '<eos>'], ['<cls>', 'Chris', '.', '<eos>'], ['<cls>', 'Ồ', '.', '<eos>'], ['<cls>', 'Ok', '.', '<eos>'], ['<cls>', '529', '.', '<eos>'], ['<cls>', '<unk>', '.', '<eos>'], ['<cls>', '<unk>', '?', '<eos>'], ['<cls>', 'Đúng', '?', '<eos>'], ['<cls>', 'Chín', '.', '<eos>'], ['<cls>', '<unk>', '?', '<eos>'], ['<cls>', '1824', '.', '<eos>'], ['<cls>', 'Tốt', '.', '<eos>'], ['<cls>', 'Android', '.', '<eos>'], ['<cls>', 'Ok', '.', '<eos>'], ['<cls>', 'cảm', 'ơn', '<eos>'], ['<cls>', 'Sai', '.', '<eos>'], ['<cls>', 'Sai', '.', '<eos>'], ['<cls>', 'Ok', '.', '<eos>'], ['<cls>', 'Vâng', '?', '<eos>'], ['<cls>', 'Yeah', '.', '<eos>'], ['<cls>', 'Yay', '!', '<eos>'], ['<cls>', 'Okay', '.', '<eos>'], ['<cls>', 'Yay', '!', '<eos>'], ['<cls>', 'Không', '.', '<eos>'], ['<cls>', 'Wow', '.', '<eos>'], ['<cls>', 'Wow', '.', '<eos>'], ['<cls>', 'OK', '?', '<eos>'], ['<cls>', 'Yeah', '.', '<eos>'], ['<cls>', 'Wow', '.', '<eos>'], ['<cls>', 'N', '<unk>', '<eos>'], ['<cls>', 'Vâng', '.', '<eos>'], ['<cls>', 'Ồ', '.', '<eos>'], ['<cls>', 'Ai', '?', '<eos>']])\n",
            "([['<cls>', '<unk>', '.', '<eos>'], ['<cls>', 'Aha', '.', '<eos>'], ['<cls>', '<unk>', '...', '<eos>'], ['<cls>', 'Spock', '.', '<eos>'], ['<cls>', 'Yeah', '.', '<eos>'], ['<cls>', 'Thanks', '.', '<eos>'], ['<cls>', '<unk>', '.', '<eos>'], ['<cls>', 'Wow', '!', '<eos>'], ['<cls>', 'OK', '.', '<eos>'], ['<cls>', '<unk>', '.', '<eos>'], ['<cls>', 'No', '.', '<eos>'], ['<cls>', 'No', '.', '<eos>'], ['<cls>', 'Okay', '.', '<eos>'], ['<cls>', 'Sleep', '.', '<eos>'], ['<cls>', 'Wrong', '.', '<eos>'], ['<cls>', 'Good', '.', '<eos>'], ['<cls>', 'Mmm', '.', '<eos>'], ['<cls>', 'Mmm', '.', '<eos>'], ['<cls>', 'Okay', '.', '<eos>'], ['<cls>', '<unk>', '.', '<eos>'], ['<cls>', 'Yes', '.', '<eos>'], ['<cls>', '<unk>', '.', '<eos>'], ['<cls>', '<unk>', '.', '<eos>'], ['<cls>', '<unk>', '.', '<eos>'], ['<cls>', '2002', '.', '<eos>'], ['<cls>', 'Yeah', '.', '<eos>'], ['<cls>', 'Okay', '.', '<eos>'], ['<cls>', 'Perfect', '.', '<eos>'], ['<cls>', 'Okay', '.', '<eos>'], ['<cls>', 'What', '?', '<eos>'], ['<cls>', 'Sex', '!', '<eos>'], ['<cls>', 'Yes', '?', '<eos>'], ['<cls>', 'Us', '.', '<eos>'], ['<cls>', '<unk>', '.', '<eos>'], ['<cls>', 'So', '...', '<eos>'], ['<cls>', 'Right', '.', '<eos>'], ['<cls>', 'Sorry', '.', '<eos>'], ['<cls>', 'Difficult', '.', '<eos>'], ['<cls>', 'Right', '?', '<eos>'], ['<cls>', 'Seriously', '.', '<eos>'], ['<cls>', 'Okay', '.', '<eos>'], ['<cls>', '<unk>', '.', '<eos>'], ['<cls>', 'Hi', '.', '<eos>'], ['<cls>', 'Genius', '!', '<eos>'], ['<cls>', 'Hello', '!', '<eos>'], ['<cls>', 'Seriously', '.', '<eos>'], ['<cls>', 'Simple', '.', '<eos>'], ['<cls>', 'Hello', '.', '<eos>'], ['<cls>', 'Right', '?', '<eos>'], ['<cls>', 'Wonderful', '.', '<eos>'], ['<cls>', 'Chimborazo', '!', '<eos>'], ['<cls>', 'Chimborazo', '!', '<eos>'], ['<cls>', 'Chimborazo', '!', '<eos>'], ['<cls>', 'Thanks', '.', '<eos>'], ['<cls>', '<unk>', '.', '<eos>'], ['<cls>', '<unk>', '.', '<eos>'], ['<cls>', 'Right', '?', '<eos>'], ['<cls>', 'Thanks', '.', '<eos>'], ['<cls>', 'Yes', '.', '<eos>'], ['<cls>', 'Go', '!', '<eos>'], ['<cls>', 'Thanks', '.', '<eos>'], ['<cls>', 'Why', '?', '<eos>'], ['<cls>', 'Yes', '.', '<eos>'], ['<cls>', 'Yeah', '?', '<eos>']], [['<cls>', '<unk>', '.', '<eos>'], ['<cls>', 'Aha', '.', '<eos>'], ['<cls>', 'Ừm', '...', '<eos>'], ['<cls>', 'Spock', '.', '<eos>'], ['<cls>', 'Vâng', '.', '<eos>'], ['<cls>', 'Cảm', 'ơn', '<eos>'], ['<cls>', '<unk>', '.', '<eos>'], ['<cls>', 'Wow', '!', '<eos>'], ['<cls>', 'Vâng', '.', '<eos>'], ['<cls>', '<unk>', '.', '<eos>'], ['<cls>', 'Không', '.', '<eos>'], ['<cls>', 'Không', '.', '<eos>'], ['<cls>', 'Ok', '.', '<eos>'], ['<cls>', 'Ngủ', '.', '<eos>'], ['<cls>', 'Sai', '.', '<eos>'], ['<cls>', 'Tốt', '.', '<eos>'], ['<cls>', 'Mmmm', '.', '<eos>'], ['<cls>', 'Mmmm', '.', '<eos>'], ['<cls>', 'Okay', '.', '<eos>'], ['<cls>', '<unk>', '.', '<eos>'], ['<cls>', 'Vâng', '.', '<eos>'], ['<cls>', 'Hừm', '.', '<eos>'], ['<cls>', '<unk>', '.', '<eos>'], ['<cls>', '<unk>', '.', '<eos>'], ['<cls>', 'Năm', '2002', '<eos>'], ['<cls>', 'Vâng', '.', '<eos>'], ['<cls>', 'Được', 'rồi', '.', '<eos>'], ['<cls>', 'Hoàn', 'hảo', '.', '<eos>'], ['<cls>', 'Vậy', 'rồi', ',', '<eos>'], ['<cls>', 'Cái', 'gì', '?', '<eos>'], ['<cls>', 'Tình', 'dục', '!', '<eos>'], ['<cls>', 'Đúng', 'không', '?', '<eos>'], ['<cls>', 'Chúng', 'ta', '.', '<eos>'], ['<cls>', 'Yếu', 'đuối', '.', '<eos>'], ['<cls>', 'Bởi', 'vậy', '...', '<eos>'], ['<cls>', 'Đúng', 'rồi', '.', '<eos>'], ['<cls>', 'Xin', 'lỗi', '.', '<eos>'], ['<cls>', 'Thật', 'khó', 'khăn', '<eos>'], ['<cls>', 'Đúng', 'không', '?', '<eos>'], ['<cls>', 'Thật', 'đấy', '.', '<eos>'], ['<cls>', 'Được', 'rồi', '.', '<eos>'], ['<cls>', 'Xin', 'chào', '.', '<eos>'], ['<cls>', 'Xin', 'chào', '.', '<eos>'], ['<cls>', 'Thiên', 'tài', '!', '<eos>'], ['<cls>', 'Xin', 'chào', '!', '<eos>'], ['<cls>', 'Thật', 'đấy', '.', '<eos>'], ['<cls>', 'Đơn', 'giản', '.', '<eos>'], ['<cls>', 'Xin', 'chào', '.', '<eos>'], ['<cls>', 'Đúng', 'không', '?', '<eos>'], ['<cls>', 'Tuyệt', 'vời', '.', '<eos>'], ['<cls>', 'Tỉnh', 'Chimborazo', '!', '<eos>'], ['<cls>', 'Tỉnh', 'Chimborazo', '!', '<eos>'], ['<cls>', 'Tỉnh', 'Chimborazo', '!', '<eos>'], ['<cls>', 'Cảm', 'ơn', '.', '<eos>'], ['<cls>', 'Vân', 'vân', '.', '<eos>'], ['<cls>', 'Hơi', 'thở', '.', '<eos>'], ['<cls>', 'Đúng', 'không', '?', '<eos>'], ['<cls>', 'Cảm', 'ơn', '.', '<eos>'], ['<cls>', 'Có', 'thể', '.', '<eos>'], ['<cls>', 'Bắt', 'đầu', '!', '<eos>'], ['<cls>', 'Cảm', 'ơn', '.', '<eos>'], ['<cls>', 'Tại', 'sao', '?', '<eos>'], ['<cls>', 'Đúng', 'thế', '.', '<eos>'], ['<cls>', 'Có', 'không', '?', '<eos>']])\n"
          ]
        }
      ],
      "source": [
        "def make_batch(data, batchsize):\n",
        "  bb = []\n",
        "  ben = []\n",
        "  bvi = []\n",
        "  for en, vi in data: \n",
        "    ben.append(en)\n",
        "    bvi.append(vi)\n",
        "    if len(ben) >= batchsize:\n",
        "      bb.append((ben, bvi))\n",
        "      ben = []\n",
        "      bvi = []\n",
        "  if len(ben) > 0:\n",
        "    bb.append((ben, bvi))\n",
        "  return bb\n",
        "\n",
        "train_data = make_batch(train_data, BATCHSIZE)\n",
        "\n",
        "for i in range(5):\n",
        "  print(train_data[i])"
      ]
    },
    {
      "cell_type": "code",
      "execution_count": 33,
      "metadata": {
        "colab": {
          "base_uri": "https://localhost:8080/"
        },
        "id": "SIgEW4M5PG4T",
        "outputId": "ec47e9c7-d1ed-4a3e-c85c-480bc15fe907"
      },
      "outputs": [
        {
          "output_type": "stream",
          "name": "stdout",
          "text": [
            "([['<cls>', '<eos>'], ['<cls>', '<eos>'], ['<cls>', '<eos>'], ['<cls>', '<eos>'], ['<cls>', '<eos>'], ['<cls>', '<eos>'], ['<cls>', '<eos>'], ['<cls>', '<eos>'], ['<cls>', '<eos>'], ['<cls>', '<eos>'], ['<cls>', '<eos>'], ['<cls>', '<eos>'], ['<cls>', '<eos>'], ['<cls>', '<eos>'], ['<cls>', '<eos>'], ['<cls>', '<eos>'], ['<cls>', '<eos>'], ['<cls>', '<eos>'], ['<cls>', '<eos>'], ['<cls>', '<eos>'], ['<cls>', '<eos>'], ['<cls>', '<eos>'], ['<cls>', '<eos>'], ['<cls>', '<eos>'], ['<cls>', '<eos>'], ['<cls>', '<eos>'], ['<cls>', '<eos>'], ['<cls>', '<eos>'], ['<cls>', '<eos>'], ['<cls>', '<eos>'], ['<cls>', '<eos>'], ['<cls>', '<eos>'], ['<cls>', '<eos>'], ['<cls>', '<eos>'], ['<cls>', '<eos>'], ['<cls>', '<eos>'], ['<cls>', '<eos>'], ['<cls>', '<eos>'], ['<cls>', '<eos>'], ['<cls>', '<eos>'], ['<cls>', '<eos>'], ['<cls>', '<eos>'], ['<cls>', '<eos>'], ['<cls>', '<eos>'], ['<cls>', '<eos>'], ['<cls>', '<eos>'], ['<cls>', '<eos>'], ['<cls>', '<eos>'], ['<cls>', '<eos>'], ['<cls>', '<eos>'], ['<cls>', '<eos>'], ['<cls>', '<eos>'], ['<cls>', '<eos>'], ['<cls>', '<eos>'], ['<cls>', '<eos>'], ['<cls>', '<eos>'], ['<cls>', '<eos>'], ['<cls>', '<eos>'], ['<cls>', '<eos>'], ['<cls>', '<eos>'], ['<cls>', '<eos>'], ['<cls>', '<eos>'], ['<cls>', '<eos>'], ['<cls>', '<eos>']], [['<cls>', '<eos>'], ['<cls>', '<eos>'], ['<cls>', '<eos>'], ['<cls>', '<eos>'], ['<cls>', '<eos>'], ['<cls>', '<eos>'], ['<cls>', '<eos>'], ['<cls>', '<eos>'], ['<cls>', '<eos>'], ['<cls>', '<eos>'], ['<cls>', '<eos>'], ['<cls>', '<eos>'], ['<cls>', '<eos>'], ['<cls>', '<eos>'], ['<cls>', '<eos>'], ['<cls>', '<eos>'], ['<cls>', '<eos>'], ['<cls>', '<eos>'], ['<cls>', '<eos>'], ['<cls>', '<eos>'], ['<cls>', '<eos>'], ['<cls>', '<eos>'], ['<cls>', '<eos>'], ['<cls>', '<eos>'], ['<cls>', '<eos>'], ['<cls>', '<eos>'], ['<cls>', '<eos>'], ['<cls>', '<eos>'], ['<cls>', '<eos>'], ['<cls>', '<eos>'], ['<cls>', '<eos>'], ['<cls>', '<eos>'], ['<cls>', '<eos>'], ['<cls>', '<eos>'], ['<cls>', '<eos>'], ['<cls>', '<eos>'], ['<cls>', '<eos>'], ['<cls>', '<eos>'], ['<cls>', '<eos>'], ['<cls>', '<eos>'], ['<cls>', '<eos>'], ['<cls>', '<eos>'], ['<cls>', '<eos>'], ['<cls>', '<eos>'], ['<cls>', '<eos>'], ['<cls>', '<eos>'], ['<cls>', '<eos>'], ['<cls>', '<eos>'], ['<cls>', '<eos>'], ['<cls>', '<eos>'], ['<cls>', '<eos>'], ['<cls>', '<eos>'], ['<cls>', '<eos>'], ['<cls>', '<eos>'], ['<cls>', '<eos>'], ['<cls>', '<eos>'], ['<cls>', '<eos>'], ['<cls>', '<eos>'], ['<cls>', '<eos>'], ['<cls>', '<eos>'], ['<cls>', '<eos>'], ['<cls>', '<eos>'], ['<cls>', '<eos>'], ['<cls>', '<eos>']])\n",
            "([['<cls>', '<eos>'], ['<cls>', '<eos>'], ['<cls>', '<eos>'], ['<cls>', '<eos>'], ['<cls>', '<eos>'], ['<cls>', '<eos>'], ['<cls>', '<eos>'], ['<cls>', '<eos>'], ['<cls>', '<eos>'], ['<cls>', '<eos>'], ['<cls>', '<eos>'], ['<cls>', '<eos>'], ['<cls>', '<eos>'], ['<cls>', '<eos>'], ['<cls>', '<eos>'], ['<cls>', '<eos>'], ['<cls>', '<eos>'], ['<cls>', '<eos>'], ['<cls>', '<eos>'], ['<cls>', '<eos>'], ['<cls>', '<eos>'], ['<cls>', '<eos>'], ['<cls>', '<eos>'], ['<cls>', '<eos>'], ['<cls>', '<eos>'], ['<cls>', '<eos>'], ['<cls>', '<eos>'], ['<cls>', '<eos>'], ['<cls>', '<eos>'], ['<cls>', '<eos>'], ['<cls>', '<eos>'], ['<cls>', '<eos>'], ['<cls>', '<eos>'], ['<cls>', '<eos>'], ['<cls>', '<eos>'], ['<cls>', '<eos>'], ['<cls>', '<eos>'], ['<cls>', '<eos>'], ['<cls>', '<eos>'], ['<cls>', '<eos>'], ['<cls>', '<eos>'], ['<cls>', '<eos>'], ['<cls>', '<eos>'], ['<cls>', '<eos>'], ['<cls>', '<eos>'], ['<cls>', '<eos>'], ['<cls>', '<eos>'], ['<cls>', '<eos>'], ['<cls>', '<eos>'], ['<cls>', '<eos>'], ['<cls>', '<eos>'], ['<cls>', '<eos>'], ['<cls>', '<eos>'], ['<cls>', '<eos>'], ['<cls>', '<eos>'], ['<cls>', '<eos>'], ['<cls>', '<eos>'], ['<cls>', '<eos>'], ['<cls>', '<eos>'], ['<cls>', '<eos>'], ['<cls>', '<eos>'], ['<cls>', '<eos>'], ['<cls>', '<eos>'], ['<cls>', '<eos>']], [['<cls>', '<eos>', '<pad>', '<pad>'], ['<cls>', '<eos>', '<pad>', '<pad>'], ['<cls>', '<eos>', '<pad>', '<pad>'], ['<cls>', '<eos>', '<pad>', '<pad>'], ['<cls>', '<eos>', '<pad>', '<pad>'], ['<cls>', '<eos>', '<pad>', '<pad>'], ['<cls>', '<eos>', '<pad>', '<pad>'], ['<cls>', '<eos>', '<pad>', '<pad>'], ['<cls>', '<eos>', '<pad>', '<pad>'], ['<cls>', '<eos>', '<pad>', '<pad>'], ['<cls>', '<eos>', '<pad>', '<pad>'], ['<cls>', '<eos>', '<pad>', '<pad>'], ['<cls>', '<eos>', '<pad>', '<pad>'], ['<cls>', '<eos>', '<pad>', '<pad>'], ['<cls>', '<eos>', '<pad>', '<pad>'], ['<cls>', '<eos>', '<pad>', '<pad>'], ['<cls>', '<eos>', '<pad>', '<pad>'], ['<cls>', '<eos>', '<pad>', '<pad>'], ['<cls>', '<eos>', '<pad>', '<pad>'], ['<cls>', '<eos>', '<pad>', '<pad>'], ['<cls>', '<eos>', '<pad>', '<pad>'], ['<cls>', '<eos>', '<pad>', '<pad>'], ['<cls>', '<eos>', '<pad>', '<pad>'], ['<cls>', '<eos>', '<pad>', '<pad>'], ['<cls>', '<eos>', '<pad>', '<pad>'], ['<cls>', '<eos>', '<pad>', '<pad>'], ['<cls>', '<eos>', '<pad>', '<pad>'], ['<cls>', '<eos>', '<pad>', '<pad>'], ['<cls>', '<eos>', '<pad>', '<pad>'], ['<cls>', '<eos>', '<pad>', '<pad>'], ['<cls>', '<eos>', '<pad>', '<pad>'], ['<cls>', '<eos>', '<pad>', '<pad>'], ['<cls>', '<eos>', '<pad>', '<pad>'], ['<cls>', '<eos>', '<pad>', '<pad>'], ['<cls>', '<eos>', '<pad>', '<pad>'], ['<cls>', '<eos>', '<pad>', '<pad>'], ['<cls>', '<eos>', '<pad>', '<pad>'], ['<cls>', '<eos>', '<pad>', '<pad>'], ['<cls>', '<eos>', '<pad>', '<pad>'], ['<cls>', '<eos>', '<pad>', '<pad>'], ['<cls>', '<eos>', '<pad>', '<pad>'], ['<cls>', '<eos>', '<pad>', '<pad>'], ['<cls>', '<eos>', '<pad>', '<pad>'], ['<cls>', '<eos>', '<pad>', '<pad>'], ['<cls>', '<eos>', '<pad>', '<pad>'], ['<cls>', '<eos>', '<pad>', '<pad>'], ['<cls>', '̣', '<eos>', '<pad>'], ['<cls>', '.', '<eos>', '<pad>'], ['<cls>', '.', '<eos>', '<pad>'], ['<cls>', '.', '<eos>', '<pad>'], ['<cls>', '.', '<eos>', '<pad>'], ['<cls>', '̣', '<eos>', '<pad>'], ['<cls>', 'Cười', '<eos>', '<pad>'], ['<cls>', '.', '<eos>', '<pad>'], ['<cls>', '.', '<eos>', '<pad>'], ['<cls>', '.', '<eos>', '<pad>'], ['<cls>', '.', '<eos>', '<pad>'], ['<cls>', '.', '<eos>', '<pad>'], ['<cls>', '.', '<eos>', '<pad>'], ['<cls>', '.', '<eos>', '<pad>'], ['<cls>', '.', '<eos>', '<pad>'], ['<cls>', 'vỗ', 'tay', '<eos>'], ['<cls>', 'Vỗ', 'tay', '<eos>'], ['<cls>', 'vỗ', 'tay', '<eos>']])\n",
            "([['<cls>', '<eos>', '<pad>', '<pad>'], ['<cls>', '<eos>', '<pad>', '<pad>'], ['<cls>', '<eos>', '<pad>', '<pad>'], ['<cls>', '<eos>', '<pad>', '<pad>'], ['<cls>', '<eos>', '<pad>', '<pad>'], ['<cls>', '<eos>', '<pad>', '<pad>'], ['<cls>', '<eos>', '<pad>', '<pad>'], ['<cls>', '<eos>', '<pad>', '<pad>'], ['<cls>', '<eos>', '<pad>', '<pad>'], ['<cls>', '<eos>', '<pad>', '<pad>'], ['<cls>', '<eos>', '<pad>', '<pad>'], ['<cls>', '<eos>', '<pad>', '<pad>'], ['<cls>', '<eos>', '<pad>', '<pad>'], ['<cls>', '<eos>', '<pad>', '<pad>'], ['<cls>', '<eos>', '<pad>', '<pad>'], ['<cls>', '<eos>', '<pad>', '<pad>'], ['<cls>', '<eos>', '<pad>', '<pad>'], ['<cls>', '<eos>', '<pad>', '<pad>'], ['<cls>', '<eos>', '<pad>', '<pad>'], ['<cls>', '<eos>', '<pad>', '<pad>'], ['<cls>', '<eos>', '<pad>', '<pad>'], ['<cls>', '.', '<eos>', '<pad>'], ['<cls>', '.', '<eos>', '<pad>'], ['<cls>', '.', '<eos>', '<pad>'], ['<cls>', '.', '<eos>', '<pad>'], ['<cls>', '<unk>', '<eos>', '<pad>'], ['<cls>', 'Yeah', '.', '<eos>'], ['<cls>', 'OK', '.', '<eos>'], ['<cls>', 'Okay', '.', '<eos>'], ['<cls>', 'Oh', '.', '<eos>'], ['<cls>', '<unk>', '.', '<eos>'], ['<cls>', 'Seven', '.', '<eos>'], ['<cls>', 'Yeah', '.', '<eos>'], ['<cls>', 'Kant', '.', '<eos>'], ['<cls>', 'Mill', '.', '<eos>'], ['<cls>', '<unk>', '.', '<eos>'], ['<cls>', 'OK', '.', '<eos>'], ['<cls>', 'Um', '.', '<eos>'], ['<cls>', 'Okay', '.', '<eos>'], ['<cls>', 'Wonderful', '.', '<eos>'], ['<cls>', 'Good', '.', '<eos>'], ['<cls>', 'Ooh', '.', '<eos>'], ['<cls>', 'No', '.', '<eos>'], ['<cls>', 'Mario', '!', '<eos>'], ['<cls>', '<unk>', '!', '<eos>'], ['<cls>', 'Boom', '.', '<eos>'], ['<cls>', 'Books', '.', '<eos>'], ['<cls>', 'Hey', '.', '<eos>'], ['<cls>', 'Hey', '.', '<eos>'], ['<cls>', 'Good', '.', '<eos>'], ['<cls>', '<unk>', '!', '<eos>'], ['<cls>', 'Okay', '.', '<eos>'], ['<cls>', 'So', '...', '<eos>'], ['<cls>', 'Okay', '.', '<eos>'], ['<cls>', 'Nope', '.', '<eos>'], ['<cls>', 'Yes', '.', '<eos>'], ['<cls>', 'So', '...', '<eos>'], ['<cls>', 'Okay', '.', '<eos>'], ['<cls>', 'Yeah', '.', '<eos>'], ['<cls>', 'Okay', '.', '<eos>'], ['<cls>', 'Okay', '.', '<eos>'], ['<cls>', 'Okay', '.', '<eos>'], ['<cls>', 'Nope', '.', '<eos>'], ['<cls>', 'Whoa', '.', '<eos>']], [['<cls>', 'Vỗ', 'tay', '<eos>', '<pad>', '<pad>', '<pad>', '<pad>'], ['<cls>', 'Vỗ', 'tay', '<eos>', '<pad>', '<pad>', '<pad>', '<pad>'], ['<cls>', 'Vỗ', 'tay', '<eos>', '<pad>', '<pad>', '<pad>', '<pad>'], ['<cls>', 'Vỗ', 'tay', '<eos>', '<pad>', '<pad>', '<pad>', '<pad>'], ['<cls>', 'Vỗ', 'tay', '<eos>', '<pad>', '<pad>', '<pad>', '<pad>'], ['<cls>', 'Vỗ', 'tay', '<eos>', '<pad>', '<pad>', '<pad>', '<pad>'], ['<cls>', 'Vỗ', 'tay', '<eos>', '<pad>', '<pad>', '<pad>', '<pad>'], ['<cls>', 'Vỗ', 'tay', '<eos>', '<pad>', '<pad>', '<pad>', '<pad>'], ['<cls>', 'Vỗ', 'tay', '<eos>', '<pad>', '<pad>', '<pad>', '<pad>'], ['<cls>', 'Vỗ', 'tay', '<eos>', '<pad>', '<pad>', '<pad>', '<pad>'], ['<cls>', 'Vỗ', 'tay', '<eos>', '<pad>', '<pad>', '<pad>', '<pad>'], ['<cls>', 'vỗ', 'tay', '<eos>', '<pad>', '<pad>', '<pad>', '<pad>'], ['<cls>', 'Vỗ', 'tay', '<eos>', '<pad>', '<pad>', '<pad>', '<pad>'], ['<cls>', 'Cám', 'ơn', '<eos>', '<pad>', '<pad>', '<pad>', '<pad>'], ['<cls>', 'Vỗ', 'tay', '.', '<eos>', '<pad>', '<pad>', '<pad>'], ['<cls>', 'Vỗ', 'tay', '.', '<eos>', '<pad>', '<pad>', '<pad>'], ['<cls>', 'Vỗ', 'tay', '.', '<eos>', '<pad>', '<pad>', '<pad>'], ['<cls>', 'Vỗ', 'tay', '.', '<eos>', '<pad>', '<pad>', '<pad>'], ['<cls>', 'Khán', 'giả', 'vỗ', 'tay', '<eos>', '<pad>', '<pad>'], ['<cls>', '&quot;', 'tán', 'thưởng', '&quot;', '<eos>', '<pad>', '<pad>'], ['<cls>', 'có', 'những', 'giấc', 'mơ', 'đẹp', '.', '<eos>'], ['<cls>', '<eos>', '<pad>', '<pad>', '<pad>', '<pad>', '<pad>', '<pad>'], ['<cls>', '<eos>', '<pad>', '<pad>', '<pad>', '<pad>', '<pad>', '<pad>'], ['<cls>', '.', '<eos>', '<pad>', '<pad>', '<pad>', '<pad>', '<pad>'], ['<cls>', '.', '<eos>', '<pad>', '<pad>', '<pad>', '<pad>', '<pad>'], ['<cls>', '<unk>', '<eos>', '<pad>', '<pad>', '<pad>', '<pad>', '<pad>'], ['<cls>', '<unk>', '<eos>', '<pad>', '<pad>', '<pad>', '<pad>', '<pad>'], ['<cls>', 'OK', '<eos>', '<pad>', '<pad>', '<pad>', '<pad>', '<pad>'], ['<cls>', 'Ok', '<eos>', '<pad>', '<pad>', '<pad>', '<pad>', '<pad>'], ['<cls>', 'Ồ', '<eos>', '<pad>', '<pad>', '<pad>', '<pad>', '<pad>'], ['<cls>', '<unk>', '<eos>', '<pad>', '<pad>', '<pad>', '<pad>', '<pad>'], ['<cls>', 'Bảy', '<eos>', '<pad>', '<pad>', '<pad>', '<pad>', '<pad>'], ['<cls>', 'Ừ', '<eos>', '<pad>', '<pad>', '<pad>', '<pad>', '<pad>'], ['<cls>', 'Kant', '<eos>', '<pad>', '<pad>', '<pad>', '<pad>', '<pad>'], ['<cls>', 'Mill', '<eos>', '<pad>', '<pad>', '<pad>', '<pad>', '<pad>'], ['<cls>', '<unk>', '<eos>', '<pad>', '<pad>', '<pad>', '<pad>', '<pad>'], ['<cls>', 'Ok', '<eos>', '<pad>', '<pad>', '<pad>', '<pad>', '<pad>'], ['<cls>', 'Uh', '<eos>', '<pad>', '<pad>', '<pad>', '<pad>', '<pad>'], ['<cls>', 'Ok', '<eos>', '<pad>', '<pad>', '<pad>', '<pad>', '<pad>'], ['<cls>', 'Tuyệt', '<eos>', '<pad>', '<pad>', '<pad>', '<pad>', '<pad>'], ['<cls>', 'Tốt', '<eos>', '<pad>', '<pad>', '<pad>', '<pad>', '<pad>'], ['<cls>', 'Ồ', '<eos>', '<pad>', '<pad>', '<pad>', '<pad>', '<pad>'], ['<cls>', 'Không', '<eos>', '<pad>', '<pad>', '<pad>', '<pad>', '<pad>'], ['<cls>', 'Mario', '!', '<eos>', '<pad>', '<pad>', '<pad>', '<pad>'], ['<cls>', '<unk>', '!', '<eos>', '<pad>', '<pad>', '<pad>', '<pad>'], ['<cls>', 'Bùm', '.', '<eos>', '<pad>', '<pad>', '<pad>', '<pad>'], ['<cls>', 'Sách', '.', '<eos>', '<pad>', '<pad>', '<pad>', '<pad>'], ['<cls>', 'Này', '.', '<eos>', '<pad>', '<pad>', '<pad>', '<pad>'], ['<cls>', 'Này', '.', '<eos>', '<pad>', '<pad>', '<pad>', '<pad>'], ['<cls>', 'Tốt', '.', '<eos>', '<pad>', '<pad>', '<pad>', '<pad>'], ['<cls>', 'Ngon', 'quá', '<eos>', '<pad>', '<pad>', '<pad>', '<pad>'], ['<cls>', 'Ok', '.', '<eos>', '<pad>', '<pad>', '<pad>', '<pad>'], ['<cls>', 'Nên', '--', '<eos>', '<pad>', '<pad>', '<pad>', '<pad>'], ['<cls>', 'Vâng', '.', '<eos>', '<pad>', '<pad>', '<pad>', '<pad>'], ['<cls>', 'Không', '.', '<eos>', '<pad>', '<pad>', '<pad>', '<pad>'], ['<cls>', 'Có', '.', '<eos>', '<pad>', '<pad>', '<pad>', '<pad>'], ['<cls>', 'Thì', '...', '<eos>', '<pad>', '<pad>', '<pad>', '<pad>'], ['<cls>', 'OK', '.', '<eos>', '<pad>', '<pad>', '<pad>', '<pad>'], ['<cls>', 'Yeah', '.', '<eos>', '<pad>', '<pad>', '<pad>', '<pad>'], ['<cls>', 'Được', '.', '<eos>', '<pad>', '<pad>', '<pad>', '<pad>'], ['<cls>', 'Được', '.', '<eos>', '<pad>', '<pad>', '<pad>', '<pad>'], ['<cls>', 'Được', '.', '<eos>', '<pad>', '<pad>', '<pad>', '<pad>'], ['<cls>', 'Không', '.', '<eos>', '<pad>', '<pad>', '<pad>', '<pad>'], ['<cls>', 'Whoa', '.', '<eos>', '<pad>', '<pad>', '<pad>', '<pad>']])\n"
          ]
        }
      ],
      "source": [
        "def padding_batch(b):\n",
        "  maxlen = max([len(x) for x in b])\n",
        "  for tkl in b:\n",
        "    for i in range(maxlen - len(tkl)):\n",
        "      tkl.append('<pad>')\n",
        "\n",
        "def padding(bb):\n",
        "  for ben, bvi in bb:\n",
        "    padding_batch(ben)\n",
        "    padding_batch(bvi)\n",
        "\n",
        "padding(train_data)\n",
        "\n",
        "for i in range(3):\n",
        "  print(train_data[i])"
      ]
    },
    {
      "cell_type": "code",
      "execution_count": 34,
      "metadata": {
        "colab": {
          "base_uri": "https://localhost:8080/"
        },
        "id": "G3HoTP1qPG4U",
        "outputId": "3801b277-8b4e-42e6-bd5f-70fa5bf15607"
      },
      "outputs": [
        {
          "output_type": "stream",
          "name": "stdout",
          "text": [
            "([[2, 3], [2, 3], [2, 3], [2, 3], [2, 3], [2, 3], [2, 3], [2, 3], [2, 3], [2, 3], [2, 3], [2, 3], [2, 3], [2, 3], [2, 3], [2, 3], [2, 3], [2, 3], [2, 3], [2, 3], [2, 3], [2, 3], [2, 3], [2, 3], [2, 3], [2, 3], [2, 3], [2, 3], [2, 3], [2, 3], [2, 3], [2, 3], [2, 3], [2, 3], [2, 3], [2, 3], [2, 3], [2, 3], [2, 3], [2, 3], [2, 3], [2, 3], [2, 3], [2, 3], [2, 3], [2, 3], [2, 3], [2, 3], [2, 3], [2, 3], [2, 3], [2, 3], [2, 3], [2, 3], [2, 3], [2, 3], [2, 3], [2, 3], [2, 3], [2, 3], [2, 3], [2, 3], [2, 3], [2, 3]], [[2, 3], [2, 3], [2, 3], [2, 3], [2, 3], [2, 3], [2, 3], [2, 3], [2, 3], [2, 3], [2, 3], [2, 3], [2, 3], [2, 3], [2, 3], [2, 3], [2, 3], [2, 3], [2, 3], [2, 3], [2, 3], [2, 3], [2, 3], [2, 3], [2, 3], [2, 3], [2, 3], [2, 3], [2, 3], [2, 3], [2, 3], [2, 3], [2, 3], [2, 3], [2, 3], [2, 3], [2, 3], [2, 3], [2, 3], [2, 3], [2, 3], [2, 3], [2, 3], [2, 3], [2, 3], [2, 3], [2, 3], [2, 3], [2, 3], [2, 3], [2, 3], [2, 3], [2, 3], [2, 3], [2, 3], [2, 3], [2, 3], [2, 3], [2, 3], [2, 3], [2, 3], [2, 3], [2, 3], [2, 3]])\n",
            "([[2, 3], [2, 3], [2, 3], [2, 3], [2, 3], [2, 3], [2, 3], [2, 3], [2, 3], [2, 3], [2, 3], [2, 3], [2, 3], [2, 3], [2, 3], [2, 3], [2, 3], [2, 3], [2, 3], [2, 3], [2, 3], [2, 3], [2, 3], [2, 3], [2, 3], [2, 3], [2, 3], [2, 3], [2, 3], [2, 3], [2, 3], [2, 3], [2, 3], [2, 3], [2, 3], [2, 3], [2, 3], [2, 3], [2, 3], [2, 3], [2, 3], [2, 3], [2, 3], [2, 3], [2, 3], [2, 3], [2, 3], [2, 3], [2, 3], [2, 3], [2, 3], [2, 3], [2, 3], [2, 3], [2, 3], [2, 3], [2, 3], [2, 3], [2, 3], [2, 3], [2, 3], [2, 3], [2, 3], [2, 3]], [[2, 3, 1, 1], [2, 3, 1, 1], [2, 3, 1, 1], [2, 3, 1, 1], [2, 3, 1, 1], [2, 3, 1, 1], [2, 3, 1, 1], [2, 3, 1, 1], [2, 3, 1, 1], [2, 3, 1, 1], [2, 3, 1, 1], [2, 3, 1, 1], [2, 3, 1, 1], [2, 3, 1, 1], [2, 3, 1, 1], [2, 3, 1, 1], [2, 3, 1, 1], [2, 3, 1, 1], [2, 3, 1, 1], [2, 3, 1, 1], [2, 3, 1, 1], [2, 3, 1, 1], [2, 3, 1, 1], [2, 3, 1, 1], [2, 3, 1, 1], [2, 3, 1, 1], [2, 3, 1, 1], [2, 3, 1, 1], [2, 3, 1, 1], [2, 3, 1, 1], [2, 3, 1, 1], [2, 3, 1, 1], [2, 3, 1, 1], [2, 3, 1, 1], [2, 3, 1, 1], [2, 3, 1, 1], [2, 3, 1, 1], [2, 3, 1, 1], [2, 3, 1, 1], [2, 3, 1, 1], [2, 3, 1, 1], [2, 3, 1, 1], [2, 3, 1, 1], [2, 3, 1, 1], [2, 3, 1, 1], [2, 3, 1, 1], [2, 1466, 3, 1], [2, 72, 3, 1], [2, 72, 3, 1], [2, 72, 3, 1], [2, 72, 3, 1], [2, 1466, 3, 1], [2, 5244, 3, 1], [2, 72, 3, 1], [2, 72, 3, 1], [2, 72, 3, 1], [2, 72, 3, 1], [2, 72, 3, 1], [2, 72, 3, 1], [2, 72, 3, 1], [2, 72, 3, 1], [2, 3424, 461, 3], [2, 5245, 461, 3], [2, 3424, 461, 3]])\n",
            "([[2, 3, 1, 1], [2, 3, 1, 1], [2, 3, 1, 1], [2, 3, 1, 1], [2, 3, 1, 1], [2, 3, 1, 1], [2, 3, 1, 1], [2, 3, 1, 1], [2, 3, 1, 1], [2, 3, 1, 1], [2, 3, 1, 1], [2, 3, 1, 1], [2, 3, 1, 1], [2, 3, 1, 1], [2, 3, 1, 1], [2, 3, 1, 1], [2, 3, 1, 1], [2, 3, 1, 1], [2, 3, 1, 1], [2, 3, 1, 1], [2, 3, 1, 1], [2, 48, 3, 1], [2, 48, 3, 1], [2, 48, 3, 1], [2, 48, 3, 1], [2, 0, 3, 1], [2, 2481, 48, 3], [2, 1785, 48, 3], [2, 1527, 48, 3], [2, 1530, 48, 3], [2, 0, 48, 3], [2, 12680, 48, 3], [2, 2481, 48, 3], [2, 16526, 48, 3], [2, 22895, 48, 3], [2, 0, 48, 3], [2, 1785, 48, 3], [2, 16402, 48, 3], [2, 1527, 48, 3], [2, 12332, 48, 3], [2, 3280, 48, 3], [2, 11878, 48, 3], [2, 1531, 48, 3], [2, 1558, 1658, 3], [2, 0, 1658, 3], [2, 4193, 48, 3], [2, 6889, 48, 3], [2, 4090, 48, 3], [2, 4090, 48, 3], [2, 3280, 48, 3], [2, 0, 1658, 3], [2, 1527, 48, 3], [2, 285, 1775, 3], [2, 1527, 48, 3], [2, 11268, 48, 3], [2, 2227, 48, 3], [2, 285, 1775, 3], [2, 1527, 48, 3], [2, 2481, 48, 3], [2, 1527, 48, 3], [2, 1527, 48, 3], [2, 1527, 48, 3], [2, 11268, 48, 3], [2, 5892, 48, 3]], [[2, 5245, 461, 3, 1, 1, 1, 1], [2, 5245, 461, 3, 1, 1, 1, 1], [2, 5245, 461, 3, 1, 1, 1, 1], [2, 5245, 461, 3, 1, 1, 1, 1], [2, 5245, 461, 3, 1, 1, 1, 1], [2, 5245, 461, 3, 1, 1, 1, 1], [2, 5245, 461, 3, 1, 1, 1, 1], [2, 5245, 461, 3, 1, 1, 1, 1], [2, 5245, 461, 3, 1, 1, 1, 1], [2, 5245, 461, 3, 1, 1, 1, 1], [2, 5245, 461, 3, 1, 1, 1, 1], [2, 3424, 461, 3, 1, 1, 1, 1], [2, 5245, 461, 3, 1, 1, 1, 1], [2, 436, 437, 3, 1, 1, 1, 1], [2, 5245, 461, 72, 3, 1, 1, 1], [2, 5245, 461, 72, 3, 1, 1, 1], [2, 5245, 461, 72, 3, 1, 1, 1], [2, 5245, 461, 72, 3, 1, 1, 1], [2, 1818, 434, 3424, 461, 3, 1, 1], [2, 595, 1833, 2331, 595, 3, 1, 1], [2, 198, 28, 1354, 1355, 1351, 72, 3], [2, 3, 1, 1, 1, 1, 1, 1], [2, 3, 1, 1, 1, 1, 1, 1], [2, 72, 3, 1, 1, 1, 1, 1], [2, 72, 3, 1, 1, 1, 1, 1], [2, 0, 3, 1, 1, 1, 1, 1], [2, 0, 3, 1, 1, 1, 1, 1], [2, 3213, 3, 1, 1, 1, 1, 1], [2, 1711, 3, 1, 1, 1, 1, 1], [2, 1498, 3, 1, 1, 1, 1, 1], [2, 0, 3, 1, 1, 1, 1, 1], [2, 5402, 3, 1, 1, 1, 1, 1], [2, 2000, 3, 1, 1, 1, 1, 1], [2, 7241, 3, 1, 1, 1, 1, 1], [2, 9790, 3, 1, 1, 1, 1, 1], [2, 0, 3, 1, 1, 1, 1, 1], [2, 1711, 3, 1, 1, 1, 1, 1], [2, 8777, 3, 1, 1, 1, 1, 1], [2, 1711, 3, 1, 1, 1, 1, 1], [2, 1715, 3, 1, 1, 1, 1, 1], [2, 1716, 3, 1, 1, 1, 1, 1], [2, 1498, 3, 1, 1, 1, 1, 1], [2, 499, 3, 1, 1, 1, 1, 1], [2, 1384, 1439, 3, 1, 1, 1, 1], [2, 0, 1439, 3, 1, 1, 1, 1], [2, 2771, 72, 3, 1, 1, 1, 1], [2, 3788, 72, 3, 1, 1, 1, 1], [2, 2728, 72, 3, 1, 1, 1, 1], [2, 2728, 72, 3, 1, 1, 1, 1], [2, 1716, 72, 3, 1, 1, 1, 1], [2, 5511, 522, 3, 1, 1, 1, 1], [2, 1711, 72, 3, 1, 1, 1, 1], [2, 1136, 45, 3, 1, 1, 1, 1], [2, 475, 72, 3, 1, 1, 1, 1], [2, 499, 72, 3, 1, 1, 1, 1], [2, 91, 72, 3, 1, 1, 1, 1], [2, 2563, 1510, 3, 1, 1, 1, 1], [2, 3213, 72, 3, 1, 1, 1, 1], [2, 5967, 72, 3, 1, 1, 1, 1], [2, 738, 72, 3, 1, 1, 1, 1], [2, 738, 72, 3, 1, 1, 1, 1], [2, 738, 72, 3, 1, 1, 1, 1], [2, 499, 72, 3, 1, 1, 1, 1], [2, 7014, 72, 3, 1, 1, 1, 1]])\n",
            "([2, 444, 49, 96, 678, 16, 49, 884, 429, 823, 96, 22, 1203, 28, 22, 203, 16, 70, 49, 722, 218, 2403, 10, 2271, 178, 545, 9225, 868, 0, 48, 545, 3], ['When', 'I', 'was', 'little', ',', 'I', 'thought', 'my', 'country', 'was', 'the', 'best', 'on', 'the', 'planet', ',', 'and', 'I', 'grew', 'up', 'singing', 'a', 'song', 'called', '&quot;', 'Nothing', 'To', 'Envy', '.', '&quot;'], ['Khi', 'tôi', 'còn', 'nhỏ', ',', 'Tôi', 'nghĩ', 'rằng', 'BắcTriều', 'Tiên', 'là', 'đất', 'nước', 'tốt', 'nhất', 'trên', 'thế', 'giới', 'và', 'tôi', 'thường', 'hát', 'bài', '&quot;', 'Chúng', 'ta', 'chẳng', 'có', 'gì', 'phải', 'ghen', 'tị', '.', '&quot;'])\n",
            "([2, 109, 49, 96, 198, 6154, 48, 3], ['And', 'I', 'was', 'very', 'proud', '.'], ['Tôi', 'đã', 'rất', 'tự', 'hào', 'về', 'đất', 'nước', 'tôi', '.'])\n",
            "([2, 13, 702, 16, 171, 1625, 10, 1318, 21, 365, 1830, 22, 625, 21, 8919, 0, 16, 442, 171, 186, 1834, 210, 56, 22, 1737, 128, 16, 1741, 58, 1317, 16, 1258, 1259, 16, 1512, 76, 22, 2722, 48, 3], ['In', 'school', ',', 'we', 'spent', 'a', 'lot', 'of', 'time', 'studying', 'the', 'history', 'of', 'Kim', 'Il-Sung', ',', 'but', 'we', 'never', 'learned', 'much', 'about', 'the', 'outside', 'world', ',', 'except', 'that', 'America', ',', 'South', 'Korea', ',', 'Japan', 'are', 'the', 'enemies', '.'], ['Ở', 'trường', ',', 'chúng', 'tôi', 'dành', 'rất', 'nhiều', 'thời', 'gian', 'để', 'học', 'về', 'cuộc', 'đời', 'của', 'chủ', 'tịch', 'Kim', 'II-', 'Sung', ',', 'nhưng', 'lại', 'không', 'học', 'nhiều', 'về', 'thế', 'giới', 'bên', 'ngoài', ',', 'ngoại', 'trừ', 'việc', 'Hoa', 'Kỳ', ',', 'Hàn', 'Quốc', 'và', 'Nhật', 'Bản', 'là', 'kẻ', 'thù', 'của', 'chúng', 'tôi', '.'])\n"
          ]
        }
      ],
      "source": [
        "train_data = [([[vocabidx_en[token] for token in tokenlist] for tokenlist in ben],\n",
        "               [[vocabidx_vi [token] for token in tokenlist] for tokenlist in bvi]) for ben, bvi in train_data]\n",
        "test_data = [([vocabidx_en[token] for token in enprep], en, vi) for enprep, en, vi in test_data]\n",
        "\n",
        "for i in range (3): \n",
        "  print(train_data[i]) \n",
        "for i in range(3): \n",
        "  print(test_data[i])"
      ]
    },
    {
      "cell_type": "code",
      "execution_count": 12,
      "metadata": {
        "colab": {
          "base_uri": "https://localhost:8080/"
        },
        "id": "KlxhCXyOlHSj",
        "outputId": "7425f226-3def-4219-9a9e-250fd5b7f699"
      },
      "outputs": [
        {
          "output_type": "execute_result",
          "data": {
            "text/plain": [
              "list"
            ]
          },
          "metadata": {},
          "execution_count": 12
        }
      ],
      "source": [
        "type(train_data)"
      ]
    },
    {
      "cell_type": "code",
      "source": [
        ""
      ],
      "metadata": {
        "id": "P2xXiydt0rY7"
      },
      "execution_count": 12,
      "outputs": []
    },
    {
      "cell_type": "markdown",
      "metadata": {
        "id": "mZhFF7xHRYch"
      },
      "source": [
        "## Build the model"
      ]
    },
    {
      "cell_type": "markdown",
      "source": [
        "### Model LSTM 40 epoch, bleu = 0.0959"
      ],
      "metadata": {
        "id": "BtyEzTJCNz-8"
      }
    },
    {
      "cell_type": "code",
      "execution_count": 40,
      "metadata": {
        "id": "txt-Xwa7PG4U"
      },
      "outputs": [],
      "source": [
        "class LSTM(torch.nn.Module):\n",
        "  def __init__(self, vocablist_x, vocabidx_x, vocablist_y, vocabidx_y):\n",
        "    super(LSTM, self).__init__()\n",
        "\n",
        "    self.encemb = torch.nn.Embedding(len(vocablist_x), 256, padding_idx = vocabidx_x['<pad>'])\n",
        "    self.dropout = torch.nn.Dropout(0.1)\n",
        "    self.enclstm = torch.nn.LSTM(256,516,1,dropout=0.1, bidirectional=True)\n",
        "    \n",
        "    self.decemb = torch.nn.Embedding(len(vocablist_x), 256, padding_idx = vocabidx_y['<pad>'])\n",
        "    self.declstm = torch.nn.LSTM(256,516,1,dropout=0.1, bidirectional=True)\n",
        "    self.fc1 = torch.nn.Linear(2*516, 2*2*516 )\n",
        "    self.fc2 = torch.nn.Linear(2*2*516, len(vocabidx_y))\n",
        "  \n",
        "  def forward(self,x):\n",
        "    x, y = x[0], x[1]\n",
        "    e_x = self.dropout(self.encemb(x))\n",
        "    outenc,(h,c) = self.enclstm(e_x)\n",
        "    n_y=y.shape[0]\n",
        "    outputs = torch.zeros(n_y,BATCHSIZE,len(vocablist_vi)).to(DEVICE)\n",
        "    loss = torch.tensor(0.,dtype=torch.float32).to(DEVICE)\n",
        "    for i in range(n_y-1):\n",
        "      input = y[i]\n",
        "      input = input.unsqueeze(0)\n",
        "      input = self.dropout(self.decemb(input))\n",
        "      outdec, (h,c) = self.declstm(input,(h,c))\n",
        "      dense_output = self.fc1(outdec)\n",
        "      drop_output = self.dropout(dense_output)\n",
        "      output = self.fc2(drop_output.squeeze(0))\n",
        "      input = y[i+1]\n",
        "      loss += F.cross_entropy(output, y[i+1])\n",
        "    return loss\n",
        "\n",
        "  def evaluate(self,x,vocablist_y,vocabidx_y):\n",
        "    e_x = self.dropout(self.encemb(x))\n",
        "    outenc,(h,c)=self.enclstm(e_x)\n",
        "    \n",
        "    y = torch.tensor([vocabidx_y['<cls>']]).to(DEVICE)\n",
        "    pred=[]\n",
        "    for i in range(30):\n",
        "        input = y\n",
        "        input = input.unsqueeze(0)\n",
        "        input = self.dropout(self.decemb(input))\n",
        "        outdec, (h,c) = self.declstm(input,(h,c))\n",
        "        dense_output = self.fc1(outdec)\n",
        "        drop_output = self.dropout(dense_output)\n",
        "        output = self.fc2(drop_output.squeeze(0))\n",
        "        pred_id = output.squeeze().argmax().item()\n",
        "        if pred_id == vocabidx_y['<eos>']:\n",
        "            break\n",
        "        pred_y = vocablist_y[pred_id][0]\n",
        "        pred.append(pred_y)\n",
        "        y[0]=pred_id\n",
        "        input=y\n",
        "    return pred"
      ]
    },
    {
      "cell_type": "markdown",
      "source": [
        "### Model LTSM 20 epoch, bleu = 0.1"
      ],
      "metadata": {
        "id": "3sbzh7AcODNv"
      }
    },
    {
      "cell_type": "code",
      "source": [
        "class LSTM(torch.nn.Module):\n",
        "  def __init__(self, vocablist_x, vocabidx_x, vocablist_y, vocabidx_y):\n",
        "    super(LSTM, self).__init__()\n",
        "\n",
        "    self.encemb = torch.nn.Embedding(len(vocablist_x), 500, padding_idx = vocabidx_x['<pad>'])\n",
        "    self.dropout = torch.nn.Dropout(0.2)\n",
        "    self.enclstm = torch.nn.LSTM(500,512,2,dropout=0.2, bidirectional=True)\n",
        "    \n",
        "    self.decemb = torch.nn.Embedding(len(vocablist_x), 500, padding_idx = vocabidx_y['<pad>'])\n",
        "    self.declstm = torch.nn.LSTM(500,512,2,dropout=0.2, bidirectional=True)\n",
        "    self.decout = torch.nn.Linear(512*2, len(vocabidx_y))\n",
        "    # self.fc1 = torch.nn.Linear(2*512, 2*2*512 )\n",
        "    # self.fc2 = torch.nn.Linear(2*512, len(vocabidx_y))\n",
        "  \n",
        "  def forward(self,x):\n",
        "    x, y = x[0], x[1]\n",
        "    e_x = self.dropout(self.encemb(x))\n",
        "    outenc,(h,c) = self.enclstm(e_x)\n",
        "    n_y=y.shape[0]\n",
        "    outputs = torch.zeros(n_y,BATCHSIZE,len(vocablist_vi)).to(DEVICE)\n",
        "    loss = torch.tensor(0.,dtype=torch.float32).to(DEVICE)\n",
        "    for i in range(n_y-1):\n",
        "      input = y[i]\n",
        "      input = input.unsqueeze(0)\n",
        "      input = self.dropout(self.decemb(input))\n",
        "      outdec, (h,c) = self.declstm(input,(h,c))\n",
        "      # dense_output = self.fc1(outdec)\n",
        "      # drop_output = self.dropout(dense_output)\n",
        "      # output = self.fc2(drop_output.squeeze(0))\n",
        "      output = self.decout(outdec.squeeze(0))\n",
        "      input = y[i+1]\n",
        "      loss += F.cross_entropy(output, y[i+1])\n",
        "    return loss\n",
        "\n",
        "  def evaluate(self,x,vocablist_y,vocabidx_y):\n",
        "    e_x = self.dropout(self.encemb(x))\n",
        "    outenc,(h,c)=self.enclstm(e_x)\n",
        "    \n",
        "    y = torch.tensor([vocabidx_y['<cls>']]).to(DEVICE)\n",
        "    pred=[]\n",
        "    for i in range(30):\n",
        "        input = y\n",
        "        input = input.unsqueeze(0)\n",
        "        input = self.dropout(self.decemb(input))\n",
        "        outdec, (h,c) = self.declstm(input,(h,c))\n",
        "        # dense_output = self.fc1(outdec)\n",
        "        # drop_output = self.dropout(dense_output)\n",
        "        # output = self.fc2(drop_output.squeeze(0))\n",
        "        output = self.decout(outdec.squeeze(0))\n",
        "        pred_id = output.squeeze().argmax().item()\n",
        "        if pred_id == vocabidx_y['<eos>']:\n",
        "            break\n",
        "        pred_y = vocablist_y[pred_id][0]\n",
        "        pred.append(pred_y)\n",
        "        y[0]=pred_id\n",
        "        input=y\n",
        "    return pred"
      ],
      "metadata": {
        "id": "xC_hcJbOOL5v"
      },
      "execution_count": 35,
      "outputs": []
    },
    {
      "cell_type": "markdown",
      "metadata": {
        "id": "0sTRuWEyRa19"
      },
      "source": [
        "## Train the model"
      ]
    },
    {
      "cell_type": "code",
      "execution_count": 41,
      "metadata": {
        "id": "4RdmC4RmPG4U"
      },
      "outputs": [],
      "source": [
        "def train():\n",
        "  model = LSTM(vocablist_en, vocabidx_en, vocablist_vi, vocabidx_vi).to(DEVICE)\n",
        "  optimizer = torch.optim.Adam(model.parameters(), lr=LR) \n",
        "  for epoch in range(EPOCH):\n",
        "    loss = 0\n",
        "    step = 0\n",
        "    for ben, bvi in train_data:\n",
        "      ben = torch.tensor(ben, dtype=torch.int64).transpose(0,1).to(DEVICE) \n",
        "      bvi = torch.tensor(bvi, dtype=torch.int64).transpose(0,1).to(DEVICE)\n",
        "      optimizer.zero_grad()\n",
        "      batchloss = model((ben, bvi))\n",
        "      batchloss.backward()\n",
        "      optimizer.step() \n",
        "      loss = loss + batchloss.item()\n",
        "      if step % 100 == 0:\n",
        "        print(\"step:\", step, \"batch loss:\", batchloss.item())\n",
        "      step += 1\n",
        "    print(\"epoch\", epoch, \": loss\", loss)\n",
        "  torch.save(model.state_dict(), MODELNAME)"
      ]
    },
    {
      "cell_type": "code",
      "execution_count": 42,
      "metadata": {
        "id": "RJlUAPU6PG4V"
      },
      "outputs": [],
      "source": [
        "def test():\n",
        "  total = 0\n",
        "  correct = 0\n",
        "  model = LSTM(vocablist_en, vocabidx_en, vocablist_vi, vocabidx_vi).to(DEVICE)\n",
        "  model.load_state_dict(torch.load(MODELNAME))\n",
        "  model.eval()\n",
        "  ref = []\n",
        "  pred = []\n",
        "  for enprep, en, vi in test_data:\n",
        "    input = torch.tensor([enprep], dtype=torch.int64).transpose(0, 1).to(DEVICE)\n",
        "    # flat_inputs = torch.flatten(input)\n",
        "    p=model.evaluate(input, vocablist_vi, vocabidx_vi)\n",
        "    print(\"INPUT\", en)\n",
        "    print(\"REF\", vi)\n",
        "    print(\"MT\", p)\n",
        "    ref.append([vi])\n",
        "    pred.append(p)\n",
        "  bleu = torchtext.data.metrics.bleu_score(pred, ref)\n",
        "  print(\"total:\", len(test_data)) \n",
        "  print(\"bleu:\", bleu)"
      ]
    },
    {
      "cell_type": "code",
      "source": [
        "EPOCH = 20\n",
        "train()"
      ],
      "metadata": {
        "id": "CYHiVh3MrirJ"
      },
      "execution_count": null,
      "outputs": []
    },
    {
      "cell_type": "code",
      "source": [
        "test()"
      ],
      "metadata": {
        "id": "u_zAOg8YrlDA"
      },
      "execution_count": null,
      "outputs": []
    },
    {
      "cell_type": "markdown",
      "source": [
        "## Fine tune "
      ],
      "metadata": {
        "id": "v7nNXCPLoTML"
      }
    },
    {
      "cell_type": "markdown",
      "source": [
        "### epochs = 10, batch size = 128, embedding feature number = 500, dropout with p = 0.2, LR = 0.0001, hidden feature number of LSTM = 512.\n",
        "\n",
        "total: 1268\n",
        "\n",
        "bleu: 0.05002653860452189"
      ],
      "metadata": {
        "id": "WcKP_2acV4PS"
      }
    },
    {
      "cell_type": "markdown",
      "source": [
        "### epochs = 20, batch size = 128, embedding feature number = 256, dropout with p = 0.1, LR = 0.0001, hidden feature number of LSTM = 516, add 1 a dense_output \n",
        "\n",
        "total: 1268\n",
        "\n",
        "bleu: 0.06727238576000198"
      ],
      "metadata": {
        "id": "rXqzfQ-PoXx_"
      }
    },
    {
      "cell_type": "markdown",
      "source": [
        "### epochs = 20, batch size = 128, embedding feature number = 500, dropout with p = 0.2, LR = 0.0001, hidden feature number of LSTM = 512.\n",
        "\n",
        "total: 1268\n",
        "\n",
        "bleu: 0.06942979589406871"
      ],
      "metadata": {
        "id": "mP9A5EPPZ8d9"
      }
    },
    {
      "cell_type": "markdown",
      "source": [
        "### epochs = 40, batch size = 128, embedding feature number = 256, dropout with p = 0.1, LR = 0.0001, hidden feature number of LSTM = 516, add 1 a dense_output\n",
        "\n",
        "total: 1268\n",
        "\n",
        "bleu: 0.07413500685516883"
      ],
      "metadata": {
        "id": "L5PlREeJocq8"
      }
    },
    {
      "cell_type": "markdown",
      "source": [
        "### epochs = 20, batch size = 128, embedding feature number = 500, dropout with p = 0.2, LR = 0.001, hidden feature number of LSTM = 512.\n",
        "\n",
        "total: 1268\n",
        "\n",
        "bleu: 0.07790628280631366"
      ],
      "metadata": {
        "id": "zR185KWCZ93c"
      }
    },
    {
      "cell_type": "markdown",
      "source": [
        "### epochs = 20, batch size = 64, embedding feature number = 500, dropout with p = 0.1, LR = 0.001, hidden feature number of LSTM = 512, add 1 dense_output \n",
        "\n",
        "total: 1268\n",
        "\n",
        "bleu: 0.09107447172513936"
      ],
      "metadata": {
        "id": "yiG4mzwHFjQS"
      }
    },
    {
      "cell_type": "markdown",
      "source": [
        "### epochs = 20, batch size = 64, embedding feature number = 500, dropout with p = 0.2, LR = 0.001, hidden feature number of LSTM = 516.\n",
        "\n",
        "total: 1268\n",
        "\n",
        "bleu: 0.09593219314336811"
      ],
      "metadata": {
        "id": "OuZBCe7FieyY"
      }
    },
    {
      "cell_type": "markdown",
      "source": [
        "### epochs = 20, batch size = 64, embedding feature number = 500, dropout with p = 0.2, LR = 0.001, hidden feature number of LSTM = 512.\n",
        "\n",
        "total: 1268\n",
        "\n",
        "bleu: 0.10033195446730946"
      ],
      "metadata": {
        "id": "5cioPXUWkQ-N"
      }
    }
  ],
  "metadata": {
    "accelerator": "GPU",
    "colab": {
      "collapsed_sections": [
        "BtyEzTJCNz-8",
        "VryCbvYsNjJ7",
        "cEuanflQPNe3",
        "H4-D2N4-ZiRE",
        "QgujYdiCuWPO"
      ],
      "machine_shape": "hm",
      "name": "Problem3_Labwork6.ipynb",
      "provenance": []
    },
    "gpuClass": "standard",
    "kernelspec": {
      "display_name": "Python 3",
      "name": "python3"
    },
    "language_info": {
      "name": "python"
    }
  },
  "nbformat": 4,
  "nbformat_minor": 0
}